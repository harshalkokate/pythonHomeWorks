{
 "cells": [
  {
   "cell_type": "code",
   "execution_count": 1,
   "metadata": {},
   "outputs": [
    {
     "data": {
      "text/plain": [
       "12"
      ]
     },
     "execution_count": 1,
     "metadata": {},
     "output_type": "execute_result"
    }
   ],
   "source": [
    "3*4"
   ]
  },
  {
   "cell_type": "code",
   "execution_count": 2,
   "metadata": {},
   "outputs": [
    {
     "data": {
      "text/plain": [
       "0.125"
      ]
     },
     "execution_count": 2,
     "metadata": {},
     "output_type": "execute_result"
    }
   ],
   "source": [
    "1 / (2**3)"
   ]
  },
  {
   "cell_type": "code",
   "execution_count": 3,
   "metadata": {},
   "outputs": [
    {
     "data": {
      "text/plain": [
       "8"
      ]
     },
     "execution_count": 3,
     "metadata": {},
     "output_type": "execute_result"
    }
   ],
   "source": [
    "(5 - 3)*4"
   ]
  },
  {
   "cell_type": "code",
   "execution_count": 4,
   "metadata": {},
   "outputs": [
    {
     "data": {
      "text/plain": [
       "2"
      ]
     },
     "execution_count": 4,
     "metadata": {},
     "output_type": "execute_result"
    }
   ],
   "source": [
    "7//3"
   ]
  },
  {
   "cell_type": "code",
   "execution_count": 5,
   "metadata": {},
   "outputs": [
    {
     "data": {
      "text/plain": [
       "1"
      ]
     },
     "execution_count": 5,
     "metadata": {},
     "output_type": "execute_result"
    }
   ],
   "source": [
    "7%3"
   ]
  },
  {
   "cell_type": "code",
   "execution_count": 6,
   "metadata": {},
   "outputs": [
    {
     "data": {
      "text/plain": [
       "1"
      ]
     },
     "execution_count": 6,
     "metadata": {},
     "output_type": "execute_result"
    }
   ],
   "source": [
    "5//5"
   ]
  },
  {
   "cell_type": "code",
   "execution_count": 7,
   "metadata": {},
   "outputs": [
    {
     "ename": "SyntaxError",
     "evalue": "invalid syntax (<ipython-input-7-3dce0c36c184>, line 1)",
     "output_type": "error",
     "traceback": [
      "\u001b[0;36m  File \u001b[0;32m\"<ipython-input-7-3dce0c36c184>\"\u001b[0;36m, line \u001b[0;32m1\u001b[0m\n\u001b[0;31m    sales.2008 = 1\u001b[0m\n\u001b[0m             ^\u001b[0m\n\u001b[0;31mSyntaxError\u001b[0m\u001b[0;31m:\u001b[0m invalid syntax\n"
     ]
    }
   ],
   "source": [
    "sales.2008"
   ]
  },
  {
   "cell_type": "code",
   "execution_count": 9,
   "metadata": {},
   "outputs": [
    {
     "data": {
      "text/plain": [
       "1"
      ]
     },
     "execution_count": 9,
     "metadata": {},
     "output_type": "execute_result"
    }
   ],
   "source": [
    "fOrM_1040 = 1\n",
    "fOrM_1040"
   ]
  },
  {
   "cell_type": "code",
   "execution_count": 11,
   "metadata": {},
   "outputs": [
    {
     "ename": "SyntaxError",
     "evalue": "invalid syntax (<ipython-input-11-8a44d273d0e5>, line 1)",
     "output_type": "error",
     "traceback": [
      "\u001b[0;36m  File \u001b[0;32m\"<ipython-input-11-8a44d273d0e5>\"\u001b[0;36m, line \u001b[0;32m1\u001b[0m\n\u001b[0;31m    expenses? = 1\u001b[0m\n\u001b[0m            ^\u001b[0m\n\u001b[0;31mSyntaxError\u001b[0m\u001b[0;31m:\u001b[0m invalid syntax\n"
     ]
    }
   ],
   "source": [
    "expenses? = 1"
   ]
  },
  {
   "cell_type": "code",
   "execution_count": 13,
   "metadata": {},
   "outputs": [
    {
     "data": {
      "text/plain": [
       "10"
      ]
     },
     "execution_count": 13,
     "metadata": {},
     "output_type": "execute_result"
    }
   ],
   "source": [
    "a = 2\n",
    "b = 3\n",
    "c = 4\n",
    "(a * b) + c"
   ]
  },
  {
   "cell_type": "code",
   "execution_count": 14,
   "metadata": {},
   "outputs": [
    {
     "data": {
      "text/plain": [
       "16"
      ]
     },
     "execution_count": 14,
     "metadata": {},
     "output_type": "execute_result"
    }
   ],
   "source": [
    "(1 + b) * c"
   ]
  },
  {
   "cell_type": "code",
   "execution_count": 15,
   "metadata": {},
   "outputs": [
    {
     "data": {
      "text/plain": [
       "9"
      ]
     },
     "execution_count": 15,
     "metadata": {},
     "output_type": "execute_result"
    }
   ],
   "source": [
    "b ** (c - a)"
   ]
  },
  {
   "cell_type": "code",
   "execution_count": 16,
   "metadata": {},
   "outputs": [
    {
     "data": {
      "text/plain": [
       "12.8"
      ]
     },
     "execution_count": 16,
     "metadata": {},
     "output_type": "execute_result"
    }
   ],
   "source": [
    "7.8 + 5"
   ]
  },
  {
   "cell_type": "code",
   "execution_count": 34,
   "metadata": {},
   "outputs": [
    {
     "data": {
      "text/plain": [
       "1.1"
      ]
     },
     "execution_count": 34,
     "metadata": {},
     "output_type": "execute_result"
    }
   ],
   "source": [
    "20 * (5.5/100)"
   ]
  },
  {
   "cell_type": "code",
   "execution_count": 35,
   "metadata": {},
   "outputs": [
    {
     "data": {
      "text/plain": [
       "2805"
      ]
     },
     "execution_count": 35,
     "metadata": {},
     "output_type": "execute_result"
    }
   ],
   "source": [
    "17*(3+162) 68, 69, 72, 73, 77, 78"
   ]
  },
  {
   "cell_type": "code",
   "execution_count": 25,
   "metadata": {},
   "outputs": [
    {
     "name": "stdout",
     "output_type": "stream",
     "text": [
      "Profit is : 50.0%\n"
     ]
    }
   ],
   "source": [
    "purchasePrice = 10\n",
    "sellingPrice = 15\n",
    "percentProfit = 100 * ((sellingPrice - purchasePrice)/purchasePrice)\n",
    "print(\"Profit is : \"+str(percentProfit) + \"%\")"
   ]
  },
  {
   "cell_type": "code",
   "execution_count": 28,
   "metadata": {},
   "outputs": [
    {
     "name": "stdout",
     "output_type": "stream",
     "text": [
      "How many acres to farm :30\n",
      "540.0 Tons can be grown on 30.0 acres.\n"
     ]
    }
   ],
   "source": [
    "acre_to_produce = float(input(\"How many acres to farm :\"))\n",
    "#ton of productivity\n",
    "acre_productivity = 18\n",
    "# acre produced \n",
    "acres_produced = acre_productivity * acre_to_produce\n",
    "print(str(acres_produced)+\" Tons can be grown on \"+str(acre_to_produce)+\" acres.\")"
   ]
  },
  {
   "cell_type": "code",
   "execution_count": 30,
   "metadata": {},
   "outputs": [
    {
     "name": "stdout",
     "output_type": "stream",
     "text": [
      "24.5 mpg is the car average between two fillings.\n"
     ]
    }
   ],
   "source": [
    "first_refill = 23352\n",
    "second_refill = 23695\n",
    "fuel_quantity_refilled = 14\n",
    "miles_covered = second_refill - first_refill\n",
    "mileage = miles_covered/fuel_quantity_refilled\n",
    "print(str(mileage)+\" mpg is the car average between two fillings.\")"
   ]
  },
  {
   "cell_type": "code",
   "execution_count": 43,
   "metadata": {},
   "outputs": [
    {
     "name": "stdout",
     "output_type": "stream",
     "text": [
      "183,960,000 million gallons of water used each year in US.\n"
     ]
    }
   ],
   "source": [
    "avg_per_person = 1600\n",
    "current_population = 315000000\n",
    "days_in_year = 365\n",
    "oneMillion = 1000000\n",
    "oneDay_waterUsage = current_population * avg_per_person\n",
    "yearly_waterUsage = oneDay_waterUsage * days_in_year\n",
    "millions = yearly_waterUsage / oneMillion\n",
    "\n",
    "print(\"{:,}\".format(int(millions))+\" million gallons of water is used each year in US.\")\n"
   ]
  },
  {
   "cell_type": "code",
   "execution_count": 37,
   "metadata": {},
   "outputs": [
    {
     "data": {
      "text/plain": [
       "18396.0"
      ]
     },
     "execution_count": 37,
     "metadata": {},
     "output_type": "execute_result"
    }
   ],
   "source": [
    "18396000000/1000000"
   ]
  },
  {
   "cell_type": "code",
   "execution_count": 46,
   "metadata": {},
   "outputs": [
    {
     "name": "stdout",
     "output_type": "stream",
     "text": [
      "53185 per capita national debt.\n"
     ]
    }
   ],
   "source": [
    "US_debt = 1.68 * (10 ** 13)\n",
    "US_popul = 3.1588 * (10 ** 8)\n",
    "\n",
    "national_debt = round(US_debt/US_popul)\n",
    "print(str(national_debt)+\" per capita national debt.\")"
   ]
  },
  {
   "cell_type": "code",
   "execution_count": 50,
   "metadata": {},
   "outputs": [
    {
     "name": "stdout",
     "output_type": "stream",
     "text": [
      "256,608 calories in one cubic mile of chocalate ice cream.\n"
     ]
    }
   ],
   "source": [
    "oneCubic_choc = 48600 #calroies \n",
    "oneMile = 5280 #feet\n",
    "thousand = 1000\n",
    "oneCubicMile = oneCubic_choc * oneMile\n",
    "inThousand_calories = oneCubicMile/thousand\n",
    "print(\"{:,}\".format(int(inThousand_calories))+\" calories in one cubic mile of chocalate ice cream.\")"
   ]
  },
  {
   "cell_type": "code",
   "execution_count": 51,
   "metadata": {},
   "outputs": [
    {
     "data": {
      "text/plain": [
       "1"
      ]
     },
     "execution_count": 51,
     "metadata": {},
     "output_type": "execute_result"
    }
   ],
   "source": [
    "\"all clear\".title().count('a')"
   ]
  },
  {
   "cell_type": "code",
   "execution_count": 52,
   "metadata": {},
   "outputs": [
    {
     "name": "stdout",
     "output_type": "stream",
     "text": [
      "12\n",
      "MUNICIPALITY\n",
      "city\n",
      "6\n"
     ]
    }
   ],
   "source": [
    "a = 4 \n",
    "b= 6\n",
    "c = \"Municipality\"\n",
    "d = \"pal\"\n",
    "print(len(c))\n",
    "print(c.upper())\n",
    "print(c[a:b] + c[b + 4:])\n",
    "print(c.find(d))"
   ]
  },
  {
   "cell_type": "code",
   "execution_count": 53,
   "metadata": {},
   "outputs": [
    {
     "name": "stdout",
     "output_type": "stream",
     "text": [
      "flute\n"
     ]
    }
   ],
   "source": [
    "print(\"f\" + \"lute\")"
   ]
  },
  {
   "cell_type": "code",
   "execution_count": 54,
   "metadata": {},
   "outputs": [
    {
     "name": "stdout",
     "output_type": "stream",
     "text": [
      "Your age is 21.\n"
     ]
    }
   ],
   "source": [
    "print(\"Your age is \" + str(21) + \".\")"
   ]
  },
  {
   "cell_type": "code",
   "execution_count": 56,
   "metadata": {},
   "outputs": [
    {
     "name": "stdout",
     "output_type": "stream",
     "text": [
      "A ROSE IS A ROSE IS A ROSE\n"
     ]
    }
   ],
   "source": [
    "r = \"A ROSE\" \n",
    "b = \" IS \"\n",
    "print(r + b + r + b + r)"
   ]
  },
  {
   "cell_type": "code",
   "execution_count": 57,
   "metadata": {},
   "outputs": [
    {
     "name": "stdout",
     "output_type": "stream",
     "text": [
      "WALLAWALLA\n"
     ]
    }
   ],
   "source": [
    "var = \"WALLA\" \n",
    "var += var \n",
    "print(var)"
   ]
  },
  {
   "cell_type": "code",
   "execution_count": 58,
   "metadata": {},
   "outputs": [
    {
     "name": "stdout",
     "output_type": "stream",
     "text": [
      "goodbye\n"
     ]
    }
   ],
   "source": [
    "str1 = \"good\" \n",
    "str1 += \"bye\"\n",
    "print(str1)"
   ]
  },
  {
   "cell_type": "code",
   "execution_count": 59,
   "metadata": {},
   "outputs": [
    {
     "name": "stdout",
     "output_type": "stream",
     "text": [
      "Mmmmmmm.\n"
     ]
    }
   ],
   "source": [
    "print('M' + ('m' * 6) + '.')"
   ]
  },
  {
   "cell_type": "code",
   "execution_count": 60,
   "metadata": {},
   "outputs": [
    {
     "name": "stdout",
     "output_type": "stream",
     "text": [
      "a     b\n"
     ]
    }
   ],
   "source": [
    "print('a' +(\" \" * 5)+ 'b')"
   ]
  },
  {
   "cell_type": "code",
   "execution_count": 62,
   "metadata": {},
   "outputs": [
    {
     "name": "stdout",
     "output_type": "stream",
     "text": [
      "76 trombones\n"
     ]
    }
   ],
   "source": [
    "s = \"trombones\" \n",
    "n = 76\n",
    "print(n, s)"
   ]
  },
  {
   "cell_type": "code",
   "execution_count": 63,
   "metadata": {},
   "outputs": [
    {
     "name": "stdout",
     "output_type": "stream",
     "text": [
      "Enter an integer: 7\n",
      "17\n"
     ]
    }
   ],
   "source": [
    "num = input(\"Enter an integer: \")\n",
    "print('1' + str(num))"
   ]
  },
  {
   "cell_type": "code",
   "execution_count": 64,
   "metadata": {},
   "outputs": [
    {
     "name": "stdout",
     "output_type": "stream",
     "text": [
      "Enter a number: 7\n",
      "8.0\n"
     ]
    }
   ],
   "source": [
    "num = float(input(\"Enter a number: \"))\n",
    "print(1 + num)"
   ]
  },
  {
   "cell_type": "code",
   "execution_count": 65,
   "metadata": {},
   "outputs": [
    {
     "name": "stdout",
     "output_type": "stream",
     "text": [
      "The Great 9\n"
     ]
    }
   ],
   "source": [
    "film = \"the great gatsby\".title()[:10].rstrip()\n",
    "print(film, len(film))"
   ]
  },
  {
   "cell_type": "code",
   "execution_count": 66,
   "metadata": {},
   "outputs": [
    {
     "data": {
      "text/plain": [
       "'n'"
      ]
     },
     "execution_count": 66,
     "metadata": {},
     "output_type": "execute_result"
    }
   ],
   "source": [
    "avenger = 'IronMan'\n",
    "last_char = avenger[-1]\n",
    "print(last_char)"
   ]
  },
  {
   "cell_type": "code",
   "execution_count": 70,
   "metadata": {},
   "outputs": [
    {
     "name": "stdout",
     "output_type": "stream",
     "text": [
      "I\n"
     ]
    }
   ],
   "source": [
    "avenger = 'IronMan'\n",
    "last_char = avenger[0]\n",
    "print(last_char)"
   ]
  },
  {
   "cell_type": "code",
   "execution_count": 71,
   "metadata": {},
   "outputs": [
    {
     "data": {
      "text/plain": [
       "'n'"
      ]
     },
     "execution_count": 71,
     "metadata": {},
     "output_type": "execute_result"
    }
   ],
   "source": [
    "avenger[7-1:]"
   ]
  },
  {
   "cell_type": "code",
   "execution_count": 72,
   "metadata": {},
   "outputs": [
    {
     "data": {
      "text/plain": [
       "'an'"
      ]
     },
     "execution_count": 72,
     "metadata": {},
     "output_type": "execute_result"
    }
   ],
   "source": [
    "avenger[7-2:]"
   ]
  },
  {
   "cell_type": "code",
   "execution_count": 73,
   "metadata": {},
   "outputs": [
    {
     "ename": "TypeError",
     "evalue": "must be str, not int",
     "output_type": "error",
     "traceback": [
      "\u001b[0;31m---------------------------------------------------------------------------\u001b[0m",
      "\u001b[0;31mTypeError\u001b[0m                                 Traceback (most recent call last)",
      "\u001b[0;32m<ipython-input-73-5a81631b2935>\u001b[0m in \u001b[0;36m<module>\u001b[0;34m()\u001b[0m\n\u001b[1;32m      1\u001b[0m \u001b[0mphoneNumber\u001b[0m \u001b[0;34m=\u001b[0m \u001b[0;36m234\u001b[0m\u001b[0;34m-\u001b[0m\u001b[0;36m5678\u001b[0m\u001b[0;34m\u001b[0m\u001b[0m\n\u001b[0;32m----> 2\u001b[0;31m \u001b[0mprint\u001b[0m\u001b[0;34m(\u001b[0m\u001b[0;34m\"My phone number is \"\u001b[0m \u001b[0;34m+\u001b[0m \u001b[0mphoneNumber\u001b[0m\u001b[0;34m)\u001b[0m\u001b[0;34m\u001b[0m\u001b[0m\n\u001b[0m",
      "\u001b[0;31mTypeError\u001b[0m: must be str, not int"
     ]
    }
   ],
   "source": [
    "phoneNumber = 234-5678\n",
    "print(\"My phone number is \" + phoneNumber)"
   ]
  },
  {
   "cell_type": "code",
   "execution_count": 75,
   "metadata": {},
   "outputs": [
    {
     "ename": "SyntaxError",
     "evalue": "invalid syntax (<ipython-input-75-8ec8d336fb4b>, line 1)",
     "output_type": "error",
     "traceback": [
      "\u001b[0;36m  File \u001b[0;32m\"<ipython-input-75-8ec8d336fb4b>\"\u001b[0;36m, line \u001b[0;32m1\u001b[0m\n\u001b[0;31m    for = \"happily ever after.\"\u001b[0m\n\u001b[0m        ^\u001b[0m\n\u001b[0;31mSyntaxError\u001b[0m\u001b[0;31m:\u001b[0m invalid syntax\n"
     ]
    }
   ],
   "source": [
    "for = \"happily ever after.\" \n",
    "print(\"They lived \" + for)"
   ]
  },
  {
   "cell_type": "code",
   "execution_count": 76,
   "metadata": {},
   "outputs": [
    {
     "ename": "SyntaxError",
     "evalue": "invalid syntax (<ipython-input-76-57ef60f80269>, line 1)",
     "output_type": "error",
     "traceback": [
      "\u001b[0;36m  File \u001b[0;32m\"<ipython-input-76-57ef60f80269>\"\u001b[0;36m, line \u001b[0;32m1\u001b[0m\n\u001b[0;31m    print('Say it ain't so.')\u001b[0m\n\u001b[0m                      ^\u001b[0m\n\u001b[0;31mSyntaxError\u001b[0m\u001b[0;31m:\u001b[0m invalid syntax\n"
     ]
    }
   ],
   "source": [
    "print('Say it ain't so.')"
   ]
  },
  {
   "cell_type": "code",
   "execution_count": 77,
   "metadata": {},
   "outputs": [
    {
     "ename": "AttributeError",
     "evalue": "'str' object has no attribute 'Upper'",
     "output_type": "error",
     "traceback": [
      "\u001b[0;31m---------------------------------------------------------------------------\u001b[0m",
      "\u001b[0;31mAttributeError\u001b[0m                            Traceback (most recent call last)",
      "\u001b[0;32m<ipython-input-77-7135e540ed3e>\u001b[0m in \u001b[0;36m<module>\u001b[0;34m()\u001b[0m\n\u001b[0;32m----> 1\u001b[0;31m \u001b[0mprint\u001b[0m\u001b[0;34m(\u001b[0m\u001b[0;34m\"Python\"\u001b[0m\u001b[0;34m.\u001b[0m\u001b[0mUpper\u001b[0m\u001b[0;34m(\u001b[0m\u001b[0;34m)\u001b[0m\u001b[0;34m)\u001b[0m\u001b[0;34m\u001b[0m\u001b[0m\n\u001b[0m",
      "\u001b[0;31mAttributeError\u001b[0m: 'str' object has no attribute 'Upper'"
     ]
    }
   ],
   "source": [
    "print(\"Python\".Upper())"
   ]
  },
  {
   "cell_type": "code",
   "execution_count": 78,
   "metadata": {},
   "outputs": [
    {
     "ename": "TypeError",
     "evalue": "must be str, not int",
     "output_type": "error",
     "traceback": [
      "\u001b[0;31m---------------------------------------------------------------------------\u001b[0m",
      "\u001b[0;31mTypeError\u001b[0m                                 Traceback (most recent call last)",
      "\u001b[0;32m<ipython-input-78-18714ae8832e>\u001b[0m in \u001b[0;36m<module>\u001b[0;34m()\u001b[0m\n\u001b[1;32m      1\u001b[0m \u001b[0mage\u001b[0m \u001b[0;34m=\u001b[0m \u001b[0;36m19\u001b[0m\u001b[0;34m\u001b[0m\u001b[0m\n\u001b[0;32m----> 2\u001b[0;31m \u001b[0mprint\u001b[0m\u001b[0;34m(\u001b[0m\u001b[0;34m\"Age: \"\u001b[0m \u001b[0;34m+\u001b[0m \u001b[0mage\u001b[0m\u001b[0;34m)\u001b[0m\u001b[0;34m\u001b[0m\u001b[0m\n\u001b[0m",
      "\u001b[0;31mTypeError\u001b[0m: must be str, not int"
     ]
    }
   ],
   "source": [
    "age = 19\n",
    "print(\"Age: \" + age)"
   ]
  },
  {
   "cell_type": "code",
   "execution_count": 80,
   "metadata": {},
   "outputs": [
    {
     "ename": "AttributeError",
     "evalue": "'int' object has no attribute 'find'",
     "output_type": "error",
     "traceback": [
      "\u001b[0;31m---------------------------------------------------------------------------\u001b[0m",
      "\u001b[0;31mAttributeError\u001b[0m                            Traceback (most recent call last)",
      "\u001b[0;32m<ipython-input-80-05791ff28e93>\u001b[0m in \u001b[0;36m<module>\u001b[0;34m()\u001b[0m\n\u001b[1;32m      1\u001b[0m \u001b[0mnum\u001b[0m \u001b[0;34m=\u001b[0m \u001b[0;36m1234\u001b[0m\u001b[0;34m\u001b[0m\u001b[0m\n\u001b[0;32m----> 2\u001b[0;31m \u001b[0mprint\u001b[0m\u001b[0;34m(\u001b[0m\u001b[0mnum\u001b[0m\u001b[0;34m.\u001b[0m\u001b[0mfind\u001b[0m\u001b[0;34m(\u001b[0m\u001b[0;34m'2'\u001b[0m\u001b[0;34m)\u001b[0m\u001b[0;34m)\u001b[0m\u001b[0;34m\u001b[0m\u001b[0m\n\u001b[0m",
      "\u001b[0;31mAttributeError\u001b[0m: 'int' object has no attribute 'find'"
     ]
    }
   ],
   "source": [
    "num = 1234 \n",
    "print(num.find('2'))"
   ]
  },
  {
   "cell_type": "code",
   "execution_count": 81,
   "metadata": {},
   "outputs": [
    {
     "ename": "IndexError",
     "evalue": "string index out of range",
     "output_type": "error",
     "traceback": [
      "\u001b[0;31m---------------------------------------------------------------------------\u001b[0m",
      "\u001b[0;31mIndexError\u001b[0m                                Traceback (most recent call last)",
      "\u001b[0;32m<ipython-input-81-9d78cf856691>\u001b[0m in \u001b[0;36m<module>\u001b[0;34m()\u001b[0m\n\u001b[1;32m      1\u001b[0m \u001b[0mlanguage\u001b[0m \u001b[0;34m=\u001b[0m \u001b[0;34m\"Python\"\u001b[0m\u001b[0;34m\u001b[0m\u001b[0m\n\u001b[0;32m----> 2\u001b[0;31m \u001b[0mprint\u001b[0m\u001b[0;34m(\u001b[0m\u001b[0mlanguage\u001b[0m\u001b[0;34m[\u001b[0m\u001b[0;36m8\u001b[0m\u001b[0;34m]\u001b[0m\u001b[0;34m)\u001b[0m\u001b[0;34m\u001b[0m\u001b[0m\n\u001b[0m",
      "\u001b[0;31mIndexError\u001b[0m: string index out of range"
     ]
    }
   ],
   "source": [
    "language = \"Python\" \n",
    "print(language[8])"
   ]
  },
  {
   "cell_type": "code",
   "execution_count": 1,
   "metadata": {},
   "outputs": [
    {
     "name": "stdout",
     "output_type": "stream",
     "text": [
      "Enter number of seconds between lightning and Thunder: 1.25\n",
      "Distance from the storm: 0.25 miles\n"
     ]
    }
   ],
   "source": [
    "lt_sec = float(input(\"Enter number of seconds between lightning and Thunder: \"))\n",
    "print(\"Distance from the storm: {0:.2f} miles\".format(lt_sec/5))"
   ]
  },
  {
   "cell_type": "code",
   "execution_count": 2,
   "metadata": {},
   "outputs": [
    {
     "name": "stdout",
     "output_type": "stream",
     "text": [
      "Enter wattage: 100\n",
      "Enter number of hours used: 720\n",
      "Enter price per kWh in cents: 11.76\n",
      "Cost of electricity: $6.12\n"
     ]
    }
   ],
   "source": [
    "e_wattage = float(input(\"Enter wattage: \"))\n",
    "e_hrs = float(input(\"Enter number of hours used: \"))\n",
    "e_pkwh = float(input(\"Enter price per kWh in cents: \"))\n",
    "print(\"Cost of electricity: ${0:.2f}\".format((e_wattage * e_hrs)/(1000 * e_pkwh)))"
   ]
  },
  {
   "cell_type": "code",
   "execution_count": 4,
   "metadata": {},
   "outputs": [
    {
     "name": "stdout",
     "output_type": "stream",
     "text": [
      "Enter earnings per share: 5.25\n",
      "Enter price per share: 68.25\n",
      "Price-to-Earnings ratio: 13.0\n"
     ]
    }
   ],
   "source": [
    "e_perShare = float(input(\"Enter earnings per share: \"))\n",
    "e_pricePerShare = float(input(\"Enter price per share: \"))\n",
    "print(\"Price-to-Earnings ratio: {0:.1f}\".format(e_pricePerShare/e_perShare))"
   ]
  },
  {
   "cell_type": "code",
   "execution_count": null,
   "metadata": {},
   "outputs": [
    {
     "name": "stdout",
     "output_type": "stream",
     "text": [
      "Enter tax bracket (as decimal): 3.3\n",
      "Enter municipal bond interest rate (as %): 33\n",
      "Equivalent CD interest rate: -14.348%\n"
     ]
    }
   ],
   "source": [
    "t_bracket = float(input(\"Enter tax bracket (as decimal): \"))\n",
    "e_munciIntresRate = float(input(\"Enter municipal bond interest rate (as %): \"))\n",
    "print(\"Equivalent CD interest rate: {0:.3f}%\".format(e_munciIntresRate/(1 - t_bracket)))"
   ]
  },
  {
   "cell_type": "code",
   "execution_count": null,
   "metadata": {
    "collapsed": true
   },
   "outputs": [],
   "source": [
    "sentence = input(\"Enter a sentence: \")\n",
    "w_replace = input('Enter a word to replace: ')\n",
    "replacement_word = input(\"Enter replacement word: \")\n",
    "s_sen = sentence.split(' ')\n",
    "for sen in s_sen:\n",
    "    if sen == 'w_replace':\n",
    "        sen = replacement_word\n",
    "print((' ').join(s_sen))       "
   ]
  },
  {
   "cell_type": "code",
   "execution_count": 1,
   "metadata": {},
   "outputs": [
    {
     "name": "stdout",
     "output_type": "stream",
     "text": [
      "$1,234.00\n"
     ]
    }
   ],
   "source": [
    "print(\"${0:,.2f}\".format(1234))"
   ]
  },
  {
   "cell_type": "code",
   "execution_count": 2,
   "metadata": {},
   "outputs": [
    {
     "name": "stdout",
     "output_type": "stream",
     "text": [
      "Language  Native speakers  % of World Pop.\n",
      "Mandarin    935,000,000       14.10%\n",
      "Spanish     387,000,000        5.85%\n",
      "English     365,000,000        5.52%\n"
     ]
    }
   ],
   "source": [
    "print(\"{0:10s}{1:^16s} {2:s}\".format(\"Language\", \"Native speakers\", \"% of World Pop.\"))\n",
    "print(\"{0:10s}{1:^16,d}{2:10.2%}\".format(\"Mandarin\", 935000000,.141))\n",
    "print(\"{0:10s}{1:^16,d}{2:10.2%}\".format(\"Spanish\", 387000000,.0585))\n",
    "print(\"{0:10s}{1:^16,d}{2:10.2%}\".format(\"English\", 365000000,.0552))"
   ]
  },
  {
   "cell_type": "code",
   "execution_count": 3,
   "metadata": {},
   "outputs": [
    {
     "name": "stdout",
     "output_type": "stream",
     "text": [
      "Be yourself – everyone else is taken.\n"
     ]
    }
   ],
   "source": [
    "print(\"Be {0:s} – {1:s} else is taken.\".format(\"yourself\", \"everyone\"))"
   ]
  },
  {
   "cell_type": "code",
   "execution_count": 4,
   "metadata": {},
   "outputs": [
    {
     "name": "stdout",
     "output_type": "stream",
     "text": [
      "Always look on the bright side of life.\n"
     ]
    }
   ],
   "source": [
    "print(\"Always {0:s} on the bright side of {1:s}.\".format(\"look\", \"life\"))"
   ]
  },
  {
   "cell_type": "code",
   "execution_count": 5,
   "metadata": {},
   "outputs": [
    {
     "name": "stdout",
     "output_type": "stream",
     "text": [
      "The product of 3 and 4 is 12.\n"
     ]
    }
   ],
   "source": [
    "x = 3 \n",
    "y= 4\n",
    "print(\"The product of {0:d} and {1:d} is {2:d}.\".format(x, y, x * y))"
   ]
  },
  {
   "cell_type": "code",
   "execution_count": 6,
   "metadata": {},
   "outputs": [
    {
     "name": "stdout",
     "output_type": "stream",
     "text": [
      "The square root of 2 is about 1.4142.\n"
     ]
    }
   ],
   "source": [
    "x = 2 # square root of 2 is 1.414213562 to 9 decimal places \n",
    "print(\"The square root of {0:n} is about {1:.4f}.\".format(x, x ** .5))"
   ]
  },
  {
   "cell_type": "code",
   "execution_count": 10,
   "metadata": {},
   "outputs": [
    {
     "name": "stdout",
     "output_type": "stream",
     "text": [
      "In a randomly selected group of 23 people, the probability\n",
      "is 0.51 that 2 people have the same birthday.\n"
     ]
    }
   ],
   "source": [
    "str1 = \"In a randomly selected group of {0:d} people, the \" + \\\n",
    "        \"probability\\nis {1:.2f} that 2 people have the same birthday.\"\n",
    "print(str1.format(23, .507397))"
   ]
  },
  {
   "cell_type": "code",
   "execution_count": 48,
   "metadata": {},
   "outputs": [
    {
     "name": "stdout",
     "output_type": "stream",
     "text": [
      "You miss 100% of the shots you never take. - Wayne Gretsky\n"
     ]
    }
   ],
   "source": [
    "str1 = \"You miss {0:.0%} of the shots you never take. - Wayne Gretsky\" \n",
    "print(str1.format(1))"
   ]
  },
  {
   "cell_type": "code",
   "execution_count": 13,
   "metadata": {},
   "outputs": [
    {
     "name": "stdout",
     "output_type": "stream",
     "text": [
      "22.28% of the UN nations are in Europe.\n"
     ]
    }
   ],
   "source": [
    "# 43/193 is .2227979275 to 10 decimal places\n",
    "print(\"{0:.2%} of the UN nations are in {1:s}.\".format(43/193, \"Europe\"))"
   ]
  },
  {
   "cell_type": "code",
   "execution_count": 14,
   "metadata": {},
   "outputs": [
    {
     "name": "stdout",
     "output_type": "stream",
     "text": [
      "abracadabra\n"
     ]
    }
   ],
   "source": [
    "print(\"{0:s}{1:s}{0:s}\".format(\"abra\", \"cad\"))"
   ]
  },
  {
   "cell_type": "code",
   "execution_count": 15,
   "metadata": {},
   "outputs": [
    {
     "name": "stdout",
     "output_type": "stream",
     "text": [
      "Be kind whenever possible. It is always possible. - Dalai Lama\n"
     ]
    }
   ],
   "source": [
    "str1 = \"Be {0:s} whenever {1:s}. It is always {1:s}. - Dalai Lama\" \n",
    "print(str1.format(\"kind\", \"possible\"))"
   ]
  },
  {
   "cell_type": "code",
   "execution_count": 16,
   "metadata": {},
   "outputs": [
    {
     "name": "stdout",
     "output_type": "stream",
     "text": [
      "Hello\n"
     ]
    }
   ],
   "source": [
    "print('Hello')"
   ]
  },
  {
   "cell_type": "code",
   "execution_count": 17,
   "metadata": {},
   "outputs": [
    {
     "name": "stdout",
     "output_type": "stream",
     "text": [
      "Hello\n"
     ]
    }
   ],
   "source": [
    "print('Hello', end = '\\n')"
   ]
  },
  {
   "cell_type": "code",
   "execution_count": 53,
   "metadata": {},
   "outputs": [
    {
     "name": "stdout",
     "output_type": "stream",
     "text": [
      "Salary after 10% hike: $110,000.00\n",
      "Salary after 10% cut: $99,000.00\n",
      "Percent change from current salary: -1.01%\n"
     ]
    }
   ],
   "source": [
    "current_salary = 100000\n",
    "hikeCut_percentage = 0.10\n",
    "tenPer_hike = current_salary * (1 + hikeCut_percentage)\n",
    "tenPer_cut = tenPer_hike * (1 - hikeCut_percentage)\n",
    "perChange = ((tenPer_cut - current_salary)/ tenPer_cut)\n",
    "print(\"Salary after 10% hike: ${0:,.2f}\".format(round(tenPer_hike)))\n",
    "print(\"Salary after 10% cut: ${0:,.2f}\".format(round(tenPer_cut)))\n",
    "print(\"Percent change from current salary: {0:.2%}\".format(perChange))"
   ]
  },
  {
   "cell_type": "code",
   "execution_count": 55,
   "metadata": {},
   "outputs": [
    {
     "name": "stdout",
     "output_type": "stream",
     "text": [
      "Enter principle amount: 1000\n",
      "Enter the rate of interest without \"%\" sign: 5\n",
      "Enter investment time in years: 3\n",
      "Future value: $1,157.63\n"
     ]
    }
   ],
   "source": [
    "principal_amount = float(input(\"Enter principle amount: \"))\n",
    "rate = float(input('Enter the rate of interest without \"%\" sign: '))\n",
    "investment_time = float(input('Enter investment time in years: '))\n",
    "\n",
    "future_value = principal_amount * ((1 + (rate/100))**investment_time)\n",
    "\n",
    "print(\"Future value: ${0:,.2f}\".format(future_value))"
   ]
  },
  {
   "cell_type": "code",
   "execution_count": 57,
   "metadata": {},
   "outputs": [
    {
     "name": "stdout",
     "output_type": "stream",
     "text": [
      "Enter future value: 10000\n",
      "Enter the rate of interest without \"%\" sign: 4\n",
      "Enter investment time in years: 6\n",
      "Present value: $7,903.15\n"
     ]
    }
   ],
   "source": [
    "future_value = float(input(\"Enter future value: \"))\n",
    "rate = float(input('Enter the rate of interest without \"%\" sign: '))\n",
    "investment_time = float(input('Enter investment time in years: '))\n",
    "\n",
    "present_value = future_value / ((1 + (rate/100))**investment_time)\n",
    "\n",
    "print(\"Present value: ${0:,.2f}\".format(present_value))"
   ]
  },
  {
   "cell_type": "code",
   "execution_count": 58,
   "metadata": {},
   "outputs": [
    {
     "data": {
      "text/plain": [
       "['Delaware',\n",
       " 'Pennsylvania',\n",
       " 'New Jersey',\n",
       " 'Georgia',\n",
       " 'Connecticut',\n",
       " 'Massachusetts',\n",
       " 'Maryland',\n",
       " 'South Carolina',\n",
       " 'New Hampshire',\n",
       " 'Virginia']"
      ]
     },
     "execution_count": 58,
     "metadata": {},
     "output_type": "execute_result"
    }
   ],
   "source": [
    "state= [\"Delaware\", \"Pennsylvania\", \"New Jersey\", \"Georgia\", \"Connecticut\", \"Massachusetts\", \"Maryland\", \"South Carolina\", \"New Hampshire\", \"Virginia\", \"New York\", \"North Carolina\", \"Rhode Island\", \"Vermont\", \"Kentucky\", \"Tennessee\", \"Ohio\", \"Louisiana\", \"Indiana\", \"Mississippi\", \"Illinois\", \"Alabama\", \"Maine\", \"Missouri\", \"Arkansas\", \"Michigan\", \"Florida\", \"Texas\", \"Iowa\", \"Wisconsin\", \"California\", \"Minnesota\", \"Oregon\", \"Kansas\", \"West Virginia\", \"Nevada\", \"Nebraska\", \"Colorado\", \"North Dakota\", \"South Dakota\", \"Montana\", \"Washington\", \"Idaho\", \"Wyoming\", \"Utah\", \"Oklahoma\", \"New Mexico\", \"Arizona\", \"Alaska\", \"Hawaii\"]"
   ]
  },
  {
   "cell_type": "code",
   "execution_count": 64,
   "metadata": {},
   "outputs": [
    {
     "name": "stdout",
     "output_type": "stream",
     "text": [
      "['Arizona', \"Seward's Folly\", 'Hawaii']\n"
     ]
    }
   ],
   "source": [
    "states= [\"Delaware\", \"Pennsylvania\", \"New Jersey\", \"Georgia\", \"Connecticut\", \"Massachusetts\", \"Maryland\", \"South Carolina\", \"New Hampshire\", \"Virginia\", \"New York\", \"North Carolina\", \"Rhode Island\", \"Vermont\", \"Kentucky\", \"Tennessee\", \"Ohio\", \"Louisiana\", \"Indiana\", \"Mississippi\", \"Illinois\", \"Alabama\", \"Maine\", \"Missouri\", \"Arkansas\", \"Michigan\", \"Florida\", \"Texas\", \"Iowa\", \"Wisconsin\", \"California\", \"Minnesota\", \"Oregon\", \"Kansas\", \"West Virginia\", \"Nevada\", \"Nebraska\", \"Colorado\", \"North Dakota\", \"South Dakota\", \"Montana\", \"Washington\", \"Idaho\", \"Wyoming\", \"Utah\", \"Oklahoma\", \"New Mexico\", \"Arizona\", \"Alaska\", \"Hawaii\"]\n",
    "del states[-2]\n",
    "states.insert(-1, \"Seward's Folly\")\n",
    "print(states[-3:])"
   ]
  },
  {
   "cell_type": "code",
   "execution_count": 65,
   "metadata": {},
   "outputs": [
    {
     "name": "stdout",
     "output_type": "stream",
     "text": [
      "['Delaware', 'Commonwealth of Pennsylvania', 'New Jersey']\n"
     ]
    }
   ],
   "source": [
    "states[1] = \"Commonwealth of Pennsylvania\"\n",
    "print(states[:3])"
   ]
  },
  {
   "cell_type": "code",
   "execution_count": 66,
   "metadata": {},
   "outputs": [
    {
     "name": "stdout",
     "output_type": "stream",
     "text": [
      "['New', 'Mexico']\n",
      "['New', 'Jersey']\n"
     ]
    }
   ],
   "source": [
    "print(states[-4].split()) \n",
    "print(states[2].split())"
   ]
  },
  {
   "cell_type": "code",
   "execution_count": 67,
   "metadata": {},
   "outputs": [
    {
     "name": "stdout",
     "output_type": "stream",
     "text": [
      "Commonwealth of Pennsylvania,New Jersey,Georgia\n"
     ]
    }
   ],
   "source": [
    "print((',').join(states[1:4]))"
   ]
  },
  {
   "cell_type": "code",
   "execution_count": 74,
   "metadata": {},
   "outputs": [
    {
     "data": {
      "text/plain": [
       "8"
      ]
     },
     "execution_count": 74,
     "metadata": {},
     "output_type": "execute_result"
    }
   ],
   "source": [
    "list1=[]\n",
    "for n in range(0,100):\n",
    "    list1.append(n)\n",
    "len(list1[-8:])"
   ]
  },
  {
   "cell_type": "code",
   "execution_count": 76,
   "metadata": {},
   "outputs": [
    {
     "data": {
      "text/plain": [
       "100"
      ]
     },
     "execution_count": 76,
     "metadata": {},
     "output_type": "execute_result"
    }
   ],
   "source": [
    "len(list1[:])"
   ]
  },
  {
   "cell_type": "code",
   "execution_count": 77,
   "metadata": {},
   "outputs": [
    {
     "data": {
      "text/plain": [
       "0"
      ]
     },
     "execution_count": 77,
     "metadata": {},
     "output_type": "execute_result"
    }
   ],
   "source": [
    "len(list1[8:8])"
   ]
  },
  {
   "cell_type": "code",
   "execution_count": 79,
   "metadata": {},
   "outputs": [
    {
     "name": "stdout",
     "output_type": "stream",
     "text": [
      "Largest Number: 8\n"
     ]
    }
   ],
   "source": [
    "nums = [6, 2, 8, 0]\n",
    "print(\"Largest Number:\", max(nums))"
   ]
  },
  {
   "cell_type": "code",
   "execution_count": 80,
   "metadata": {},
   "outputs": [
    {
     "name": "stdout",
     "output_type": "stream",
     "text": [
      "Total: 16\n"
     ]
    }
   ],
   "source": [
    "print(\"Total:\", sum(nums))"
   ]
  },
  {
   "cell_type": "code",
   "execution_count": 82,
   "metadata": {},
   "outputs": [
    {
     "name": "stdout",
     "output_type": "stream",
     "text": [
      "This sentence contains five words.\n",
      "This sentence contains six different words.\n"
     ]
    }
   ],
   "source": [
    "L = [\"sentence\", \"contains\", \"five\", \"words.\"] \n",
    "L.insert(0, \"This\")\n",
    "print(\" \".join (L))\n",
    "del L[3]\n",
    "L.insert(3, \"six\")\n",
    "L.insert(4, \"different\")\n",
    "print(\" \".join (L))"
   ]
  },
  {
   "cell_type": "code",
   "execution_count": 83,
   "metadata": {},
   "outputs": [
    {
     "name": "stdout",
     "output_type": "stream",
     "text": [
      "Enter name with two parts: Charles Babbage\n",
      "Babbage, Charles\n"
     ]
    }
   ],
   "source": [
    "name = input(\"Enter name with two parts: \") \n",
    "L = name.split()\n",
    "print(\"{0:s}, {1:s}\".format(L[1], L[0]))"
   ]
  },
  {
   "cell_type": "code",
   "execution_count": 84,
   "metadata": {},
   "outputs": [
    {
     "name": "stdout",
     "output_type": "stream",
     "text": [
      "Enter name with three parts: Guido van Rossum\n",
      "Middle Name: van\n"
     ]
    }
   ],
   "source": [
    "name = input(\"Enter name with three parts: \") \n",
    "L = name.split()\n",
    "print(\"Middle Name:\", L[1])"
   ]
  },
  {
   "cell_type": "code",
   "execution_count": 85,
   "metadata": {},
   "outputs": [
    {
     "name": "stdout",
     "output_type": "stream",
     "text": [
      "When in the course of human events\n"
     ]
    }
   ],
   "source": [
    "tuple1 = (\"course\", \"of\", \"human\", \"events\", \"When\", \"in\", \"the\") \n",
    "tuple2 = tuple1[4:] + tuple1[:4]\n",
    "print((\" \".join(tuple2)))"
   ]
  },
  {
   "cell_type": "code",
   "execution_count": 86,
   "metadata": {},
   "outputs": [
    {
     "name": "stdout",
     "output_type": "stream",
     "text": [
      "editor-in-chief\n"
     ]
    }
   ],
   "source": [
    "headEditor = [\"editor\", \"in\", \"chief\"] \n",
    "print(('-').join(headEditor))"
   ]
  },
  {
   "cell_type": "code",
   "execution_count": 87,
   "metadata": {},
   "outputs": [
    {
     "name": "stdout",
     "output_type": "stream",
     "text": [
      "e**pluribus**unum\n"
     ]
    }
   ],
   "source": [
    "motto = [\"e\", \"pluribus\", \"unum\"] \n",
    "print((\"**\").join(motto))"
   ]
  },
  {
   "cell_type": "code",
   "execution_count": 88,
   "metadata": {},
   "outputs": [
    {
     "name": "stdout",
     "output_type": "stream",
     "text": [
      "['New York', 'NY', 'Empire State', 'Albany']\n"
     ]
    }
   ],
   "source": [
    "state = \"New York,NY,Empire State,Albany\" \n",
    "stateFacts = state.split(',') \n",
    "print(stateFacts)"
   ]
  },
  {
   "cell_type": "code",
   "execution_count": 89,
   "metadata": {},
   "outputs": [
    {
     "name": "stdout",
     "output_type": "stream",
     "text": [
      "['France', 'England', 'Spain']\n"
     ]
    }
   ],
   "source": [
    "nations = \"France\\nEngland\\nSpain\\n\" \n",
    "countries = nations.split() \n",
    "print(countries)"
   ]
  },
  {
   "cell_type": "code",
   "execution_count": 107,
   "metadata": {},
   "outputs": [
    {
     "name": "stdout",
     "output_type": "stream",
     "text": [
      "programmer\n"
     ]
    }
   ],
   "source": [
    "# The three lines of Dev.txt contain mer, gram, pro \n",
    "infile = open(\"Dev.txt\", 'r')\n",
    "dev = [line.rstrip() for line in infile]\n",
    "infile.close()\n",
    "dev[0], dev[-1] = dev[-1], dev[0]\n",
    "word = (\"\").join(dev)\n",
    "print(word)"
   ]
  },
  {
   "cell_type": "code",
   "execution_count": 109,
   "metadata": {},
   "outputs": [
    {
     "name": "stdout",
     "output_type": "stream",
     "text": [
      "Live let live.\n"
     ]
    }
   ],
   "source": [
    "# The two lines of Live.txt contain Live, let \n",
    "infile = open(\"Live.txt\", 'r')\n",
    "words = [line.rstrip() for line in infile]\n",
    "infile.close()\n",
    "words.append(words[0].lower())\n",
    "quote = (\" \").join(words) + '.'\n",
    "print(quote)"
   ]
  },
  {
   "cell_type": "code",
   "execution_count": 111,
   "metadata": {},
   "outputs": [
    {
     "name": "stdout",
     "output_type": "stream",
     "text": [
      "Follow your own star\n"
     ]
    }
   ],
   "source": [
    "# The three lines of Star.txt contain your, own, star. \n",
    "infile = open(\"Star.txt\", 'r')\n",
    "words = [line.rstrip() for line in infile] \n",
    "infile.close()\n",
    "words.insert(0, \"Follow\")\n",
    "quote = (\" \").join(words)\n",
    "print(quote)"
   ]
  },
  {
   "cell_type": "code",
   "execution_count": 114,
   "metadata": {},
   "outputs": [
    {
     "name": "stdout",
     "output_type": "stream",
     "text": [
      "987-654-3219\n"
     ]
    }
   ],
   "source": [
    "phoneNumber = \"9876543219\"\n",
    "list1 = []\n",
    "for n in phoneNumber:\n",
    "    list1.append(n)\n",
    "#list1 = list(phoneNumber) \n",
    "list1.insert(3, '-') \n",
    "list1.insert(7, '-') \n",
    "phoneNumber = \"\".join(list1) \n",
    "print(phoneNumber)"
   ]
  },
  {
   "cell_type": "code",
   "execution_count": 115,
   "metadata": {},
   "outputs": [
    {
     "ename": "TypeError",
     "evalue": "'list' object is not callable",
     "output_type": "error",
     "traceback": [
      "\u001b[0;31m---------------------------------------------------------------------------\u001b[0m",
      "\u001b[0;31mTypeError\u001b[0m                                 Traceback (most recent call last)",
      "\u001b[0;32m<ipython-input-115-acacb184befb>\u001b[0m in \u001b[0;36m<module>\u001b[0;34m()\u001b[0m\n\u001b[1;32m      1\u001b[0m \u001b[0mnums\u001b[0m \u001b[0;34m=\u001b[0m \u001b[0;34m(\u001b[0m\u001b[0;36m3\u001b[0m\u001b[0;34m,\u001b[0m \u001b[0;36m9\u001b[0m\u001b[0;34m,\u001b[0m \u001b[0;36m6\u001b[0m\u001b[0;34m)\u001b[0m\u001b[0;34m\u001b[0m\u001b[0m\n\u001b[0;32m----> 2\u001b[0;31m \u001b[0mprint\u001b[0m\u001b[0;34m(\u001b[0m\u001b[0mlist\u001b[0m\u001b[0;34m(\u001b[0m\u001b[0mnums\u001b[0m\u001b[0;34m)\u001b[0m\u001b[0;34m)\u001b[0m\u001b[0;34m\u001b[0m\u001b[0m\n\u001b[0m",
      "\u001b[0;31mTypeError\u001b[0m: 'list' object is not callable"
     ]
    }
   ],
   "source": [
    "nums = (3, 9, 6) \n",
    "print(list(nums))"
   ]
  },
  {
   "cell_type": "code",
   "execution_count": 117,
   "metadata": {},
   "outputs": [
    {
     "ename": "TypeError",
     "evalue": "'list' object is not callable",
     "output_type": "error",
     "traceback": [
      "\u001b[0;31m---------------------------------------------------------------------------\u001b[0m",
      "\u001b[0;31mTypeError\u001b[0m                                 Traceback (most recent call last)",
      "\u001b[0;32m<ipython-input-117-76dbc7d7c91e>\u001b[0m in \u001b[0;36m<module>\u001b[0;34m()\u001b[0m\n\u001b[1;32m      1\u001b[0m \u001b[0mword\u001b[0m \u001b[0;34m=\u001b[0m \u001b[0;34m\"etch\"\u001b[0m\u001b[0;34m\u001b[0m\u001b[0m\n\u001b[0;32m----> 2\u001b[0;31m \u001b[0mL\u001b[0m \u001b[0;34m=\u001b[0m \u001b[0mlist\u001b[0m\u001b[0;34m(\u001b[0m\u001b[0mword\u001b[0m\u001b[0;34m)\u001b[0m\u001b[0;34m\u001b[0m\u001b[0m\n\u001b[0m\u001b[1;32m      3\u001b[0m \u001b[0mL\u001b[0m\u001b[0;34m[\u001b[0m\u001b[0;36m1\u001b[0m\u001b[0;34m]\u001b[0m \u001b[0;34m=\u001b[0m \u001b[0;34m\"a\"\u001b[0m\u001b[0;34m\u001b[0m\u001b[0m\n\u001b[1;32m      4\u001b[0m \u001b[0mprint\u001b[0m\u001b[0;34m(\u001b[0m\u001b[0;34m\"\"\u001b[0m\u001b[0;34m.\u001b[0m\u001b[0mjoin\u001b[0m\u001b[0;34m(\u001b[0m\u001b[0mL\u001b[0m\u001b[0;34m)\u001b[0m\u001b[0;34m)\u001b[0m\u001b[0;34m\u001b[0m\u001b[0m\n",
      "\u001b[0;31mTypeError\u001b[0m: 'list' object is not callable"
     ]
    }
   ],
   "source": [
    "word = \"etch\" \n",
    "L = list(word)\n",
    "L[1] = \"a\"\n",
    "print(\"\".join(L))"
   ]
  },
  {
   "cell_type": "code",
   "execution_count": 118,
   "metadata": {},
   "outputs": [
    {
     "name": "stdout",
     "output_type": "stream",
     "text": [
      "['soprano', 'tenor', 'alto', 'bass']\n"
     ]
    }
   ],
   "source": [
    "list1 = [\"soprano\", \"tenor\"] \n",
    "list2 = [\"alto\", \"bass\"] \n",
    "list1.extend(list2) \n",
    "print(list1)"
   ]
  },
  {
   "cell_type": "code",
   "execution_count": 119,
   "metadata": {},
   "outputs": [
    {
     "name": "stdout",
     "output_type": "stream",
     "text": [
      "['gold', 'silver', 'bronze']\n"
     ]
    }
   ],
   "source": [
    "list1 = [\"gold\"]\n",
    "list2 = [\"silver\", \"bronze\"] \n",
    "print(list1 + list2)"
   ]
  },
  {
   "cell_type": "code",
   "execution_count": 120,
   "metadata": {},
   "outputs": [
    {
     "name": "stdout",
     "output_type": "stream",
     "text": [
      "murmur\n"
     ]
    }
   ],
   "source": [
    "list1 = [\"mur\"] * 2 \n",
    "print(\"\".join(list1))"
   ]
  },
  {
   "cell_type": "code",
   "execution_count": 121,
   "metadata": {},
   "outputs": [
    {
     "name": "stdout",
     "output_type": "stream",
     "text": [
      "('Happy', 'Sneezy', 'Bashful')\n"
     ]
    }
   ],
   "source": [
    "t = (\"Dopey\", \"Sleepy\", \"Doc\", \"Grumpy\", \"Happy\", \"Sneezy\", \"Bashful\")\n",
    "print(t[4:20])"
   ]
  },
  {
   "cell_type": "code",
   "execution_count": 122,
   "metadata": {},
   "outputs": [
    {
     "name": "stdout",
     "output_type": "stream",
     "text": [
      "1\n"
     ]
    }
   ],
   "source": [
    "answer = [\"Yes!\", \"No!\", \"Yes!\", \"No!\", \"Maybe.\"] \n",
    "num = answer.index(\"No!\")\n",
    "print(num)"
   ]
  },
  {
   "cell_type": "code",
   "execution_count": 123,
   "metadata": {},
   "outputs": [
    {
     "ename": "IndexError",
     "evalue": "list index out of range",
     "output_type": "error",
     "traceback": [
      "\u001b[0;31m---------------------------------------------------------------------------\u001b[0m",
      "\u001b[0;31mIndexError\u001b[0m                                Traceback (most recent call last)",
      "\u001b[0;32m<ipython-input-123-7d487d6da58e>\u001b[0m in \u001b[0;36m<module>\u001b[0;34m()\u001b[0m\n\u001b[1;32m      1\u001b[0m \u001b[0mthreeRs\u001b[0m \u001b[0;34m=\u001b[0m \u001b[0;34m[\u001b[0m\u001b[0;34m\"reading\"\u001b[0m\u001b[0;34m,\u001b[0m \u001b[0;34m\"riting\"\u001b[0m\u001b[0;34m,\u001b[0m \u001b[0;34m\"rithmetic\"\u001b[0m\u001b[0;34m]\u001b[0m\u001b[0;34m\u001b[0m\u001b[0m\n\u001b[0;32m----> 2\u001b[0;31m \u001b[0mprint\u001b[0m\u001b[0;34m(\u001b[0m\u001b[0mthreeRs\u001b[0m\u001b[0;34m[\u001b[0m\u001b[0;36m3\u001b[0m\u001b[0;34m]\u001b[0m\u001b[0;34m)\u001b[0m\u001b[0;34m\u001b[0m\u001b[0m\n\u001b[0m",
      "\u001b[0;31mIndexError\u001b[0m: list index out of range"
     ]
    }
   ],
   "source": [
    "threeRs = [\"reading\", \"riting\", \"rithmetic\"] \n",
    "print(threeRs[3])"
   ]
  },
  {
   "cell_type": "code",
   "execution_count": 124,
   "metadata": {},
   "outputs": [
    {
     "ename": "TypeError",
     "evalue": "sequence item 0: expected str instance, int found",
     "output_type": "error",
     "traceback": [
      "\u001b[0;31m---------------------------------------------------------------------------\u001b[0m",
      "\u001b[0;31mTypeError\u001b[0m                                 Traceback (most recent call last)",
      "\u001b[0;32m<ipython-input-124-4cb720d74ce5>\u001b[0m in \u001b[0;36m<module>\u001b[0;34m()\u001b[0m\n\u001b[1;32m      1\u001b[0m \u001b[0mlist1\u001b[0m \u001b[0;34m=\u001b[0m \u001b[0;34m[\u001b[0m\u001b[0;36m1\u001b[0m\u001b[0;34m,\u001b[0m \u001b[0;34m\"two\"\u001b[0m\u001b[0;34m,\u001b[0m \u001b[0;34m\"three\"\u001b[0m\u001b[0;34m,\u001b[0m \u001b[0;36m4\u001b[0m\u001b[0;34m]\u001b[0m\u001b[0;34m\u001b[0m\u001b[0m\n\u001b[0;32m----> 2\u001b[0;31m \u001b[0mprint\u001b[0m\u001b[0;34m(\u001b[0m\u001b[0;34m\" \"\u001b[0m\u001b[0;34m.\u001b[0m\u001b[0mjoin\u001b[0m\u001b[0;34m(\u001b[0m\u001b[0mlist1\u001b[0m\u001b[0;34m)\u001b[0m\u001b[0;34m)\u001b[0m\u001b[0;34m\u001b[0m\u001b[0m\n\u001b[0m",
      "\u001b[0;31mTypeError\u001b[0m: sequence item 0: expected str instance, int found"
     ]
    }
   ],
   "source": [
    "list1 = [1, \"two\", \"three\", 4] \n",
    "print(\" \".join(list1))"
   ]
  },
  {
   "cell_type": "code",
   "execution_count": 125,
   "metadata": {},
   "outputs": [
    {
     "ename": "TypeError",
     "evalue": "sequence item 0: expected str instance, int found",
     "output_type": "error",
     "traceback": [
      "\u001b[0;31m---------------------------------------------------------------------------\u001b[0m",
      "\u001b[0;31mTypeError\u001b[0m                                 Traceback (most recent call last)",
      "\u001b[0;32m<ipython-input-125-4cb720d74ce5>\u001b[0m in \u001b[0;36m<module>\u001b[0;34m()\u001b[0m\n\u001b[1;32m      1\u001b[0m \u001b[0mlist1\u001b[0m \u001b[0;34m=\u001b[0m \u001b[0;34m[\u001b[0m\u001b[0;36m1\u001b[0m\u001b[0;34m,\u001b[0m \u001b[0;34m\"two\"\u001b[0m\u001b[0;34m,\u001b[0m \u001b[0;34m\"three\"\u001b[0m\u001b[0;34m,\u001b[0m \u001b[0;36m4\u001b[0m\u001b[0;34m]\u001b[0m\u001b[0;34m\u001b[0m\u001b[0m\n\u001b[0;32m----> 2\u001b[0;31m \u001b[0mprint\u001b[0m\u001b[0;34m(\u001b[0m\u001b[0;34m\" \"\u001b[0m\u001b[0;34m.\u001b[0m\u001b[0mjoin\u001b[0m\u001b[0;34m(\u001b[0m\u001b[0mlist1\u001b[0m\u001b[0;34m)\u001b[0m\u001b[0;34m)\u001b[0m\u001b[0;34m\u001b[0m\u001b[0m\n\u001b[0m",
      "\u001b[0;31mTypeError\u001b[0m: sequence item 0: expected str instance, int found"
     ]
    }
   ],
   "source": [
    "list1 = [1, \"two\", \"three\", 4] \n",
    "print(\" \".join(list1))"
   ]
  },
  {
   "cell_type": "code",
   "execution_count": 126,
   "metadata": {},
   "outputs": [
    {
     "ename": "TypeError",
     "evalue": "'tuple' object does not support item assignment",
     "output_type": "error",
     "traceback": [
      "\u001b[0;31m---------------------------------------------------------------------------\u001b[0m",
      "\u001b[0;31mTypeError\u001b[0m                                 Traceback (most recent call last)",
      "\u001b[0;32m<ipython-input-126-c0df27623087>\u001b[0m in \u001b[0;36m<module>\u001b[0;34m()\u001b[0m\n\u001b[1;32m      1\u001b[0m \u001b[0mtitle\u001b[0m \u001b[0;34m=\u001b[0m \u001b[0;34m(\u001b[0m\u001b[0;34m\"The\"\u001b[0m\u001b[0;34m,\u001b[0m \u001b[0;34m\"Call\"\u001b[0m\u001b[0;34m,\u001b[0m \u001b[0;34m\"of\"\u001b[0m\u001b[0;34m,\u001b[0m \u001b[0;34m\"the\"\u001b[0m\u001b[0;34m,\u001b[0m \u001b[0;34m\"Wild\"\u001b[0m\u001b[0;34m)\u001b[0m\u001b[0;34m\u001b[0m\u001b[0m\n\u001b[0;32m----> 2\u001b[0;31m \u001b[0mtitle\u001b[0m\u001b[0;34m[\u001b[0m\u001b[0;36m1\u001b[0m\u001b[0;34m]\u001b[0m \u001b[0;34m=\u001b[0m \u001b[0;34m\"Calm\"\u001b[0m\u001b[0;34m\u001b[0m\u001b[0m\n\u001b[0m\u001b[1;32m      3\u001b[0m \u001b[0mprint\u001b[0m\u001b[0;34m(\u001b[0m\u001b[0;34m\" \"\u001b[0m\u001b[0;34m.\u001b[0m\u001b[0mjoin\u001b[0m\u001b[0;34m(\u001b[0m\u001b[0mtitle\u001b[0m\u001b[0;34m)\u001b[0m\u001b[0;34m)\u001b[0m\u001b[0;34m\u001b[0m\u001b[0m\n",
      "\u001b[0;31mTypeError\u001b[0m: 'tuple' object does not support item assignment"
     ]
    }
   ],
   "source": [
    "title = (\"The\", \"Call\", \"of\", \"the\", \"Wild\") \n",
    "title[1] = \"Calm\"\n",
    "print(\" \".join(title))"
   ]
  },
  {
   "cell_type": "code",
   "execution_count": 133,
   "metadata": {},
   "outputs": [
    {
     "name": "stdout",
     "output_type": "stream",
     "text": [
      "Enter the sentence to count words: My name is Harshal?\n",
      "4\n"
     ]
    }
   ],
   "source": [
    "sentence = input(\"Enter the sentence to count words: \")\n",
    "s_list = sentence.split(\" \")\n",
    "print(len(s_list))"
   ]
  },
  {
   "cell_type": "code",
   "execution_count": 137,
   "metadata": {},
   "outputs": [
    {
     "name": "stdout",
     "output_type": "stream",
     "text": [
      "Enter the sentence: Reach for the stars.\n",
      "First word: Reach\n",
      "Last word: star\n"
     ]
    }
   ],
   "source": [
    "sentence = input(\"Enter the sentence: \")\n",
    "s_list = sentence.split(\" \")\n",
    "print(\"First word: {0:s}\".format(s_list[0]))\n",
    "print(\"Last word: {0:s}\".format(s_list[-1][:-2]))"
   ]
  },
  {
   "cell_type": "code",
   "execution_count": 138,
   "metadata": {},
   "outputs": [
    {
     "name": "stdout",
     "output_type": "stream",
     "text": [
      "Enter 2-part name: Harshal Kokate\n",
      "Kokate, Harshal\n"
     ]
    }
   ],
   "source": [
    "name = input(\"Enter 2-part name: \") \n",
    "L = name.split()\n",
    "print(\"{0:s}, {1:s}\".format(L[1], L[0]))"
   ]
  },
  {
   "cell_type": "code",
   "execution_count": 150,
   "metadata": {},
   "outputs": [
    {
     "name": "stdout",
     "output_type": "stream",
     "text": [
      "Profit is : 50%\n"
     ]
    }
   ],
   "source": [
    "purchasePrice = 10\n",
    "sellingPrice = 15\n",
    "percentProfit = ((sellingPrice - purchasePrice)/purchasePrice)\n",
    "print(\"Profit is : {0:.0%}\".format(percentProfit))"
   ]
  },
  {
   "cell_type": "code",
   "execution_count": 156,
   "metadata": {},
   "outputs": [
    {
     "name": "stdout",
     "output_type": "stream",
     "text": [
      "How many acres to farm :12\n",
      "216.0 tons can be grown on 12.0 acres.\n"
     ]
    }
   ],
   "source": [
    "acre_to_produce = float(input(\"How many acres to farm :\"))\n",
    "#ton of productivity\n",
    "acre_productivity = 18\n",
    "# acre produced \n",
    "acres_produced = acre_productivity * acre_to_produce\n",
    "print(\"{0:.1f} tons can be grown on {1:.1f} acres.\".format(acres_produced,acre_to_produce))"
   ]
  },
  {
   "cell_type": "code",
   "execution_count": 160,
   "metadata": {},
   "outputs": [
    {
     "name": "stdout",
     "output_type": "stream",
     "text": [
      "24.5 mpg is the car average between two fillings.\n"
     ]
    }
   ],
   "source": [
    "first_refill = 23352\n",
    "second_refill = 23695\n",
    "fuel_quantity_refilled = 14\n",
    "miles_covered = second_refill - first_refill\n",
    "mileage = miles_covered/fuel_quantity_refilled\n",
    "print(\"{:.1f} mpg is the car average between two fillings.\".format(mileage))"
   ]
  },
  {
   "cell_type": "code",
   "execution_count": 181,
   "metadata": {},
   "outputs": [
    {
     "name": "stdout",
     "output_type": "stream",
     "text": [
      "183,960,000 million gallons of water is used each year in US.\n"
     ]
    }
   ],
   "source": [
    "avg_per_person = 1600\n",
    "current_population = 315000000\n",
    "days_in_year = 365\n",
    "oneMillion = 1000000\n",
    "oneDay_waterUsage = current_population * avg_per_person\n",
    "yearly_waterUsage = oneDay_waterUsage * days_in_year\n",
    "millions = yearly_waterUsage / oneMillion\n",
    "print(\"{0:,.0f} million gallons of water is used each year in US.\".format(millions))"
   ]
  },
  {
   "cell_type": "code",
   "execution_count": 172,
   "metadata": {},
   "outputs": [
    {
     "name": "stdout",
     "output_type": "stream",
     "text": [
      "53185 per capita national debt.\n"
     ]
    }
   ],
   "source": [
    "US_debt = 1.68 * (10 ** 13)\n",
    "US_popul = 3.1588 * (10 ** 8)\n",
    "\n",
    "national_debt = round(US_debt/US_popul)\n",
    "print(\"{0:d} per capita national debt.\".format(national_debt))"
   ]
  },
  {
   "cell_type": "code",
   "execution_count": 182,
   "metadata": {},
   "outputs": [
    {
     "name": "stdout",
     "output_type": "stream",
     "text": [
      "256,608 calories in one cubic mile of chocalate ice cream.\n"
     ]
    }
   ],
   "source": [
    "oneCubic_choc = 48600 #calroies \n",
    "oneMile = 5280 #feet\n",
    "thousand = 1000\n",
    "oneCubicMile = oneCubic_choc * oneMile\n",
    "inThousand_calories = oneCubicMile/thousand\n",
    "print(\"{:,.0f} calories in one cubic mile of chocalate ice cream.\".format(inThousand_calories))"
   ]
  },
  {
   "cell_type": "code",
   "execution_count": null,
   "metadata": {
    "collapsed": true
   },
   "outputs": [],
   "source": [
    "sentence = input(\"Enter a sentence: \")\n",
    "w_replace = input('Enter a word to replace: ')\n",
    "replacement_word = input(\"Enter replacement word: \")\n",
    "s_sen = sentence.split()\n",
    "\n",
    "for idx,elem in enumerate(s_sen):\n",
    "    if elem == w_replace:\n",
    "        s_sen[idx] = replacement_word\n",
    "print((' ').join(s_sen))"
   ]
  },
  {
   "cell_type": "code",
   "execution_count": null,
   "metadata": {
    "collapsed": true
   },
   "outputs": [],
   "source": [
    "sentence = input(\"Enter a sentence: \")\n",
    "w_replace = input('Enter a word to replace: ')\n",
    "replacement_word = input(\"Enter replacement word: \")\n",
    "s_sen = sentence.split()\n",
    "index = -1\n",
    "for sen in s_sen:\n",
    "    index += 1\n",
    "    if sen == w_replace:\n",
    "        s_sen[index] = replacement_word\n",
    "print((' ').join(s_sen))"
   ]
  },
  {
   "cell_type": "code",
   "execution_count": 1,
   "metadata": {},
   "outputs": [
    {
     "name": "stdout",
     "output_type": "stream",
     "text": [
      "yaat\n"
     ]
    }
   ],
   "source": [
    "p = 11\n",
    "if p :\n",
    "    print(\"yaat\")\n",
    "else:\n",
    "    print(\"oops\")"
   ]
  },
  {
   "cell_type": "code",
   "execution_count": null,
   "metadata": {
    "collapsed": true
   },
   "outputs": [],
   "source": []
  }
 ],
 "metadata": {
  "kernelspec": {
   "display_name": "Python 3",
   "language": "python",
   "name": "python3"
  },
  "language_info": {
   "codemirror_mode": {
    "name": "ipython",
    "version": 3
   },
   "file_extension": ".py",
   "mimetype": "text/x-python",
   "name": "python",
   "nbconvert_exporter": "python",
   "pygments_lexer": "ipython3",
   "version": "3.6.3"
  }
 },
 "nbformat": 4,
 "nbformat_minor": 2
}
