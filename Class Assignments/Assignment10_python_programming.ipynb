{
 "cells": [
  {
   "cell_type": "code",
   "execution_count": 4,
   "metadata": {},
   "outputs": [
    {
     "name": "stdout",
     "output_type": "stream",
     "text": [
      "UNITS OF LENGTH\n",
      "inches  furlongs   yards\n",
      "rods    miles      fathoms  \n",
      "meters  kilometers feet\n",
      "\n",
      "Units to convert from: yards\n",
      "Units to convert to: miles\n",
      "Enter length in yards: 555\n",
      "Length in miles: 0.3153\n"
     ]
    }
   ],
   "source": [
    "def main():\n",
    "    print('{}'.format('UNITS OF LENGTH'))\n",
    "    print('''inches  furlongs   yards\n",
    "rods    miles      fathoms  \n",
    "meters  kilometers feet''')\n",
    "        \n",
    "    conversion_from,conversion_to,unit_value,unit_dict = display_and_input()\n",
    "    converted_value = unit_calculation(conversion_from,conversion_to,unit_value,unit_dict)\n",
    "    if isinstance(converted_value, float):\n",
    "        print('Length in miles: {:,.4f}'.format(converted_value))\n",
    "    \n",
    "def display_and_input():   \n",
    "    units = open('units.txt').read().split('\\n')\n",
    "    unit_dict = {}\n",
    "    for unit in units:\n",
    "        split_u = unit.split(',')\n",
    "        unit_dict[split_u[0]] = float(split_u[1])\n",
    "        \n",
    "    print()\n",
    "    conversion_from = input('Units to convert from: ')\n",
    "    conversion_to = input('Units to convert to: ')\n",
    "    unit_value = float(input('Enter length in yards: '))\n",
    "    \n",
    "    return conversion_from,conversion_to,unit_value, unit_dict\n",
    "\n",
    "def unit_calculation(conversion_from,conversion_to,unit_value,unit_dict):\n",
    "    if conversion_from in unit_dict and conversion_to in unit_dict:\n",
    "        feet_value = unit_dict[conversion_from] * unit_value\n",
    "        con_value = feet_value / unit_dict[conversion_to]\n",
    "        return con_value\n",
    "    else:\n",
    "        print('Enter valid units of measure.')\n",
    "        \n",
    "main()"
   ]
  },
  {
   "cell_type": "code",
   "execution_count": 5,
   "metadata": {},
   "outputs": [
    {
     "name": "stdout",
     "output_type": "stream",
     "text": [
      "Number of scores: 14 \n",
      "Average score: 71.00 \n",
      "Standard Deviation of scores: 14.42\n",
      "GRADE DISTRIBUTION AFTER CURVING GRADES.\n",
      "{'A': 2, 'B': 1, 'C': 6, 'D': 4, 'F': 1}\n"
     ]
    }
   ],
   "source": [
    "import math\n",
    "\n",
    "def main():\n",
    "    scores = score_read()\n",
    "    mean = sum(scores) / float(len(scores))\n",
    "    stdDev = stdDev_calculation(scores, mean)\n",
    "    grades = grade_curve(scores, mean, stdDev)\n",
    "\n",
    "\n",
    "    print('Number of scores: {} '.format(len(scores)))\n",
    "    print('Average score: {:.2f} '.format(mean))\n",
    "    print('Standard Deviation of scores: {:.2f}'.format(stdDev))\n",
    "    print('GRADE DISTRIBUTION AFTER CURVING GRADES.')\n",
    "    print(grades)\n",
    "\n",
    "def grade_curve(scores, m, s):\n",
    "    \n",
    "    grades = {'A':0, 'B':0, 'C':0, 'D':0, 'F':0}\n",
    "\n",
    "    for i in scores:\n",
    "        if i >= (m + (1.5*s)):\n",
    "            grades['A'] += 1\n",
    "        elif i >= (m + (0.5*s)) and i < (m + (1.5*s)):\n",
    "            grades['B'] += 1\n",
    "        elif i >= (m - (0.5*s)) and i < (m + (0.5*s)):\n",
    "            grades['C'] += 1\n",
    "        elif i >= (m - (1.5*s)) and i < (m - (0.5*s)):\n",
    "            grades['D'] += 1\n",
    "        elif i < (m - (1.5*s)):\n",
    "            grades['F'] += 1\n",
    "    return grades  \n",
    "  \n",
    "def stdDev_calculation(scores, m):\n",
    "    numerator = 0\n",
    "    for score in scores:\n",
    "        numerator += ((score - m) * (score - m))\n",
    "    s = math.sqrt( (numerator / (float(len(scores)))) )\n",
    "    return s\n",
    "\n",
    "def score_read():\n",
    "    scores = open('Scores.txt').read().split('\\n')\n",
    "    scores = [int(score) for score in scores]\n",
    "    return scores\n",
    "    \n",
    "main()"
   ]
  },
  {
   "cell_type": "code",
   "execution_count": 6,
   "metadata": {},
   "outputs": [],
   "source": [
    "def main():\n",
    "    \n",
    "    teams = open('ALE.txt').read().split('\\n')\n",
    "\n",
    "    teams = [team.split(',') for team in teams]\n",
    "    for team in teams:\n",
    "        team.append(str('{:.3f}'.format(int(team[1])/(int(team[1]) + int(team[2])))))  \n",
    "\n",
    "    teams = sorted(teams, key=lambda x: x[3], reverse=True)\n",
    "    output = open('output.txt', 'w')\n",
    "    \n",
    "    for team in teams:\n",
    "        output.write(\",\".join(team) + \"\\n\")\n",
    "    output.close()\n",
    "    \n",
    "main()"
   ]
  },
  {
   "cell_type": "code",
   "execution_count": 7,
   "metadata": {},
   "outputs": [
    {
     "name": "stdout",
     "output_type": "stream",
     "text": [
      "Model       MPG\n",
      "\n",
      "Prius      45.45     \n",
      "Camry      25.00     \n",
      "Sebring    23.81     \n",
      "Accord     23.44     \n",
      "Mustang    19.05     \n"
     ]
    }
   ],
   "source": [
    "def main():\n",
    "    cars = open('Mileage.txt').read().split('\\n')\n",
    "    cars = [car.split(',') for car in cars]\n",
    "    cars_dict = {}\n",
    "    car_mpg = {}\n",
    "    for car in cars:\n",
    "        if car[0] in cars_dict:\n",
    "            cars_dict[car[0]] = tuple(map(sum, zip(cars_dict[car[0]], (1,float(car[1])))))\n",
    "        else:\n",
    "            cars_dict[car[0]] = (1,float(car[1]))\n",
    "\n",
    "    for key in cars_dict.keys():\n",
    "        car_mpg[key] = 100 / float(cars_dict[key][1] / float(cars_dict[key][0]))\n",
    "\n",
    "    print('{}{:>10}'.format(\"Model\", \"MPG\"))\n",
    "    print()\n",
    "\n",
    "    sorted_keys = sorted(car_mpg, key=car_mpg.get, reverse=True)\n",
    "    for key in sorted_keys:\n",
    "        print(\"%-10s %-10.2f\" %(key, car_mpg[key]))\n",
    "main()"
   ]
  },
  {
   "cell_type": "code",
   "execution_count": 8,
   "metadata": {},
   "outputs": [],
   "source": [
    "def main():\n",
    "    cities = open('cities.txt').read().split('\\n')\n",
    "    per_change_cities = []\n",
    "    for city in cities:\n",
    "        row = city.split(',')\n",
    "        change = float(row[3]) - float(row[2])\n",
    "        per_increase = change / float(row[2]) * 100\n",
    "        per_change_cities.append('{:.2f},{},{}'.format(per_increase,row[0],row[1]))\n",
    "    per_change_cities\n",
    "    per_change_cities.sort(reverse=True)\n",
    "\n",
    "    for city in per_change_cities:\n",
    "        row = city.split(',')\n",
    "        file = open('cities_out.txt','a')\n",
    "        file.write('{},{},{:.2f}\\n'.format(row[1],row[2],float(row[0])))\n",
    "        file.close()\n",
    "main()    "
   ]
  },
  {
   "cell_type": "code",
   "execution_count": 12,
   "metadata": {},
   "outputs": [
    {
     "name": "stdout",
     "output_type": "stream",
     "text": [
      "Enter the name of the country: Chile\n",
      "Currency: Peso\n",
      "Exchange rate: 591.4077\n"
     ]
    }
   ],
   "source": [
    "# Answer A\n",
    "countries = open('exchrate.txt').read().split('\\n')\n",
    "countries_dict = {}\n",
    "for country in countries:\n",
    "    s_coun = country.split(',')\n",
    "    if s_coun[0] not in countries_dict:\n",
    "        countries_dict[s_coun[0].lower()] = [s_coun[1],s_coun[2]]\n",
    "        \n",
    "user_country = input('Enter the name of the country: ')\n",
    "user_country = user_country.lower()\n",
    "\n",
    "if user_country in countries_dict:\n",
    "    print('Currency:',countries_dict[user_country][0])\n",
    "    print('Exchange rate:',countries_dict[user_country][1])\n",
    "else:\n",
    "    print('Country not found in the list')"
   ]
  },
  {
   "cell_type": "code",
   "execution_count": 13,
   "metadata": {},
   "outputs": [
    {
     "name": "stdout",
     "output_type": "stream",
     "text": [
      "Kuwait\n",
      "United Kingdom\n",
      "Austria\n"
     ]
    }
   ],
   "source": [
    "# Answer 2\n",
    "countries = open('exchrate.txt').read().split('\\n')\n",
    "countries_dict = {}\n",
    "sorted_countires_list = []\n",
    "for country in countries:\n",
    "    s_coun = country.split(',')\n",
    "    if s_coun[0] not in countries_dict:\n",
    "        countries_dict[s_coun[0]] = [s_coun[1],s_coun[2]]\n",
    "        \n",
    "for i in sorted(countries_dict.keys(),key=lambda i:countries_dict[i][1]):\n",
    "    sorted_countires_list.append(i)\n",
    "for i in sorted_countires_list[:3]:\n",
    "    print(i)"
   ]
  },
  {
   "cell_type": "code",
   "execution_count": 16,
   "metadata": {},
   "outputs": [
    {
     "name": "stdout",
     "output_type": "stream",
     "text": [
      "Enter name of first country: America\n",
      "Enter name of second country: Chile\n",
      "Amount of money to convert: 100\n",
      "100 Dollar from America equals 59140.77 Peso from Chile\n"
     ]
    }
   ],
   "source": [
    "#Answer 3\n",
    "countries = open('exchrate.txt').read().split('\\n')\n",
    "countries_dict = {}\n",
    "sorted_countires_list = []\n",
    "for country in countries:\n",
    "    s_coun = country.split(',')\n",
    "    if s_coun[0] not in countries_dict:\n",
    "        countries_dict[s_coun[0].lower()] = [s_coun[1],float(s_coun[2])]\n",
    "\n",
    "first_country = input('Enter name of first country: ')\n",
    "sec_country=input('Enter name of second country: ')\n",
    "amount=int(input('Amount of money to convert: '))\n",
    "first_country = first_country.lower()\n",
    "sec_country = sec_country.lower()\n",
    "\n",
    "if (first_country in countries_dict) and (sec_country in countries_dict):\n",
    "    rate=countries_dict[first_country][1]\n",
    "    rate2=countries_dict[sec_country][1]\n",
    "    curr=countries_dict[first_country][0]\n",
    "    curr2=countries_dict[sec_country][0]\n",
    "    amt=amount * (rate2 /rate)    \n",
    "    print('{} {} from {} equals {:.2f} {} from {}'.format(amount,curr,first_country.capitalize(),amt,curr2,sec_country.capitalize()))\n",
    "else:\n",
    "    print('Either one or both countries are not in list')\n",
    "    print('Try again')"
   ]
  }
 ],
 "metadata": {
  "kernelspec": {
   "display_name": "Python 3",
   "language": "python",
   "name": "python3"
  },
  "language_info": {
   "codemirror_mode": {
    "name": "ipython",
    "version": 3
   },
   "file_extension": ".py",
   "mimetype": "text/x-python",
   "name": "python",
   "nbconvert_exporter": "python",
   "pygments_lexer": "ipython3",
   "version": "3.6.3"
  }
 },
 "nbformat": 4,
 "nbformat_minor": 2
}
