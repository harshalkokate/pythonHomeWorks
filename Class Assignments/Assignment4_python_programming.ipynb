{
 "cells": [
  {
   "cell_type": "code",
   "execution_count": 1,
   "metadata": {},
   "outputs": [
    {
     "data": {
      "text/plain": [
       "True"
      ]
     },
     "execution_count": 1,
     "metadata": {},
     "output_type": "execute_result"
    }
   ],
   "source": [
    "27 > 9"
   ]
  },
  {
   "cell_type": "code",
   "execution_count": 5,
   "metadata": {},
   "outputs": [
    {
     "data": {
      "text/plain": [
       "True"
      ]
     },
     "execution_count": 5,
     "metadata": {},
     "output_type": "execute_result"
    }
   ],
   "source": [
    "\"97\" > \"2\""
   ]
  },
  {
   "cell_type": "code",
   "execution_count": 3,
   "metadata": {},
   "outputs": [
    {
     "data": {
      "text/plain": [
       "True"
      ]
     },
     "execution_count": 3,
     "metadata": {},
     "output_type": "execute_result"
    }
   ],
   "source": [
    "\"27\" == \"27\""
   ]
  },
  {
   "cell_type": "code",
   "execution_count": 6,
   "metadata": {},
   "outputs": [
    {
     "data": {
      "text/plain": [
       "[1, 2, 3, 6, 8, 9, 23, 45, 78]"
      ]
     },
     "execution_count": 6,
     "metadata": {},
     "output_type": "execute_result"
    }
   ],
   "source": [
    "tup = (3, 6, 8, 2, 78, 1, 23, 45, 9)\n",
    "sorted(tup)"
   ]
  },
  {
   "cell_type": "code",
   "execution_count": 8,
   "metadata": {},
   "outputs": [
    {
     "data": {
      "text/plain": [
       "['a', 'c', 'h', 'm', 'n', 'o', 'r', 's']"
      ]
     },
     "execution_count": 8,
     "metadata": {},
     "output_type": "execute_result"
    }
   ],
   "source": [
    "tup = ('monarchs')\n",
    "sorted(tup)"
   ]
  },
  {
   "cell_type": "code",
   "execution_count": 19,
   "metadata": {},
   "outputs": [
    {
     "name": "stdout",
     "output_type": "stream",
     "text": [
      "C#\n"
     ]
    }
   ],
   "source": [
    "print('C' + chr(35))"
   ]
  },
  {
   "cell_type": "code",
   "execution_count": 20,
   "metadata": {},
   "outputs": [
    {
     "name": "stdout",
     "output_type": "stream",
     "text": [
      "B\n"
     ]
    }
   ],
   "source": [
    "print(chr(ord('B'))) # The ASCII value of B is 66"
   ]
  },
  {
   "cell_type": "code",
   "execution_count": 26,
   "metadata": {},
   "outputs": [
    {
     "name": "stdout",
     "output_type": "stream",
     "text": [
      "Spread: 14\n"
     ]
    }
   ],
   "source": [
    "list1 = [17, 3, 12, 9, 10] \n",
    "list1.sort()\n",
    "print(\"Spread:\", list1[-1] - list1[0])"
   ]
  },
  {
   "cell_type": "code",
   "execution_count": 22,
   "metadata": {},
   "outputs": [
    {
     "name": "stdout",
     "output_type": "stream",
     "text": [
      "d\n"
     ]
    }
   ],
   "source": [
    "letter = 'D'\n",
    "spread = ord('a') - ord('A') \n",
    "print(chr(ord(letter) + spread))"
   ]
  },
  {
   "cell_type": "code",
   "execution_count": 25,
   "metadata": {},
   "outputs": [
    {
     "data": {
      "text/plain": [
       "False"
      ]
     },
     "execution_count": 25,
     "metadata": {},
     "output_type": "execute_result"
    }
   ],
   "source": [
    "a = 2\n",
    "b = 3\n",
    "((5 - a) * b) < 7"
   ]
  },
  {
   "cell_type": "code",
   "execution_count": 27,
   "metadata": {},
   "outputs": [
    {
     "data": {
      "text/plain": [
       "False"
      ]
     },
     "execution_count": 27,
     "metadata": {},
     "output_type": "execute_result"
    }
   ],
   "source": [
    "a ** b == b ** a"
   ]
  },
  {
   "cell_type": "code",
   "execution_count": 28,
   "metadata": {},
   "outputs": [
    {
     "data": {
      "text/plain": [
       "False"
      ]
     },
     "execution_count": 28,
     "metadata": {},
     "output_type": "execute_result"
    }
   ],
   "source": [
    "3e-2 < .01 * a"
   ]
  },
  {
   "cell_type": "code",
   "execution_count": 29,
   "metadata": {},
   "outputs": [
    {
     "data": {
      "text/plain": [
       "True"
      ]
     },
     "execution_count": 29,
     "metadata": {},
     "output_type": "execute_result"
    }
   ],
   "source": [
    "(a * a < b) or not(a * a < a)"
   ]
  },
  {
   "cell_type": "code",
   "execution_count": 30,
   "metadata": {},
   "outputs": [
    {
     "data": {
      "text/plain": [
       "False"
      ]
     },
     "execution_count": 30,
     "metadata": {},
     "output_type": "execute_result"
    }
   ],
   "source": [
    "not(a < b) or not (a < (b + a))"
   ]
  },
  {
   "cell_type": "code",
   "execution_count": 31,
   "metadata": {},
   "outputs": [
    {
     "data": {
      "text/plain": [
       "True"
      ]
     },
     "execution_count": 31,
     "metadata": {},
     "output_type": "execute_result"
    }
   ],
   "source": [
    "((a == b) or not (b < a)) and ((a < b) or (b == a + 1))"
   ]
  },
  {
   "cell_type": "code",
   "execution_count": 32,
   "metadata": {},
   "outputs": [
    {
     "data": {
      "text/plain": [
       "True"
      ]
     },
     "execution_count": 32,
     "metadata": {},
     "output_type": "execute_result"
    }
   ],
   "source": [
    "\"Inspector\" < \"gadget\""
   ]
  },
  {
   "cell_type": "code",
   "execution_count": 33,
   "metadata": {},
   "outputs": [
    {
     "data": {
      "text/plain": [
       "True"
      ]
     },
     "execution_count": 33,
     "metadata": {},
     "output_type": "execute_result"
    }
   ],
   "source": [
    "'J' >= 'J'"
   ]
  },
  {
   "cell_type": "code",
   "execution_count": 34,
   "metadata": {},
   "outputs": [
    {
     "data": {
      "text/plain": [
       "True"
      ]
     },
     "execution_count": 34,
     "metadata": {},
     "output_type": "execute_result"
    }
   ],
   "source": [
    "'B' > '?'"
   ]
  },
  {
   "cell_type": "code",
   "execution_count": 35,
   "metadata": {},
   "outputs": [
    {
     "data": {
      "text/plain": [
       "True"
      ]
     },
     "execution_count": 35,
     "metadata": {},
     "output_type": "execute_result"
    }
   ],
   "source": [
    "\"Duck\" < \"Duck\" + \"Duck\""
   ]
  },
  {
   "cell_type": "code",
   "execution_count": 36,
   "metadata": {},
   "outputs": [
    {
     "data": {
      "text/plain": [
       "True"
      ]
     },
     "execution_count": 36,
     "metadata": {},
     "output_type": "execute_result"
    }
   ],
   "source": [
    "\"th\" in \"Python\""
   ]
  },
  {
   "cell_type": "code",
   "execution_count": 37,
   "metadata": {},
   "outputs": [
    {
     "data": {
      "text/plain": [
       "False"
      ]
     },
     "execution_count": 37,
     "metadata": {},
     "output_type": "execute_result"
    }
   ],
   "source": [
    "(7 < 34) and (\"7\" < \"34\")"
   ]
  },
  {
   "cell_type": "code",
   "execution_count": 38,
   "metadata": {},
   "outputs": [
    {
     "data": {
      "text/plain": [
       "False"
      ]
     },
     "execution_count": 38,
     "metadata": {},
     "output_type": "execute_result"
    }
   ],
   "source": [
    "isinstance(32., int)"
   ]
  },
  {
   "cell_type": "code",
   "execution_count": 39,
   "metadata": {},
   "outputs": [
    {
     "data": {
      "text/plain": [
       "True"
      ]
     },
     "execution_count": 39,
     "metadata": {},
     "output_type": "execute_result"
    }
   ],
   "source": [
    "isinstance(32, int)"
   ]
  },
  {
   "cell_type": "code",
   "execution_count": 40,
   "metadata": {},
   "outputs": [
    {
     "data": {
      "text/plain": [
       "False"
      ]
     },
     "execution_count": 40,
     "metadata": {},
     "output_type": "execute_result"
    }
   ],
   "source": [
    "\"knight\".startswith('n')"
   ]
  },
  {
   "cell_type": "code",
   "execution_count": 41,
   "metadata": {},
   "outputs": [
    {
     "data": {
      "text/plain": [
       "False"
      ]
     },
     "execution_count": 41,
     "metadata": {},
     "output_type": "execute_result"
    }
   ],
   "source": [
    "\"flute\".endswith('t')"
   ]
  },
  {
   "cell_type": "code",
   "execution_count": 42,
   "metadata": {},
   "outputs": [
    {
     "data": {
      "text/plain": [
       "False"
      ]
     },
     "execution_count": 42,
     "metadata": {},
     "output_type": "execute_result"
    }
   ],
   "source": [
    "True and False"
   ]
  },
  {
   "cell_type": "code",
   "execution_count": 43,
   "metadata": {},
   "outputs": [
    {
     "data": {
      "text/plain": [
       "True"
      ]
     },
     "execution_count": 43,
     "metadata": {},
     "output_type": "execute_result"
    }
   ],
   "source": [
    "not False"
   ]
  },
  {
   "cell_type": "code",
   "execution_count": 45,
   "metadata": {},
   "outputs": [
    {
     "data": {
      "text/plain": [
       "False"
      ]
     },
     "execution_count": 45,
     "metadata": {},
     "output_type": "execute_result"
    }
   ],
   "source": [
    "not(a < b)"
   ]
  },
  {
   "cell_type": "code",
   "execution_count": 46,
   "metadata": {},
   "outputs": [
    {
     "data": {
      "text/plain": [
       "False"
      ]
     },
     "execution_count": 46,
     "metadata": {},
     "output_type": "execute_result"
    }
   ],
   "source": [
    "a > b"
   ]
  },
  {
   "cell_type": "code",
   "execution_count": 48,
   "metadata": {},
   "outputs": [
    {
     "data": {
      "text/plain": [
       "True"
      ]
     },
     "execution_count": 48,
     "metadata": {},
     "output_type": "execute_result"
    }
   ],
   "source": [
    "c = 4\n",
    "not((a == b) or (a == c))"
   ]
  },
  {
   "cell_type": "code",
   "execution_count": 49,
   "metadata": {},
   "outputs": [
    {
     "data": {
      "text/plain": [
       "True"
      ]
     },
     "execution_count": 49,
     "metadata": {},
     "output_type": "execute_result"
    }
   ],
   "source": [
    "(a != b) and (a != c)"
   ]
  },
  {
   "cell_type": "code",
   "execution_count": 50,
   "metadata": {},
   "outputs": [
    {
     "data": {
      "text/plain": [
       "True"
      ]
     },
     "execution_count": 50,
     "metadata": {},
     "output_type": "execute_result"
    }
   ],
   "source": [
    "not((a == b) or (a == c)); (a != b) and (a != c)"
   ]
  },
  {
   "cell_type": "code",
   "execution_count": 52,
   "metadata": {},
   "outputs": [
    {
     "data": {
      "text/plain": [
       "False"
      ]
     },
     "execution_count": 52,
     "metadata": {},
     "output_type": "execute_result"
    }
   ],
   "source": [
    "d =5\n",
    "e= 6\n",
    "(a < b) and ((a > d) or (a > e));\n",
    "((a < b) and (a > d)) or ((a < b) and (a > e))"
   ]
  },
  {
   "cell_type": "code",
   "execution_count": 53,
   "metadata": {},
   "outputs": [
    {
     "data": {
      "text/plain": [
       "True"
      ]
     },
     "execution_count": 53,
     "metadata": {},
     "output_type": "execute_result"
    }
   ],
   "source": [
    "not(a >= b); (a <= b) and not(a == b)"
   ]
  },
  {
   "cell_type": "code",
   "execution_count": 57,
   "metadata": {},
   "outputs": [
    {
     "data": {
      "text/plain": [
       "False"
      ]
     },
     "execution_count": 57,
     "metadata": {},
     "output_type": "execute_result"
    }
   ],
   "source": [
    "str1 = 'abcd'\n",
    "str1.upper() == str1; str1.isupper()"
   ]
  },
  {
   "cell_type": "code",
   "execution_count": 62,
   "metadata": {},
   "outputs": [
    {
     "data": {
      "text/plain": [
       "True"
      ]
     },
     "execution_count": 62,
     "metadata": {},
     "output_type": "execute_result"
    }
   ],
   "source": [
    "(a == b) or (a == d)\n",
    "not(a == b) or not(a == d)"
   ]
  },
  {
   "cell_type": "code",
   "execution_count": 64,
   "metadata": {},
   "outputs": [
    {
     "data": {
      "text/plain": [
       "True"
      ]
     },
     "execution_count": 64,
     "metadata": {},
     "output_type": "execute_result"
    }
   ],
   "source": [
    "not((a == b) or (a > b))\n",
    "((a == b) or (a > b))"
   ]
  },
  {
   "cell_type": "code",
   "execution_count": 65,
   "metadata": {},
   "outputs": [
    {
     "ename": "TypeError",
     "evalue": "object of type 'int' has no len()",
     "output_type": "error",
     "traceback": [
      "\u001b[0;31m---------------------------------------------------------------------------\u001b[0m",
      "\u001b[0;31mTypeError\u001b[0m                                 Traceback (most recent call last)",
      "\u001b[0;32m<ipython-input-65-9e201b63ee9f>\u001b[0m in \u001b[0;36m<module>\u001b[0;34m()\u001b[0m\n\u001b[0;32m----> 1\u001b[0;31m \u001b[0;34m(\u001b[0m\u001b[0ma\u001b[0m\u001b[0;34m!=\u001b[0m\u001b[0;34m''\u001b[0m\u001b[0;34m)\u001b[0m \u001b[0;32mand\u001b[0m \u001b[0;34m(\u001b[0m \u001b[0ma\u001b[0m \u001b[0;34m<\u001b[0m \u001b[0mb\u001b[0m\u001b[0;34m)\u001b[0m \u001b[0;32mand\u001b[0m \u001b[0;34m(\u001b[0m\u001b[0mlen\u001b[0m\u001b[0;34m(\u001b[0m\u001b[0ma\u001b[0m\u001b[0;34m)\u001b[0m \u001b[0;34m<\u001b[0m \u001b[0;36m5\u001b[0m\u001b[0;34m)\u001b[0m\u001b[0;34m\u001b[0m\u001b[0m\n\u001b[0m",
      "\u001b[0;31mTypeError\u001b[0m: object of type 'int' has no len()"
     ]
    }
   ],
   "source": [
    "(a!='') and ( a < b) and (len(a) < 5)\n",
    "(a==\"\") and (a > b) and (len(a) > 5)"
   ]
  },
  {
   "cell_type": "code",
   "execution_count": 74,
   "metadata": {},
   "outputs": [
    {
     "data": {
      "text/plain": [
       "True"
      ]
     },
     "execution_count": 74,
     "metadata": {},
     "output_type": "execute_result"
    }
   ],
   "source": [
    "name = 'Aramis'\n",
    "(name == 'Athos' or 'Porthos' or 'Aramis')\n",
    "(name == \"Athos\") or (name == \"Porthos\") or (name == \"Aramis\")\n",
    "names = ['Athos', 'Porthos', 'Aramis']\n",
    "name in names "
   ]
  },
  {
   "cell_type": "code",
   "execution_count": 76,
   "metadata": {},
   "outputs": [
    {
     "data": {
      "text/plain": [
       "True"
      ]
     },
     "execution_count": 76,
     "metadata": {},
     "output_type": "execute_result"
    }
   ],
   "source": [
    "num = [1,2,3,4,5,6]\n",
    "n = 2\n",
    "(n == 1) or (n == 2) or (n == 3) or (n == 4) or (n == 5) or (n == 6)\n",
    "n in num"
   ]
  },
  {
   "cell_type": "code",
   "execution_count": 78,
   "metadata": {},
   "outputs": [
    {
     "data": {
      "text/plain": [
       "True"
      ]
     },
     "execution_count": 78,
     "metadata": {},
     "output_type": "execute_result"
    }
   ],
   "source": [
    "(n <= 22) and (n > 1)\n",
    "1 < n <=22"
   ]
  },
  {
   "cell_type": "code",
   "execution_count": 87,
   "metadata": {},
   "outputs": [
    {
     "data": {
      "text/plain": [
       "False"
      ]
     },
     "execution_count": 87,
     "metadata": {},
     "output_type": "execute_result"
    }
   ],
   "source": [
    "n = 201\n",
    "(n <= 200) and (n >= 100)\n",
    "100 <= n <= 200"
   ]
  },
  {
   "cell_type": "code",
   "execution_count": 88,
   "metadata": {},
   "outputs": [
    {
     "name": "stdout",
     "output_type": "stream",
     "text": [
      "False\n"
     ]
    }
   ],
   "source": [
    "print(\"colonel\".startswith('k'))"
   ]
  },
  {
   "cell_type": "code",
   "execution_count": 89,
   "metadata": {},
   "outputs": [
    {
     "name": "stdout",
     "output_type": "stream",
     "text": [
      "True\n"
     ]
    }
   ],
   "source": [
    "str1 = \"target\" \n",
    "str2 = \"get\"\n",
    "print(str1.endswith(str2))"
   ]
  },
  {
   "cell_type": "code",
   "execution_count": 90,
   "metadata": {},
   "outputs": [
    {
     "name": "stdout",
     "output_type": "stream",
     "text": [
      "True\n"
     ]
    }
   ],
   "source": [
    "str1 = \"Teapot\" \n",
    "print(str1.startswith(str1[0:4]))"
   ]
  },
  {
   "cell_type": "code",
   "execution_count": 91,
   "metadata": {},
   "outputs": [
    {
     "name": "stdout",
     "output_type": "stream",
     "text": [
      "True\n"
     ]
    }
   ],
   "source": [
    "str1 = \"spam and eggs\" \n",
    "print(str1.endswith(str1[10:len(str1)]))"
   ]
  },
  {
   "cell_type": "code",
   "execution_count": 92,
   "metadata": {},
   "outputs": [
    {
     "name": "stdout",
     "output_type": "stream",
     "text": [
      "False\n"
     ]
    }
   ],
   "source": [
    "num = \"1234.56\" \n",
    "print(isinstance(num, float))"
   ]
  },
  {
   "cell_type": "code",
   "execution_count": 93,
   "metadata": {},
   "outputs": [
    {
     "name": "stdout",
     "output_type": "stream",
     "text": [
      "False\n"
     ]
    }
   ],
   "source": [
    "print(isinstance(\"25\", int))"
   ]
  },
  {
   "cell_type": "code",
   "execution_count": 94,
   "metadata": {},
   "outputs": [
    {
     "name": "stdout",
     "output_type": "stream",
     "text": [
      "False\n"
     ]
    }
   ],
   "source": [
    "letter = ord('M') \n",
    "print(isinstance(letter, str))"
   ]
  },
  {
   "cell_type": "code",
   "execution_count": 95,
   "metadata": {},
   "outputs": [
    {
     "name": "stdout",
     "output_type": "stream",
     "text": [
      "False\n"
     ]
    }
   ],
   "source": [
    "print(\"seven\".isdigit())"
   ]
  },
  {
   "cell_type": "code",
   "execution_count": 98,
   "metadata": {},
   "outputs": [
    {
     "name": "stdout",
     "output_type": "stream",
     "text": [
      "Student\n"
     ]
    }
   ],
   "source": [
    "gpa = 3.49 \n",
    "result = \"\"\n",
    "if gpa >= 3.5:\n",
    "       result = \"Honors\"\n",
    "print(result + \"Student\")"
   ]
  },
  {
   "cell_type": "code",
   "execution_count": 99,
   "metadata": {},
   "outputs": [
    {
     "name": "stdout",
     "output_type": "stream",
     "text": [
      "True\n"
     ]
    }
   ],
   "source": [
    "print('A' < 'B' < 'c')"
   ]
  },
  {
   "cell_type": "code",
   "execution_count": 100,
   "metadata": {},
   "outputs": [
    {
     "name": "stdout",
     "output_type": "stream",
     "text": [
      "Your change contains 3 dollars.\n"
     ]
    }
   ],
   "source": [
    "change = 356\n",
    "if change >= 100:\n",
    "        print(\"Your change contains\", change // 100, \"dollars.\")\n",
    "else:\n",
    "        print(\"Your change contains no dollars.\")"
   ]
  },
  {
   "cell_type": "code",
   "execution_count": 101,
   "metadata": {},
   "outputs": [
    {
     "name": "stdout",
     "output_type": "stream",
     "text": [
      "Enter length of cloth in yards: 6\n",
      "Cost of cloth is $15.50.\n"
     ]
    }
   ],
   "source": [
    "length = eval(input(\"Enter length of cloth in yards: \")) \n",
    "if length < 1:\n",
    "    cost = 3.00    # cost in dollars\n",
    "else:\n",
    "    cost = 3.00 + ((length - 1) * 2.50)\n",
    "result = \"Cost of cloth is ${0:0.2f}.\".format(cost)\n",
    "print(result)"
   ]
  },
  {
   "cell_type": "code",
   "execution_count": 103,
   "metadata": {},
   "outputs": [
    {
     "name": "stdout",
     "output_type": "stream",
     "text": [
      "Enter a letter: a\n",
      "A is a vowel.\n"
     ]
    }
   ],
   "source": [
    "isvowel = False\n",
    "letter = input(\"Enter a letter: \") \n",
    "letter = letter.upper()\n",
    "if (letter in \"AEIOU\"):\n",
    "    isvowel = True\n",
    "if isvowel:\n",
    "    print(letter, \"is a vowel.\")\n",
    "elif (not(65 <= ord(letter) <= 90)):\n",
    "    print(\"You did not enter a letter.\")\n",
    "else:\n",
    "    print(letter, \"is not a vowel.\")"
   ]
  },
  {
   "cell_type": "code",
   "execution_count": 105,
   "metadata": {},
   "outputs": [
    {
     "name": "stdout",
     "output_type": "stream",
     "text": [
      "positive\n"
     ]
    }
   ],
   "source": [
    "number = 5\n",
    "if number < 0:\n",
    "        print(\"negative\")\n",
    "else:\n",
    "    if number == 0:\n",
    "        print(\"zero\")\n",
    "    else:\n",
    "        print(\"positive\")"
   ]
  },
  {
   "cell_type": "code",
   "execution_count": 106,
   "metadata": {},
   "outputs": [
    {
     "name": "stdout",
     "output_type": "stream",
     "text": [
      "An empty string is false.\n"
     ]
    }
   ],
   "source": [
    "if \"\":\n",
    "    print(\"An empty string is true.\")\n",
    "else:\n",
    "    print(\"An empty string is false.\")"
   ]
  },
  {
   "cell_type": "code",
   "execution_count": 107,
   "metadata": {},
   "outputs": [
    {
     "ename": "SyntaxError",
     "evalue": "invalid syntax (<ipython-input-107-8b72aef7ae28>, line 2)",
     "output_type": "error",
     "traceback": [
      "\u001b[0;36m  File \u001b[0;32m\"<ipython-input-107-8b72aef7ae28>\"\u001b[0;36m, line \u001b[0;32m2\u001b[0m\n\u001b[0;31m    if number > 5 and < 9:\u001b[0m\n\u001b[0m                      ^\u001b[0m\n\u001b[0;31mSyntaxError\u001b[0m\u001b[0;31m:\u001b[0m invalid syntax\n"
     ]
    }
   ],
   "source": [
    "number = 6\n",
    "if number > 5 and < 9:\n",
    "    print(\"Yes\")\n",
    "else:\n",
    "    print(\"No\")"
   ]
  },
  {
   "cell_type": "code",
   "execution_count": 109,
   "metadata": {},
   "outputs": [
    {
     "ename": "SyntaxError",
     "evalue": "invalid syntax (<ipython-input-109-263640b69eaf>, line 1)",
     "output_type": "error",
     "traceback": [
      "\u001b[0;36m  File \u001b[0;32m\"<ipython-input-109-263640b69eaf>\"\u001b[0;36m, line \u001b[0;32m1\u001b[0m\n\u001b[0;31m    if a = b:\u001b[0m\n\u001b[0m         ^\u001b[0m\n\u001b[0;31mSyntaxError\u001b[0m\u001b[0;31m:\u001b[0m invalid syntax\n"
     ]
    }
   ],
   "source": [
    "if a = b:\n",
    "    print(\"same\")"
   ]
  },
  {
   "cell_type": "code",
   "execution_count": 111,
   "metadata": {},
   "outputs": [
    {
     "name": "stdout",
     "output_type": "stream",
     "text": [
      "eleven\n"
     ]
    }
   ],
   "source": [
    "if (a == 7): \n",
    "    print(\"seven\")\n",
    "elif (a != 7):\n",
    "    print(\"eleven\")"
   ]
  },
  {
   "cell_type": "code",
   "execution_count": 114,
   "metadata": {},
   "outputs": [
    {
     "name": "stdout",
     "output_type": "stream",
     "text": [
      "Large city!\n"
     ]
    }
   ],
   "source": [
    "state = 'CA'\n",
    "city = 'LA'\n",
    "if state == \"CA\":\n",
    "    if city == \"LA\" or city == \"SD\":\n",
    "        print(\"Large city!\")"
   ]
  },
  {
   "cell_type": "code",
   "execution_count": 116,
   "metadata": {},
   "outputs": [
    {
     "name": "stdout",
     "output_type": "stream",
     "text": [
      "Large city!\n"
     ]
    }
   ],
   "source": [
    "if state == 'CA' and (city == \"LA\" or city == \"SD\"):\n",
    "    print('Large city!')"
   ]
  },
  {
   "cell_type": "code",
   "execution_count": 124,
   "metadata": {},
   "outputs": [
    {
     "name": "stdout",
     "output_type": "stream",
     "text": [
      "How tall (in feet) is the Statue of Liberty? 141\n",
      "Nope\n",
      "The statue is 151 feet tall from base to torch.\n"
     ]
    }
   ],
   "source": [
    "feet = eval(input(\"How tall (in feet) is the Statue of Liberty? \")) \n",
    "if (feet <= 141):\n",
    "    print(\"Nope\")\n",
    "if (feet > 141):\n",
    "    if (feet < 161):\n",
    "        print(\"Good\")\n",
    "    else:\n",
    "        print(\"Nope\")\n",
    "print(\"The statue is 151 feet tall from base to torch.\")"
   ]
  },
  {
   "cell_type": "code",
   "execution_count": 125,
   "metadata": {},
   "outputs": [
    {
     "name": "stdout",
     "output_type": "stream",
     "text": [
      "How tall (in feet) is the Statue of Liberty? 141\n",
      "Nope\n",
      "The statue is 151 feet tall from base to torch.\n"
     ]
    }
   ],
   "source": [
    "feet = eval(input(\"How tall (in feet) is the Statue of Liberty? \")) \n",
    "if  141 < feet < 161:\n",
    "    print('Good')\n",
    "else:\n",
    "    print('Nope')\n",
    "print(\"The statue is 151 feet tall from base to torch.\")"
   ]
  },
  {
   "cell_type": "code",
   "execution_count": 126,
   "metadata": {},
   "outputs": [
    {
     "name": "stdout",
     "output_type": "stream",
     "text": [
      "18\n"
     ]
    }
   ],
   "source": [
    "num = 3\n",
    "while num < 15:\n",
    "       num += 5\n",
    "print(num)"
   ]
  },
  {
   "cell_type": "code",
   "execution_count": 128,
   "metadata": {},
   "outputs": [
    {
     "name": "stdout",
     "output_type": "stream",
     "text": [
      "10\n"
     ]
    }
   ],
   "source": [
    "total = 0 \n",
    "num = 1\n",
    "while num < 5:\n",
    "    total += num\n",
    "    num += 1\n",
    "print(total)"
   ]
  },
  {
   "cell_type": "code",
   "execution_count": 1,
   "metadata": {},
   "outputs": [
    {
     "name": "stdout",
     "output_type": "stream",
     "text": [
      "Atlantic, Pacific, Antarctic\n"
     ]
    }
   ],
   "source": [
    "oceans = [\"Atlantic\", \"Pacific\", \"Indian\", \"Arctic\", \"Antarctic\"] \n",
    "i = len(oceans) - 1\n",
    "while i >= 0:\n",
    "    if len(oceans[i]) < 7:\n",
    "        del oceans[i]\n",
    "    i=i- 1\n",
    "print(\", \".join(oceans))"
   ]
  },
  {
   "cell_type": "code",
   "execution_count": 2,
   "metadata": {},
   "outputs": [
    {
     "name": "stdout",
     "output_type": "stream",
     "text": [
      "Try #1: In what year did the Beatles invade the U.S.? 1950\n",
      "Later than 1950\n",
      "Try #2: In what year did the Beatles invade the U.S.? 1970\n",
      "Earlier than 1970\n",
      "Try #3: In what year did the Beatles invade the U.S.? 1964\n",
      "\n",
      "Yes. They performed on the Ed Sullivan show in 1964.\n",
      "You answered correctly in 3 tries.\n"
     ]
    }
   ],
   "source": [
    "numTries = 0 \n",
    "year = 0\n",
    "while (numTries < 7) and (year != 1964):\n",
    "    numTries += 1\n",
    "    year = int(input(\"Try #\" + str(numTries) + \": In what year \" +\n",
    "                         \"did the Beatles invade the U.S.? \"))\n",
    "    if year == 1964:\n",
    "        print(\"\\nYes. They performed on the Ed Sullivan show in 1964.\")\n",
    "        print(\"You answered correctly in \" + str(numTries) + \" tries.\")\n",
    "    elif year < 1964:\n",
    "        print(\"Later than\", year)\n",
    "    else: # year > 1964\n",
    "        print(\"Earlier than\", year)\n",
    "if (numTries == 7) and (year != 1964):\n",
    "    print(\"\\nYour 7 tries are up. The answer is 1964.\")"
   ]
  },
  {
   "cell_type": "code",
   "execution_count": 3,
   "metadata": {},
   "outputs": [
    {
     "ename": "SyntaxError",
     "evalue": "invalid syntax (<ipython-input-3-a7fb92020f98>, line 2)",
     "output_type": "error",
     "traceback": [
      "\u001b[0;36m  File \u001b[0;32m\"<ipython-input-3-a7fb92020f98>\"\u001b[0;36m, line \u001b[0;32m2\u001b[0m\n\u001b[0;31m    while True\u001b[0m\n\u001b[0m              ^\u001b[0m\n\u001b[0;31mSyntaxError\u001b[0m\u001b[0;31m:\u001b[0m invalid syntax\n"
     ]
    }
   ],
   "source": [
    "num = 0\n",
    "while True\n",
    "    num = 1\n",
    "    print(num)\n",
    "    num += 1"
   ]
  },
  {
   "cell_type": "code",
   "execution_count": 5,
   "metadata": {},
   "outputs": [
    {
     "ename": "SyntaxError",
     "evalue": "invalid syntax (<ipython-input-5-b271d8adfa31>, line 5)",
     "output_type": "error",
     "traceback": [
      "\u001b[0;36m  File \u001b[0;32m\"<ipython-input-5-b271d8adfa31>\"\u001b[0;36m, line \u001b[0;32m5\u001b[0m\n\u001b[0;31m    if i = len(list1):\u001b[0m\n\u001b[0m         ^\u001b[0m\n\u001b[0;31mSyntaxError\u001b[0m\u001b[0;31m:\u001b[0m invalid syntax\n"
     ]
    }
   ],
   "source": [
    "list1 = ['a', 'b', 'c', 'd']\n",
    "i= 0\n",
    "while True:\n",
    "        print(list1[i])\n",
    "        if i = len(list1):\n",
    "            break \n",
    "        i=i+ 1"
   ]
  },
  {
   "cell_type": "code",
   "execution_count": 19,
   "metadata": {},
   "outputs": [
    {
     "name": "stdout",
     "output_type": "stream",
     "text": [
      "20\n"
     ]
    }
   ],
   "source": [
    "L = [2, 4, 6, 8] \n",
    "total = 0\n",
    "while L != []:\n",
    "    total += L[0]\n",
    "    L = L[1:]\n",
    "print(total)"
   ]
  },
  {
   "cell_type": "code",
   "execution_count": 21,
   "metadata": {},
   "outputs": [
    {
     "data": {
      "text/plain": [
       "[-11, -10, -9, -8]"
      ]
     },
     "execution_count": 21,
     "metadata": {},
     "output_type": "execute_result"
    }
   ],
   "source": [
    "list(range(-11, -7)) "
   ]
  },
  {
   "cell_type": "code",
   "execution_count": 22,
   "metadata": {},
   "outputs": [
    {
     "data": {
      "text/plain": [
       "[2010, 2015, 2020, 2025]"
      ]
     },
     "execution_count": 22,
     "metadata": {},
     "output_type": "execute_result"
    }
   ],
   "source": [
    "list(range(2010, 2030, 5))"
   ]
  },
  {
   "cell_type": "code",
   "execution_count": 23,
   "metadata": {},
   "outputs": [
    {
     "data": {
      "text/plain": [
       "[0]"
      ]
     },
     "execution_count": 23,
     "metadata": {},
     "output_type": "execute_result"
    }
   ],
   "source": [
    "list(range(1))"
   ]
  },
  {
   "cell_type": "code",
   "execution_count": 24,
   "metadata": {},
   "outputs": [
    {
     "data": {
      "text/plain": [
       "[12, 7]"
      ]
     },
     "execution_count": 24,
     "metadata": {},
     "output_type": "execute_result"
    }
   ],
   "source": [
    "list(range(12, 2, -5))"
   ]
  },
  {
   "cell_type": "code",
   "execution_count": 25,
   "metadata": {},
   "outputs": [
    {
     "data": {
      "text/plain": [
       "[0, 1, 2, 3]"
      ]
     },
     "execution_count": 25,
     "metadata": {},
     "output_type": "execute_result"
    }
   ],
   "source": [
    "list(range(4)) 0, 1, 2, 3 4, 3, 2, 1"
   ]
  },
  {
   "cell_type": "code",
   "execution_count": 35,
   "metadata": {},
   "outputs": [
    {
     "data": {
      "text/plain": [
       "[4, 3, 2, 1]"
      ]
     },
     "execution_count": 35,
     "metadata": {},
     "output_type": "execute_result"
    }
   ],
   "source": [
    "list(range(4,0,-1))"
   ]
  },
  {
   "cell_type": "code",
   "execution_count": 37,
   "metadata": {},
   "outputs": [
    {
     "data": {
      "text/plain": [
       "[7]"
      ]
     },
     "execution_count": 37,
     "metadata": {},
     "output_type": "execute_result"
    }
   ],
   "source": [
    "list(range(7,8)) -5, -3, -1, 1"
   ]
  },
  {
   "cell_type": "code",
   "execution_count": 38,
   "metadata": {},
   "outputs": [
    {
     "data": {
      "text/plain": [
       "[-5, -3, -1, 1]"
      ]
     },
     "execution_count": 38,
     "metadata": {},
     "output_type": "execute_result"
    }
   ],
   "source": [
    "list(range(-5,2,2))"
   ]
  },
  {
   "cell_type": "code",
   "execution_count": 39,
   "metadata": {},
   "outputs": [
    {
     "name": "stdout",
     "output_type": "stream",
     "text": [
      "6\n",
      "8\n",
      "10\n",
      "12\n"
     ]
    }
   ],
   "source": [
    "for i in range(3, 7):\n",
    "    print(2 * i)"
   ]
  },
  {
   "cell_type": "code",
   "execution_count": 40,
   "metadata": {},
   "outputs": [
    {
     "name": "stdout",
     "output_type": "stream",
     "text": [
      "-9\n",
      "-6\n",
      "-3\n"
     ]
    }
   ],
   "source": [
    "for i in range(-9, 0, 3):\n",
    "    print(i)"
   ]
  },
  {
   "cell_type": "code",
   "execution_count": 41,
   "metadata": {},
   "outputs": [
    {
     "name": "stdout",
     "output_type": "stream",
     "text": [
      "6\n"
     ]
    }
   ],
   "source": [
    "n= 3\n",
    "total =0\n",
    "for i in range(1, n + 1):\n",
    "    total += i\n",
    "print(total)"
   ]
  },
  {
   "cell_type": "code",
   "execution_count": 42,
   "metadata": {},
   "outputs": [
    {
     "name": "stdout",
     "output_type": "stream",
     "text": [
      "10\n",
      "9\n",
      "8\n",
      "7\n",
      "6\n",
      "5\n",
      "4\n",
      "3\n",
      "2\n",
      "1\n"
     ]
    }
   ],
   "source": [
    "for countdown in range(10, 0, -1):\n",
    "    print(countdown)"
   ]
  },
  {
   "cell_type": "code",
   "execution_count": 43,
   "metadata": {},
   "outputs": [
    {
     "name": "stdout",
     "output_type": "stream",
     "text": [
      "3\n"
     ]
    }
   ],
   "source": [
    "numCaps = 0\n",
    "name = \"United States of America\"\n",
    "for ch in name:\n",
    "    if ch.isupper():\n",
    "        numCaps += 1\n",
    "print(numCaps)"
   ]
  },
  {
   "cell_type": "code",
   "execution_count": 44,
   "metadata": {},
   "outputs": [
    {
     "name": "stdout",
     "output_type": "stream",
     "text": [
      "code\n"
     ]
    }
   ],
   "source": [
    "word = \"cloudier\"\n",
    "newWord = \"\"\n",
    "evenIndex = True\n",
    "for ch in word:\n",
    "    if evenIndex:\n",
    "        newWord += ch\n",
    "    evenIndex = not evenIndex\n",
    "print(newWord)"
   ]
  },
  {
   "cell_type": "code",
   "execution_count": 45,
   "metadata": {},
   "outputs": [
    {
     "name": "stdout",
     "output_type": "stream",
     "text": [
      "P\n"
     ]
    }
   ],
   "source": [
    "for ch in \"Python\":\n",
    "    break\n",
    "print(ch)"
   ]
  },
  {
   "cell_type": "code",
   "execution_count": 48,
   "metadata": {},
   "outputs": [
    {
     "name": "stdout",
     "output_type": "stream",
     "text": [
      "13\n"
     ]
    }
   ],
   "source": [
    "list1 = [2, 9, 6, 7, 13, 3] \n",
    "maxOfOdds = 0\n",
    "for num in list1:\n",
    "    if (num % 2 == 1) and (num > maxOfOdds):\n",
    "        maxOfOdds = num\n",
    "print(maxOfOdds)"
   ]
  },
  {
   "cell_type": "code",
   "execution_count": 50,
   "metadata": {},
   "outputs": [
    {
     "name": "stdout",
     "output_type": "stream",
     "text": [
      "4\n"
     ]
    }
   ],
   "source": [
    "numOfNumbers = 0\n",
    "list1 = [\"three\", 4, 5.7, \"six\", \"seven\", 8, 3.1416] \n",
    "for item in list1:\n",
    "        if isinstance(item, str):\n",
    "            continue\n",
    "        numOfNumbers += 1\n",
    "print(numOfNumbers)"
   ]
  },
  {
   "cell_type": "code",
   "execution_count": 53,
   "metadata": {},
   "outputs": [
    {
     "name": "stdout",
     "output_type": "stream",
     "text": [
      "Leaf 1: sunshine\n",
      "Leaf 2: rain\n",
      "Leaf 3: the roses that bloom in the lane\n",
      "Leaf 4: somebody I adore\n"
     ]
    }
   ],
   "source": [
    "# I'm looking over a four leaf clover.\n",
    "leaves = (\"sunshine\",\"rain\", \"the roses that bloom in the lane\",\n",
    "              \"somebody I adore\")\n",
    "number = 1\n",
    "for leaf in leaves:\n",
    "    print(\"Leaf\", str(number) + ':', leaf)\n",
    "    number += 1"
   ]
  },
  {
   "cell_type": "code",
   "execution_count": 55,
   "metadata": {},
   "outputs": [
    {
     "name": "stdout",
     "output_type": "stream",
     "text": [
      "30\n"
     ]
    }
   ],
   "source": [
    "dataList = []\n",
    "infile = open(\"Numbers.txt\", 'r')\n",
    "for line in infile:\n",
    "        dataList.append(eval(line))\n",
    "infile.close()\n",
    "print(sum(dataList))"
   ]
  },
  {
   "cell_type": "code",
   "execution_count": 57,
   "metadata": {},
   "outputs": [
    {
     "name": "stdout",
     "output_type": "stream",
     "text": [
      "\"Hawaii\""
     ]
    }
   ],
   "source": [
    "infile = open(\"States.txt\", 'r')\n",
    "for line in infile:\n",
    "    continue\n",
    "infile.close()\n",
    "print(line, end=\"\")"
   ]
  },
  {
   "cell_type": "code",
   "execution_count": 58,
   "metadata": {},
   "outputs": [
    {
     "ename": "TypeError",
     "evalue": "unsupported operand type(s) for +: 'int' and 'str'",
     "output_type": "error",
     "traceback": [
      "\u001b[0;31m---------------------------------------------------------------------------\u001b[0m",
      "\u001b[0;31mTypeError\u001b[0m                                 Traceback (most recent call last)",
      "\u001b[0;32m<ipython-input-58-4a041a508c98>\u001b[0m in \u001b[0;36m<module>\u001b[0;34m()\u001b[0m\n\u001b[1;32m      1\u001b[0m \u001b[0;32mfor\u001b[0m \u001b[0mi\u001b[0m \u001b[0;32min\u001b[0m \u001b[0mrange\u001b[0m\u001b[0;34m(\u001b[0m\u001b[0;36m1\u001b[0m\u001b[0;34m,\u001b[0m \u001b[0;36m4\u001b[0m\u001b[0;34m)\u001b[0m\u001b[0;34m:\u001b[0m\u001b[0;34m\u001b[0m\u001b[0m\n\u001b[0;32m----> 2\u001b[0;31m     \u001b[0mprint\u001b[0m\u001b[0;34m(\u001b[0m\u001b[0mi\u001b[0m \u001b[0;34m+\u001b[0m \u001b[0;34m\" \"\u001b[0m \u001b[0;34m+\u001b[0m \u001b[0;36m2\u001b[0m \u001b[0;34m**\u001b[0m \u001b[0mi\u001b[0m\u001b[0;34m)\u001b[0m\u001b[0;34m\u001b[0m\u001b[0m\n\u001b[0m",
      "\u001b[0;31mTypeError\u001b[0m: unsupported operand type(s) for +: 'int' and 'str'"
     ]
    }
   ],
   "source": [
    "for i in range(1, 4):\n",
    "    print(i + \" \" + 2 ** i)"
   ]
  },
  {
   "cell_type": "code",
   "execution_count": 60,
   "metadata": {},
   "outputs": [
    {
     "name": "stdout",
     "output_type": "stream",
     "text": [
      "['a', 'b', 'c']\n"
     ]
    }
   ],
   "source": [
    "list1 = ['a', 'b', 'c'] \n",
    "for letter in list1:\n",
    "    letter = letter.upper()\n",
    "print(list1)"
   ]
  },
  {
   "cell_type": "code",
   "execution_count": 61,
   "metadata": {},
   "outputs": [
    {
     "name": "stdout",
     "output_type": "stream",
     "text": [
      "['one', 'two', 'three', 'four']\n"
     ]
    }
   ],
   "source": [
    "list1 = [\"one\", \"two\", \"three\", \"four\"] \n",
    "for item in list1:\n",
    "    item = item.upper()\n",
    "print(list1)"
   ]
  },
  {
   "cell_type": "code",
   "execution_count": 62,
   "metadata": {},
   "outputs": [
    {
     "name": "stdout",
     "output_type": "stream",
     "text": [
      "hello\n",
      "hello\n",
      "hello\n",
      "hello\n"
     ]
    }
   ],
   "source": [
    "print(\"hello\") \n",
    "print(\"hello\") \n",
    "print(\"hello\") \n",
    "print(\"hello\")"
   ]
  },
  {
   "cell_type": "code",
   "execution_count": 63,
   "metadata": {},
   "outputs": [
    {
     "name": "stdout",
     "output_type": "stream",
     "text": [
      "hello\n",
      "hello\n",
      "hello\n",
      "hello\n"
     ]
    }
   ],
   "source": [
    "for i in range(4):\n",
    "    print('hello')"
   ]
  },
  {
   "cell_type": "code",
   "execution_count": 64,
   "metadata": {},
   "outputs": [
    {
     "name": "stdout",
     "output_type": "stream",
     "text": [
      "ErieHuronMichiganOntarioSuperior"
     ]
    }
   ],
   "source": [
    "lakes = [\"Erie\", \"Huron\", \"Michigan\", \"Ontario\", \"Superior\"] \n",
    "for i in range(len(lakes)):\n",
    "    print(lakes[i], end=\"\")\n",
    "if i < len(lakes) - 1:\n",
    "    print(\" | \", end=\"\")"
   ]
  },
  {
   "cell_type": "code",
   "execution_count": 72,
   "metadata": {},
   "outputs": [
    {
     "name": "stdout",
     "output_type": "stream",
     "text": [
      "Enter a telephone number: 344-874-8833\n",
      "Number without dashes is 3448748833.\n"
     ]
    }
   ],
   "source": [
    "tele_num = str(input(\"Enter a telephone number: \"))\n",
    "new_tele = ''\n",
    "for num in tele_num:\n",
    "    if '-' == num:\n",
    "        new_tele = tele_num.replace(num,'')\n",
    "print(\"Number without dashes is {:s}.\".format(new_tele))        "
   ]
  },
  {
   "cell_type": "code",
   "execution_count": 76,
   "metadata": {},
   "outputs": [
    {
     "name": "stdout",
     "output_type": "stream",
     "text": [
      "Enter a telephone number: 344-874-8833\n",
      "Number without dashes is 3448748833.\n"
     ]
    }
   ],
   "source": [
    "tele_num = str(input(\"Enter a telephone number: \"))\n",
    "print(\"Number without dashes is {:s}.\".format(tele_num.replace('-','')))"
   ]
  },
  {
   "cell_type": "code",
   "execution_count": 77,
   "metadata": {},
   "outputs": [
    {
     "name": "stdout",
     "output_type": "stream",
     "text": [
      "Enter a number: 3.4\n",
      "Enter a number: 9.3\n",
      "Enter a number: 5.5\n",
      "Largest number: 9.3\n"
     ]
    }
   ],
   "source": [
    "high = None\n",
    "for run in range(3):\n",
    "    number = float(input(\"Enter a number: \"))\n",
    "    if high is None:\n",
    "        high = number\n",
    "    elif number > high:\n",
    "        high = number\n",
    "print('Largest number: {:.1f}'.format(high))        "
   ]
  },
  {
   "cell_type": "code",
   "execution_count": 79,
   "metadata": {},
   "outputs": [
    {
     "name": "stdout",
     "output_type": "stream",
     "text": [
      "The sum 1 + 1/2 + 1/3 + ... + 1/100 is 5.18738 to five decimal places.\n"
     ]
    }
   ],
   "source": [
    "sum = 1\n",
    "for i in range(2,101):\n",
    "    sum += (1/i)\n",
    "print('The sum 1 + 1/2 + 1/3 + ... + 1/100 is {:.5f} to five decimal places.'.format(sum))    "
   ]
  },
  {
   "cell_type": "code",
   "execution_count": 80,
   "metadata": {},
   "outputs": [
    {
     "name": "stdout",
     "output_type": "stream",
     "text": [
      "The sum 1 + 2 + ... + 100 is 5050\n"
     ]
    }
   ],
   "source": [
    "sum = 0\n",
    "for i in range(1,101):\n",
    "    sum += i\n",
    "print('The sum 1 + 2 + ... + 100 is {:d}.'.format(sum))    "
   ]
  },
  {
   "cell_type": "code",
   "execution_count": 82,
   "metadata": {},
   "outputs": [
    {
     "name": "stdout",
     "output_type": "stream",
     "text": [
      "Enter a word: Education\n",
      "Education is not a vowel word.\n"
     ]
    }
   ],
   "source": [
    "vowels = ['a','e','i','o','u']\n",
    "\n",
    "word = input(\"Enter a word: \")\n",
    "if vowel in word:\n",
    "    print(\"{:s} is a vowel word.\".format(word))\n",
    "else:\n",
    "    print(\"{:s} is not a vowel word.\".format(word))"
   ]
  },
  {
   "cell_type": "code",
   "execution_count": 85,
   "metadata": {},
   "outputs": [
    {
     "name": "stdout",
     "output_type": "stream",
     "text": [
      "Enter a word: education\n",
      "EDUCATION is a vowel word.\n"
     ]
    }
   ],
   "source": [
    "vowels = ['a','e','i','o','u']\n",
    "word = input(\"Enter a word: \")\n",
    "count = 0\n",
    "for v in vowels:\n",
    "    if v in word:\n",
    "        count +=1\n",
    "if count == 5:\n",
    "    print(\"{:s} is a vowel word.\".format(word.upper()))\n",
    "else:\n",
    "    print(\"{:s} is not a vowel word.\".format(word.upper()))      "
   ]
  },
  {
   "cell_type": "code",
   "execution_count": 137,
   "metadata": {},
   "outputs": [
    {
     "name": "stdout",
     "output_type": "stream",
     "text": [
      "Simple Interest  Compound Interest\n",
      "$1,050.00               $1,050.00\n",
      "$1,100.00               $1,102.50\n",
      "$1,150.00               $1,157.62\n",
      "$1,200.00               $1,215.51\n"
     ]
    }
   ],
   "source": [
    "P = 1000\n",
    "r = .05\n",
    "t = 4\n",
    "list_SI = []\n",
    "list_CI = []\n",
    "list_num = [1,2,3,4]\n",
    "SI = (P*r) + P\n",
    "\n",
    "for i in range(t):\n",
    "    list_SI.append(SI)\n",
    "    SI += 50   \n",
    "\n",
    "for i in range(t):\n",
    "    P = (P * r)+ P\n",
    "    list_CI.append(round(P,2))   \n",
    "\n",
    "single_dict = dict(zip(list_SI,list_CI))\n",
    "print(\"{:17}{}\".format('Simple Interest','Compound Interest'))\n",
    "for key, val in single_dict.items():\n",
    "    print(\"${:,.2f}{:>16s}{:,.2f}\".format(key,'$',val))"
   ]
  },
  {
   "cell_type": "code",
   "execution_count": null,
   "metadata": {
    "collapsed": true
   },
   "outputs": [],
   "source": [
    "balance_at_end_of_month = (1.0025) * balance_at_end_of_month + 100"
   ]
  },
  {
   "cell_type": "code",
   "execution_count": 164,
   "metadata": {},
   "outputs": [
    {
     "name": "stdout",
     "output_type": "stream",
     "text": [
      "                 BALANCE AT\n",
      "YEAR             END OF YEAR\n",
      "2014             $1,216.63\n",
      "2015             $2,470.29\n",
      "2016             $3,762.07\n",
      "2017             $5,093.13\n",
      "2018             $6,464.66\n"
     ]
    }
   ],
   "source": [
    "balance_at_the_end_of_month = 0\n",
    "new_list_balance = []\n",
    "year = ['2014','2015','2016','2017','2018']\n",
    "for j in range(5):\n",
    "    for i in range(12):\n",
    "        balance_at_the_end_of_month = round(((1.0025) * balance_at_the_end_of_month) + 100,2)\n",
    "    new_list_balance.append(balance_at_the_end_of_month) \n",
    "\n",
    "c_dict = dict(zip(year,new_list_balance))\n",
    "print('{:>27}'.format(\"BALANCE AT\"))\n",
    "print(\"{:17}{}\".format('YEAR','END OF YEAR'))\n",
    "for key, val in c_dict.items():\n",
    "    print(\"{:s}{:>14s}{:,.2f}\".format(key,'$',val))"
   ]
  },
  {
   "cell_type": "code",
   "execution_count": 168,
   "metadata": {},
   "outputs": [
    {
     "name": "stdout",
     "output_type": "stream",
     "text": [
      "1             $17,000.00\n",
      "2             $14,450.00\n",
      "3             $12,282.50\n",
      "4             $10,440.12\n"
     ]
    }
   ],
   "source": [
    "intial_price = 20000\n",
    "years = 4\n",
    "list_dep = []\n",
    "year = [1,2,3,4]\n",
    "for i in range(4):\n",
    "    intial_price -= (intial_price * 0.15)\n",
    "    list_dep.append(intial_price)\n",
    "    \n",
    "c_dict = dict(zip(year,list_dep))\n",
    "for key, val in c_dict.items():\n",
    "    print(\"{:d}{:>14s}{:,.2f}\".format(key,'$',val))"
   ]
  },
  {
   "cell_type": "code",
   "execution_count": 169,
   "metadata": {},
   "outputs": [
    {
     "name": "stdout",
     "output_type": "stream",
     "text": [
      "How many numbers do you want to enter: 4\n",
      "Enter a number: 9\n",
      "Enter a number: 3\n",
      "Enter a number: 6\n",
      "Enter a number: 5\n",
      "Median : 5.5\n"
     ]
    }
   ],
   "source": [
    "import statistics\n",
    "total_num = int(input(\"How many numbers do you want to enter: \"))\n",
    "list_num = []\n",
    "for i in range(total_num):\n",
    "    a = int(input(\"Enter a number: \"))    \n",
    "    list_num.append(a)\n",
    "print('Median : {:.1f}'.format(statistics.median(list_num)))    "
   ]
  },
  {
   "cell_type": "code",
   "execution_count": 172,
   "metadata": {},
   "outputs": [
    {
     "name": "stdout",
     "output_type": "stream",
     "text": [
      "The value of the stock at the end of the year was $9,483.48.\n"
     ]
    }
   ],
   "source": [
    "intial_value = 10000\n",
    "\n",
    "for i in range(6):\n",
    "    intial_value -= (intial_value * 0.16)\n",
    "for i in range(6):\n",
    "    intial_value += (intial_value * 0.18)\n",
    "    \n",
    "print('The value of the stock at the end of the year was ${:,.2f}.'.format(intial_value))    "
   ]
  },
  {
   "cell_type": "code",
   "execution_count": 176,
   "metadata": {},
   "outputs": [
    {
     "name": "stdout",
     "output_type": "stream",
     "text": [
      "The Steelers first won the Super Bowl in game #9\n"
     ]
    }
   ],
   "source": [
    "raw_team_data = open('SBWinners.txt','r').read().split(\"\\n\")\n",
    "win_num = 0\n",
    "for team in raw_team_data:\n",
    "    win_num += 1 \n",
    "    if team == 'Steelers':\n",
    "        break\n",
    "print(\"The Steelers first won the Super Bowl in game #{:d}.\".format(win_num)) "
   ]
  },
  {
   "cell_type": "code",
   "execution_count": 181,
   "metadata": {},
   "outputs": [
    {
     "name": "stdout",
     "output_type": "stream",
     "text": [
      "Enter one of five grades: 84\n",
      "Enter one of five grades: 96\n",
      "Enter one of five grades: 88\n",
      "Enter one of five grades: 77\n",
      "Enter one of five grades: 90\n",
      "Average Grade: 91.33\n"
     ]
    }
   ],
   "source": [
    "import statistics\n",
    "list_grade = []\n",
    "for i in range(5):\n",
    "    a = int(input(\"Enter one of five grades: \"))\n",
    "    list_grade.append(a)\n",
    "list_grade = sorted(list_grade)\n",
    "print('Average Grade: {:.2f}'.format(statistics.mean(list_grade[2:])))"
   ]
  },
  {
   "cell_type": "code",
   "execution_count": 189,
   "metadata": {},
   "outputs": [
    {
     "name": "stdout",
     "output_type": "stream",
     "text": [
      "Starting word:NAISNIENLGELTETWEORRSD\n",
      "Crossed out letters: N I N E L E T T E R S\n",
      "Remaining letters: A S I N G L E W O R D\n"
     ]
    }
   ],
   "source": [
    "intial_word = input(\"Starting word:\")\n",
    "letter_list = []\n",
    "for letter in intial_word:\n",
    "    letter_list.append(letter) \n",
    "print('Crossed out letters: '+(' ').join(letter_list[0::2]))\n",
    "print('Remaining letters: '+(' ').join(letter_list[1::2]))"
   ]
  },
  {
   "cell_type": "code",
   "execution_count": 193,
   "metadata": {},
   "outputs": [
    {
     "name": "stdout",
     "output_type": "stream",
     "text": [
      "['Connecticut', 'Delaware', 'Georgia', 'Maryland', 'Massachusetts']\n"
     ]
    }
   ],
   "source": [
    "raw_data = open('States.txt','r').read().split('\\n')\n",
    "print(sorted(raw_data[:13])[:5])"
   ]
  },
  {
   "cell_type": "code",
   "execution_count": 199,
   "metadata": {},
   "outputs": [
    {
     "name": "stdout",
     "output_type": "stream",
     "text": [
      "Enter a 4-digit number: 2178\n",
      "Since 4 times 2178 is 8712, the special number is 2178.\n"
     ]
    }
   ],
   "source": [
    "num = input(\"Enter a 4-digit number: \")\n",
    "if (int(num) * 4) == int(num[::-1]):\n",
    "    print('Since 4 times {:s} is {:d}, the special number is {:s}.'.format(num,(int(num)*4),num))\n",
    "else:\n",
    "    print('Not a special number.')"
   ]
  },
  {
   "cell_type": "code",
   "execution_count": 215,
   "metadata": {},
   "outputs": [
    {
     "name": "stdout",
     "output_type": "stream",
     "text": [
      "The 34th president was Dwight Eisenhower\n"
     ]
    }
   ],
   "source": [
    "raw_data = open('USPres.txt').read().replace('\\n',',')\n",
    "key = 1\n",
    "dictionary_pres = {}\n",
    "for i in raw_data.split(','):\n",
    "    dictionary_pres[key] = i\n",
    "    key+=1\n",
    "print('The 34th president was {0:s}'.format(dictionary_pres[34]))   "
   ]
  },
  {
   "cell_type": "code",
   "execution_count": 211,
   "metadata": {},
   "outputs": [
    {
     "name": "stdout",
     "output_type": "stream",
     "text": [
      "{'a': ['b', 'c', 'd'], 'b': ['e']}\n"
     ]
    }
   ],
   "source": [
    "d = {}\n",
    "for i in 'a=b,a=c,a=d,b=e'.split(\",\"):\n",
    "    k,v = i.split(\"=\")\n",
    "    d.setdefault(k,[]).append(v)\n",
    "print(d)"
   ]
  },
  {
   "cell_type": "code",
   "execution_count": 218,
   "metadata": {},
   "outputs": [
    {
     "name": "stdout",
     "output_type": "stream",
     "text": [
      "The sum of the digits in the numbers from 1 to one million is 499,999,500,000\n"
     ]
    },
    {
     "data": {
      "text/plain": [
       "500000500000.0"
      ]
     },
     "execution_count": 218,
     "metadata": {},
     "output_type": "execute_result"
    }
   ],
   "source": [
    "one_million = 1000000\n",
    "sum = 0\n",
    "for i in range(one_million):\n",
    "    sum += i\n",
    "print('The sum of the digits in the numbers from 1 to one million is {:,d}'.format(sum))  "
   ]
  },
  {
   "cell_type": "code",
   "execution_count": 219,
   "metadata": {},
   "outputs": [
    {
     "name": "stdout",
     "output_type": "stream",
     "text": [
      "1\n"
     ]
    }
   ],
   "source": [
    "n = abs(one_million)\n",
    "total = 0\n",
    "while n >= 1:\n",
    "    total += (n % 10)\n",
    "    n = n // 10\n",
    "print(total)"
   ]
  },
  {
   "cell_type": "code",
   "execution_count": 221,
   "metadata": {},
   "outputs": [
    {
     "name": "stdout",
     "output_type": "stream",
     "text": [
      "1\n"
     ]
    }
   ],
   "source": [
    "def sumdigits(number):\n",
    "    if number == 0:\n",
    "        return 0\n",
    "    else:\n",
    "        return (number%10) + sumdigits(number//10)\n",
    "summ = sumdigits(100) \n",
    "print(summ)"
   ]
  },
  {
   "cell_type": "code",
   "execution_count": 222,
   "metadata": {},
   "outputs": [
    {
     "ename": "NameError",
     "evalue": "name 'sumOfDigits' is not defined",
     "output_type": "error",
     "traceback": [
      "\u001b[0;31m---------------------------------------------------------------------------\u001b[0m",
      "\u001b[0;31mNameError\u001b[0m                                 Traceback (most recent call last)",
      "\u001b[0;32m<ipython-input-222-8f8e831f5592>\u001b[0m in \u001b[0;36m<module>\u001b[0;34m()\u001b[0m\n\u001b[1;32m      2\u001b[0m \u001b[0mresult\u001b[0m \u001b[0;34m=\u001b[0m \u001b[0;36m0\u001b[0m\u001b[0;34m\u001b[0m\u001b[0m\n\u001b[1;32m      3\u001b[0m \u001b[0;32mfor\u001b[0m \u001b[0mx\u001b[0m \u001b[0;32min\u001b[0m \u001b[0mrange\u001b[0m\u001b[0;34m(\u001b[0m\u001b[0;36m1\u001b[0m\u001b[0;34m,\u001b[0m \u001b[0mn\u001b[0m\u001b[0;34m+\u001b[0m\u001b[0;36m1\u001b[0m\u001b[0;34m)\u001b[0m \u001b[0;34m:\u001b[0m\u001b[0;34m\u001b[0m\u001b[0m\n\u001b[0;32m----> 4\u001b[0;31m     \u001b[0mresult\u001b[0m \u001b[0;34m=\u001b[0m \u001b[0mresult\u001b[0m \u001b[0;34m+\u001b[0m \u001b[0msumOfDigits\u001b[0m\u001b[0;34m(\u001b[0m\u001b[0mx\u001b[0m\u001b[0;34m)\u001b[0m\u001b[0;34m\u001b[0m\u001b[0m\n\u001b[0m\u001b[1;32m      5\u001b[0m \u001b[0mprint\u001b[0m\u001b[0;34m(\u001b[0m\u001b[0mresult\u001b[0m\u001b[0;34m)\u001b[0m\u001b[0;34m\u001b[0m\u001b[0m\n",
      "\u001b[0;31mNameError\u001b[0m: name 'sumOfDigits' is not defined"
     ]
    }
   ],
   "source": [
    "n = one_million\n",
    "result = 0 \n",
    "for x in range(1, n+1) :\n",
    "    result = result + sumOfDigits(x)\n",
    "print(result)        "
   ]
  },
  {
   "cell_type": "code",
   "execution_count": 226,
   "metadata": {},
   "outputs": [
    {
     "name": "stdout",
     "output_type": "stream",
     "text": [
      "Sum of digits in numbers from 1 to one million is 27,000,001\n"
     ]
    }
   ],
   "source": [
    "def sum_of_million(n) :\n",
    " \n",
    "    result = 0   \n",
    "    for x in range(1, n+1) :\n",
    "        result = result + sum_of_individual(x)\n",
    "  \n",
    "    return result\n",
    " \n",
    "def sum_of_individual(x) :\n",
    "    sum = 0\n",
    "    while (x != 0) :\n",
    "        sum = sum + x % 10\n",
    "        x   = x // 10\n",
    "     \n",
    "    return sum\n",
    " \n",
    "n = 1000000\n",
    "print(\"Sum of digits in numbers from 1 to one million is {:,d}\".format(sum_of_million(n)))"
   ]
  },
  {
   "cell_type": "code",
   "execution_count": 230,
   "metadata": {},
   "outputs": [
    {
     "name": "stdout",
     "output_type": "stream",
     "text": [
      "Enter number of bagels:12\n",
      "Costs is $7.20\n"
     ]
    }
   ],
   "source": [
    "num_bagels = int(input('Enter number of bagels:'))\n",
    "if num_bagels < 12:\n",
    "    print('Costs is ${:.2f}'.format((num_bagels * .75)))\n",
    "else:\n",
    "    print('Costs is ${:.2f}'.format((num_bagels * .60)))"
   ]
  },
  {
   "cell_type": "code",
   "execution_count": 235,
   "metadata": {},
   "outputs": [
    {
     "name": "stdout",
     "output_type": "stream",
     "text": [
      "Enter number of copies:125\n",
      "Costs is $5.75\n"
     ]
    }
   ],
   "source": [
    "num_copy = int(input('Enter number of copies:'))\n",
    "after_100 = 0\n",
    "total = 0\n",
    "if num_copy > 100:\n",
    "    total = 100 * .05\n",
    "    after_100 = num_copy - 100\n",
    "    total += (after_100*.03)\n",
    "    print('Costs is ${:.2f}'.format(total))\n",
    "else:\n",
    "    total = num_copy * .05\n",
    "    print('Costs is ${:.2f}'.format(total))\n",
    "    "
   ]
  },
  {
   "cell_type": "code",
   "execution_count": 254,
   "metadata": {},
   "outputs": [
    {
     "name": "stdout",
     "output_type": "stream",
     "text": [
      "Enter hourly wage: 12.50\n",
      "Enter number of hours worked: 47\n",
      "Gross pay for week is $631.25\n"
     ]
    }
   ],
   "source": [
    "h_wage = float(input('Enter hourly wage: '))\n",
    "h_work = int(input('Enter number of hours worked: '))\n",
    "\n",
    "if h_work < 40:\n",
    "    print('Gross pay for week is ${:.2f}'.format((h_wage * h_work)))\n",
    "else: \n",
    "    print('Gross pay for week is ${:.2f}'.format((40*h_wage) + (1.5*h_wage*(h_work - 40))))"
   ]
  },
  {
   "cell_type": "code",
   "execution_count": 251,
   "metadata": {},
   "outputs": [
    {
     "data": {
      "text/plain": [
       "631.25"
      ]
     },
     "execution_count": 251,
     "metadata": {},
     "output_type": "execute_result"
    }
   ],
   "source": [
    "h_wage = 12.50\n",
    "h_work = 47\n",
    "(40*h_wage) + (1.5*h_wage*(h_work - 40))"
   ]
  },
  {
   "cell_type": "code",
   "execution_count": 270,
   "metadata": {},
   "outputs": [
    {
     "name": "stdout",
     "output_type": "stream",
     "text": [
      "Enter word to translate: chip\n",
      "The word in Pig Latin is ipchay.\n"
     ]
    }
   ],
   "source": [
    "word = input('Enter word to translate: ') \n",
    "vowel = ['a','e','i','o','u']\n",
    "word_list = []\n",
    "count = 0\n",
    "for i in word:\n",
    "    word_list.append(i)\n",
    "for w in range(len(word_list)-1):\n",
    "    if word_list[w] in vowel:\n",
    "        val_af = ('').join(word_list[:count])\n",
    "        val_b = ('').join(word_list[w:])\n",
    "        print('The word in Pig Latin is {:s}.'.format(('').join(val_b + val_af)+'ay'))\n",
    "        break\n",
    "    else:\n",
    "        count += 1\n",
    "if count == (len(word_list) -1):\n",
    "    print('No vowels found..!')"
   ]
  },
  {
   "cell_type": "code",
   "execution_count": 257,
   "metadata": {},
   "outputs": [
    {
     "name": "stdout",
     "output_type": "stream",
     "text": [
      "elseifway\n"
     ]
    }
   ],
   "source": [
    "word = 'elseif'\n",
    "if 'e' == word[0]:\n",
    "    print(word + 'ay')"
   ]
  },
  {
   "cell_type": "code",
   "execution_count": 274,
   "metadata": {},
   "outputs": [
    {
     "name": "stdout",
     "output_type": "stream",
     "text": [
      "Enter current balance: 200\n",
      "Enter amount of withdrawal: 25\n",
      "The new balance is $175.00.\n"
     ]
    }
   ],
   "source": [
    "current_amount = float(input(\"Enter current balance: \"))\n",
    "withdraw_amount = float(input(\"Enter amount of withdrawal: \"))\n",
    "\n",
    "if withdraw_amount > current_amount:\n",
    "    print(\"Withdrawal denied.\")\n",
    "else:\n",
    "    new_amount = current_amount - withdraw_amount\n",
    "    print('The new balance is ${:.2f}.'.format(new_amount))\n",
    "    if new_amount < 150:\n",
    "        print('Balance below $150.')"
   ]
  },
  {
   "cell_type": "code",
   "execution_count": 284,
   "metadata": {},
   "outputs": [
    {
     "name": "stdout",
     "output_type": "stream",
     "text": [
      "Enter a year :2016\n",
      "2016 is a leap year.\n"
     ]
    }
   ],
   "source": [
    "year = int(input('Enter a year :'))\n",
    "if ((year % 4 == 0) and (year % 100 != 0)) or (year % 400 == 0):\n",
    "    print(str(year) + ' is a leap year.')\n",
    "else:\n",
    "    print(str(year) + ' is not a leap year.')"
   ]
  },
  {
   "cell_type": "code",
   "execution_count": 285,
   "metadata": {},
   "outputs": [
    {
     "name": "stdout",
     "output_type": "stream",
     "text": [
      "The four railroad properties are: \n",
      "Reading\t\t  Peensylvania\n",
      "B & O\t\t   Short Line\n",
      "\n",
      "Which is not a railroad? \n",
      "Short Line\n",
      "\n",
      "Correct \n",
      "Short Line is a bus company.\n"
     ]
    }
   ],
   "source": [
    "print(\"The four railroad properties are: \")\n",
    "print(\"Reading\\t\\t  Peensylvania\")\n",
    "print(\"B & O\\t\\t   Short Line\")\n",
    "ans = str(input(\"\\nWhich is not a railroad? \\n\"))\n",
    "#properties = (Reading , Pennsylvania, B & O, Short Line)\n",
    "if (ans == \"Short Line\"):\n",
    "    print(\"\\nCorrect \\nShort Line is a bus company.\")\n",
    "else:\n",
    "    print(\"\\nWrong \\nCorrect answer is Short Line.\")"
   ]
  },
  {
   "cell_type": "code",
   "execution_count": 286,
   "metadata": {},
   "outputs": [
    {
     "name": "stdout",
     "output_type": "stream",
     "text": [
      "Enter cost of first suit: 378.50\n",
      "Enter cost of second suit: 495.99\n",
      "Cost of the two suits is: $685.24\n"
     ]
    }
   ],
   "source": [
    "cost1 = float(input(\"Enter cost of first suit: \"))\n",
    "cost2 = float(input(\"Enter cost of second suit: \"))\n",
    "if (cost1 < cost2):\n",
    "    cost1 = cost1 / 2\n",
    "    total_cost = cost1 + cost2\n",
    "    print(\"Cost of the two suits is: $\" + str(total_cost))\n",
    "else:\n",
    "    cost2 = cost2 / 2\n",
    "    total_cost = cost1 + cost2\n",
    "    print(\"Cost of the two suits is: $\" + str(total_cost))"
   ]
  },
  {
   "cell_type": "code",
   "execution_count": null,
   "metadata": {
    "collapsed": true
   },
   "outputs": [],
   "source": [
    "res = float(input('Enter coefficient of restitution: '))\n",
    "height = float(input('Enter initial height in meters: '))\n",
    "h = height\n",
    "bounces = 0\n",
    "metertravelled = 0\n",
    "while h >= 0.1:\n",
    "    height = res * h\n",
    "    bounces += 1\n",
    "    metertravelled = round((metertravelled + (height * 2)), 2)\n",
    "print(\"Number of bounces: \"+bounces)\n",
    "print(\"Metered traveled: \"+metertravelled + h)"
   ]
  },
  {
   "cell_type": "code",
   "execution_count": 2,
   "metadata": {},
   "outputs": [
    {
     "name": "stdout",
     "output_type": "stream",
     "text": [
      "Enter coefficient of restitution: .7\n",
      "Enter initial height in meters: 8\n",
      "Number of bounces:  13\n",
      "Metered traveled:  44.98\n"
     ]
    }
   ],
   "source": [
    "coefficient = float(input('Enter coefficient of restitution: '))\n",
    "intialheight = float(input('Enter initial height in meters: '))\n",
    "height = intialheight\n",
    "bounces = 0\n",
    "metertravelled = 0\n",
    "while height >= 0.1:\n",
    "    height = coefficient * height\n",
    "    bounces += 1\n",
    "    metertravelled = round((metertravelled + (height * 2)), 2)\n",
    "print(\"Number of bounces: \",bounces)\n",
    "print(\"Metered traveled: \",metertravelled + intialheight)"
   ]
  }
 ],
 "metadata": {
  "kernelspec": {
   "display_name": "Python 3",
   "language": "python",
   "name": "python3"
  },
  "language_info": {
   "codemirror_mode": {
    "name": "ipython",
    "version": 3
   },
   "file_extension": ".py",
   "mimetype": "text/x-python",
   "name": "python",
   "nbconvert_exporter": "python",
   "pygments_lexer": "ipython3",
   "version": "3.6.3"
  }
 },
 "nbformat": 4,
 "nbformat_minor": 2
}
