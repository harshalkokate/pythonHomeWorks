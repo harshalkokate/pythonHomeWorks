{
 "cells": [
  {
   "cell_type": "code",
   "execution_count": 1,
   "metadata": {},
   "outputs": [
    {
     "name": "stdout",
     "output_type": "stream",
     "text": [
      "Enter amount of loan: 12000\n",
      "Enter interest rate (%): 6.4\n",
      "Enter number of years: 5\n",
      "Monthly Payment: $234.23\n"
     ]
    }
   ],
   "source": [
    "loan_amount = float(input(\"Enter amount of loan: \"))\n",
    "interest_rate = float(input(\"Enter interest rate (%): \"))\n",
    "years = float(input(\"Enter number of years: \"))\n",
    "i = interest_rate/1200\n",
    "\n",
    "m = 12 * years\n",
    "c = (1 + i)**m\n",
    "\n",
    "monthly_payment = ((c * i)/(c-1)) * loan_amount \n",
    "\n",
    "print(\"Monthly Payment: ${0:.2f}\".format(monthly_payment))"
   ]
  },
  {
   "cell_type": "code",
   "execution_count": 2,
   "metadata": {},
   "outputs": [
    {
     "name": "stdout",
     "output_type": "stream",
     "text": [
      "Enter face value of bond: 1000\n",
      "Enter coupon interest rate: .04\n",
      "Enter current market price: 1180\n",
      "Enter years until maturity: 15\n",
      "Approximate YTM: 2.57%\n"
     ]
    }
   ],
   "source": [
    "face_value = float(input(\"Enter face value of bond: \"))\n",
    "coupon_rate = float(input(\"Enter coupon interest rate: \"))\n",
    "market_price = float(input(\"Enter current market price: \"))\n",
    "maturity_years = float(input(\"Enter years until maturity: \"))\n",
    "\n",
    "intr = coupon_rate * 1000\n",
    "a = (face_value - market_price)/ maturity_years\n",
    "b = (face_value + market_price) / 2\n",
    "\n",
    "YTM = (intr + a)/b\n",
    "\n",
    "print(\"Approximate YTM: {0:.2%}\".format(YTM))"
   ]
  },
  {
   "cell_type": "code",
   "execution_count": 3,
   "metadata": {},
   "outputs": [
    {
     "name": "stdout",
     "output_type": "stream",
     "text": [
      "Enter price of item: 25.50\n",
      "Enter weight of item in pounds and ounces separately.\n",
      "Enter pounds: 1\n",
      "Enter weight: 9\n",
      "Price per ounce: $1.02\n"
     ]
    }
   ],
   "source": [
    "price_item = float(input(\"Enter price of item: \"))\n",
    "print(\"Enter weight of item in pounds and ounces separately.\")\n",
    "pounds = float(input(\"Enter pounds: \"))\n",
    "ounces = float(input(\"Enter weight: \"))\n",
    "\n",
    "pounds_in_ounce = pounds * 16\n",
    "\n",
    "total_ounce = pounds_in_ounce + ounces\n",
    "\n",
    "price_per_ounces = price_item/total_ounce\n",
    "\n",
    "print(\"Price per ounce: ${0:.2f}\".format(price_per_ounces))"
   ]
  },
  {
   "cell_type": "code",
   "execution_count": 14,
   "metadata": {},
   "outputs": [
    {
     "name": "stdout",
     "output_type": "stream",
     "text": [
      "Enter number of miles: 5\n",
      "Enter number of yards: 20\n",
      "Enter number of feet: 2\n",
      "Enter number of inches: 4\n",
      "Metric Lenght: \n",
      "  8 kilometers\n",
      "  65 meters\n",
      "  73.5 centimeters\n"
     ]
    },
    {
     "data": {
      "text/plain": [
       "73.53314706633682"
      ]
     },
     "execution_count": 14,
     "metadata": {},
     "output_type": "execute_result"
    }
   ],
   "source": [
    "miles = int(input(\"Enter number of miles: \"))\n",
    "yards = int(input(\"Enter number of yards: \"))\n",
    "feet = int(input(\"Enter number of feet: \"))\n",
    "inches = int(input(\"Enter number of inches: \"))\n",
    "\n",
    "total_inches = (63360*miles) + (36*yards) + (12*feet) + inches\n",
    "total_meters = total_inches/39.37\n",
    "\n",
    "kilometers = total_meters/1000\n",
    "meters = total_meters % 1000\n",
    "centimeters = (meters % 1)*100\n",
    "\n",
    "print(\"Metric Lenght: \")\n",
    "print(\"{:3d} kilometers\".format(int(kilometers)))\n",
    "print(\"{:4d} meters\".format(int(meters)))\n",
    "print(\"{:6.1f} centimeters\".format(centimeters))"
   ]
  },
  {
   "cell_type": "markdown",
   "metadata": {},
   "source": [
    "if n < 2: return \"Neither prime, nor composite\"\n",
    "    for i in range(2, int(n**0.5) + 1):\n",
    "        if n % i == 0:\n",
    "            return False\n",
    "    return True\n",
    "\n",
    "sum = 0\n",
    "for i in range(2, 1000000):\n",
    "    if isPrime(i):\n",
    "        sum += i\n",
    "\n",
    "print(sum)"
   ]
  },
  {
   "cell_type": "code",
   "execution_count": 30,
   "metadata": {},
   "outputs": [
    {
     "name": "stdout",
     "output_type": "stream",
     "text": [
      "Enter amount invested in SPY: 876543.21\n",
      "Enter amount invested in QQQ: 234567.89\n",
      "Enter amount invested in EEM: 345678.90\n",
      "Enter amount invested in VXX: 123456.78\n",
      "\n",
      "ETF    PERCENTAGE\n",
      "-----------------\n",
      "SPY      55.47%\n",
      "QQQ      14.84%\n",
      "EEM      21.87%\n",
      "VXX       7.81%\n",
      "\n",
      "TOTAL AMOUNT INVESTED: $1,580,246.78\n"
     ]
    }
   ],
   "source": [
    "spy = float(input(\"Enter amount invested in SPY: \"))\n",
    "qqq = float(input(\"Enter amount invested in QQQ: \"))\n",
    "eem = float(input(\"Enter amount invested in EEM: \"))\n",
    "vxx = float(input(\"Enter amount invested in VXX: \"))\n",
    "\n",
    "stock_name_list = ['SPY','QQQ','EEM','VXX']\n",
    "stock_value_list = [spy,qqq,eem,vxx]\n",
    "total_stock = sum(stock_list)\n",
    "stock_per_list = []\n",
    "stock_by_name = {}\n",
    "\n",
    "for stock in stock_value_list:\n",
    "    stock_per_list.append(stock/total_stock)\n",
    "\n",
    "stock_by_name = dict(zip(stock_name_list,stock_per_list)) \n",
    "\n",
    "#Formatting \n",
    "print()\n",
    "print(\"{:7}{}\".format('ETF','PERCENTAGE'))\n",
    "print(\"-----------------\")\n",
    "for key, val in stock_by_name.items():\n",
    "    print(\"{:s}{:>12.2%}\".format(key,val))\n",
    "print()\n",
    "print(\"TOTAL AMOUNT INVESTED: ${:,}\".format(total_stock))"
   ]
  },
  {
   "cell_type": "code",
   "execution_count": 34,
   "metadata": {},
   "outputs": [
    {
     "name": "stdout",
     "output_type": "stream",
     "text": [
      "Enter amount of change: 93\n",
      "Quaters: 3\n",
      "Dimes: 1\n",
      "Nikels: 1\n",
      "Cents: 3\n"
     ]
    }
   ],
   "source": [
    "change_amount = int(input(\"Enter amount of change: \"))\n",
    "quater = 25\n",
    "dime = 10\n",
    "nikel = 5\n",
    "cent = 1\n",
    "\n",
    "list_of_deno_name = ['Quaters','Dimes','Nikels','Cents']\n",
    "list_of_deno = [quater,dime,nikel,cent]\n",
    "list_of_change = []\n",
    "rem_amount = 0\n",
    "dic_deno = {}\n",
    "\n",
    "for deno in list_of_deno:\n",
    "    if rem_amount == 0:\n",
    "        list_of_change.append(change_amount//deno)\n",
    "        rem_amount = change_amount%deno\n",
    "    else:\n",
    "        list_of_change.append(rem_amount//deno)\n",
    "        rem_amount %= deno\n",
    "\n",
    "dic_deno = dict(zip(list_of_deno_name,list_of_change))\n",
    "\n",
    "for key,val in dic_deno.items():\n",
    "    print(\"{:s}: {:d}\".format(key,val))"
   ]
  },
  {
   "cell_type": "code",
   "execution_count": null,
   "metadata": {
    "collapsed": true
   },
   "outputs": [],
   "source": []
  }
 ],
 "metadata": {
  "anaconda-cloud": {},
  "kernelspec": {
   "display_name": "Python 3",
   "language": "python",
   "name": "python3"
  },
  "language_info": {
   "codemirror_mode": {
    "name": "ipython",
    "version": 3
   },
   "file_extension": ".py",
   "mimetype": "text/x-python",
   "name": "python",
   "nbconvert_exporter": "python",
   "pygments_lexer": "ipython3",
   "version": "3.6.3"
  }
 },
 "nbformat": 4,
 "nbformat_minor": 1
}
