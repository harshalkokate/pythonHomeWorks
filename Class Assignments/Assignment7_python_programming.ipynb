{
 "cells": [
  {
   "cell_type": "code",
   "execution_count": 9,
   "metadata": {},
   "outputs": [
    {
     "name": "stdout",
     "output_type": "stream",
     "text": [
      "Enter the initial height of the ball: 5\n",
      "Enter the initial velocity of the ball: 34\n",
      "The maximum height of the ball is 23.06 feet.\n",
      "The ball will hit the ground after approximately 2.27 seconds.\n"
     ]
    }
   ],
   "source": [
    "def main():\n",
    "    height, velocity = get_input()\n",
    "    print(\"The maximum height of the ball is \" + \\\n",
    "    \"{:.2f} feet.\".format(max_height_cal(height, velocity)))\n",
    "    print(\"The ball will hit the ground after approximately \" + \\\n",
    "    \"{:.2f} seconds.\".format(ground_hit_time(height, velocity)))\n",
    "    \n",
    "def get_input():\n",
    "    height = int(input(\"Enter the initial height of the ball: \"))\n",
    "    velocity = int(input(\"Enter the initial velocity of the ball: \"))\n",
    "    return height, velocity\n",
    "\n",
    "def height_of_ball(height, velocity, time):\n",
    "    return height + (velocity * time) - (16 * time**2)\n",
    "\n",
    "def max_height_cal(height, velocity):\n",
    "    return heightOfBall(height, velocity, velocity / 32)\n",
    "\n",
    "def ground_hit_time(height, velocity):\n",
    "    time = .01\n",
    "    while height_of_ball(height, velocity, time) >= 0:\n",
    "        time += .01\n",
    "    return time\n",
    "\n",
    "main()"
   ]
  },
  {
   "cell_type": "code",
   "execution_count": 4,
   "metadata": {},
   "outputs": [
    {
     "name": "stdout",
     "output_type": "stream",
     "text": [
      "Enter a positive integer > 1: 2345\n",
      "Largest prime factor: 67\n",
      "Smallest prime factor: 5\n"
     ]
    }
   ],
   "source": [
    "def main():\n",
    "    number = int(input('Enter a positive integer > 1: '))\n",
    "    smallest_factor,largest_factor = largest_and_smallest_prime_factors(number)\n",
    "    print('Largest prime factor: {:d}'.format(largest_factor))\n",
    "    print('Smallest prime factor: {:d}'.format(smallest_factor))\n",
    "\n",
    "def largest_and_smallest_prime_factors(l_number):\n",
    "    s_number = l_number\n",
    "    l_factor = 2\n",
    "    s_factor = 2\n",
    "    while l_factor * l_factor <= l_number:\n",
    "        if l_number % l_factor:\n",
    "            l_factor += 1\n",
    "        else:\n",
    "            l_number //= l_factor\n",
    "    while s_number % s_factor != 0: \n",
    "        s_factor += 1 \n",
    "    return s_factor,l_number\n",
    "\n",
    "main()"
   ]
  },
  {
   "cell_type": "code",
   "execution_count": 3,
   "metadata": {},
   "outputs": [
    {
     "name": "stdout",
     "output_type": "stream",
     "text": [
      "123 septillion\n",
      "0 sextillion\n",
      "4 quintillion\n",
      "56 quadrillion\n",
      "777 trillion\n",
      "888 billion\n",
      "999 million\n",
      "12 thousand\n",
      "345\n"
     ]
    }
   ],
   "source": [
    "def number_to_word(num):\n",
    "    words = [\"septillion\",\"sextillion\",\"quintillion\",\"quadrillion\",\"trillion\",\"billion\",\"million\",\"thousand\"]\n",
    "    number = [10**24,10**21,10**18,10**15,10**12,10**9,10**6,10**3]\n",
    "    for i in range(8):\n",
    "        if num > 1000:\n",
    "            if (num / number[i]) > 0:\n",
    "                print('{:d} {:s}'.format(int(num / number[i]),words[i]))\n",
    "                num %= number[i]\n",
    "    print(num)\n",
    "\n",
    "number_to_word(123000004056777888999012345)"
   ]
  },
  {
   "cell_type": "code",
   "execution_count": 54,
   "metadata": {},
   "outputs": [
    {
     "name": "stdout",
     "output_type": "stream",
     "text": [
      "Enter the name of item purchased: Computer\n",
      "Enter year purchased: 2012\n",
      "Enter cost of item: 2000\n",
      "Enter estimated life of item (in years): 5\n",
      "Enter method of depreciation (SL or DDB): DDB\n",
      "\n",
      "Description: Computer\n",
      "Year of purchase: 2012\n",
      "Cost: $2,000.00\n",
      "Estimated life: 5 years\n",
      "Method of depreciation: double-declining balance\n",
      "\n",
      "          Value at  Amount Deprec   Total Depreciation\n",
      "        Beg of Yr.    During Year       to End of Year\n",
      "2012      2,000.00         800.00               800.00\n",
      "2013      1,200.00         480.00             1,280.00\n",
      "2014        720.00         288.00             1,568.00\n",
      "2015        432.00         172.80             1,740.80\n",
      "2016        259.20         259.20             2,000.00\n"
     ]
    }
   ],
   "source": [
    "def main():\n",
    "    get_data()\n",
    "\n",
    "def get_data():\n",
    "    item_purchased = input('Enter the name of item purchased: ')\n",
    "    year_purchased = int(input('Enter year purchased: '))\n",
    "    item_cost = float(input('Enter cost of item: '))\n",
    "    estimated_life = int(input('Enter estimated life of item (in years): '))\n",
    "    dep_method = input('Enter method of depreciation (SL or DDB): ')\n",
    "    if dep_method == 'SL':\n",
    "        depreciation_fuction(item_purchased,year_purchased,item_cost,estimated_life,'SL')\n",
    "    else:\n",
    "        depreciation_fuction(item_purchased,year_purchased,item_cost,estimated_life,'DDB')\n",
    "\n",
    "def depreciation_fuction(item_purchased,year_purchased,item_cost,estimated_life,token):\n",
    "    dep_amount_list = []\n",
    "    print('')\n",
    "    print('Description: {:s}'.format(item_purchased))\n",
    "    print('Year of purchase: {:d}'.format(year_purchased))\n",
    "    print('Cost: ${:,.2f}'.format(item_cost))\n",
    "    print('Estimated life: {:d} years'.format(estimated_life))\n",
    "    if token == 'SL':\n",
    "        print('Method of depreciation: straight line balance')\n",
    "        depriciation_rate = balance_calculations(item_cost,estimated_life,'SL')\n",
    "    else:\n",
    "        print('Method of depreciation: double-declining balance')\n",
    "        depriciation_rate = balance_calculations(item_cost,estimated_life,'DDB')\n",
    "        \n",
    "    print('')\n",
    "    print('{:>18} {:^16} {:s}'.format('Value at','Amount Deprec','Total Depreciation'))\n",
    "    print('{:>18} {:^17} {:>17}'.format('Beg of Yr.','During Year','to End of Year'))\n",
    "    for i in range(estimated_life):\n",
    "        if i == 0:\n",
    "            depreciation_amount = item_cost * depriciation_rate\n",
    "            dep_end_year = depreciation_amount\n",
    "            dep_amount_list.append(depreciation_amount)\n",
    "            print('{:d} {:>13,.2f} {:>14,.2f} {:>20,.2f}'.format(year_purchased,item_cost,depreciation_amount,dep_end_year))\n",
    "        elif estimated_life != (i+1):\n",
    "            year_purchased += 1\n",
    "            item_cost -= depreciation_amount\n",
    "            depreciation_amount = item_cost * depriciation_rate\n",
    "            dep_amount_list.append(depreciation_amount)\n",
    "            dep_end_year = sum(dep_amount_list)\n",
    "            print('{:d} {:>13,.2f} {:>14,.2f} {:>20,.2f}'.format(year_purchased,item_cost,depreciation_amount,dep_end_year))\n",
    "        else:\n",
    "            year_purchased += 1\n",
    "            item_cost -= depreciation_amount\n",
    "            depreciation_amount = item_cost\n",
    "            dep_amount_list.append(depreciation_amount)\n",
    "            dep_end_year = sum(dep_amount_list)\n",
    "            print('{:d} {:>13,.2f} {:>14,.2f} {:>20,.2f}'.format(year_purchased,item_cost,depreciation_amount,dep_end_year))\n",
    "\n",
    "    \n",
    "def balance_calculations(item_cost,estimated_life,token):\n",
    "        depriciation_expense = item_cost / estimated_life\n",
    "        depriciation_rate = depriciation_expense / item_cost\n",
    "        if token == 'SL':\n",
    "            return depriciation_rate\n",
    "        else:\n",
    "            return (depriciation_rate * 2)\n",
    "\n",
    "main()\n",
    "        "
   ]
  },
  {
   "cell_type": "code",
   "execution_count": 98,
   "metadata": {},
   "outputs": [
    {
     "name": "stdout",
     "output_type": "stream",
     "text": [
      "Enter a word: HIJACK\n",
      "HIJACK contains three successive letters\n",
      "in consecutive alphabetical order.\n"
     ]
    }
   ],
   "source": [
    "def main():\n",
    "    input_word = input('Enter a word: ')\n",
    "    value = isTripleConsecutive(input_word)\n",
    "    if value:\n",
    "        print('{:s} contains three successive letters'.format(input_word))\n",
    "        print('in consecutive alphabetical order.')\n",
    "    else:\n",
    "        print(\"{:s} doesn't contains three successive letters in consecutive alphabetical order.\".format(input_word))\n",
    "        \n",
    "def isTripleConsecutive(word):\n",
    "    word = word.lower()\n",
    "    word_length = len(word)\n",
    "    mini_limit = 3\n",
    "    if word_length < mini_limit:\n",
    "        print('String less than three alphabets.')\n",
    "    for i in range(word_length-2):\n",
    "        if ord(word[i]) == ord(word[i+1])-1 == ord(word[i+2])-2:\n",
    "            return True\n",
    "main()"
   ]
  },
  {
   "cell_type": "code",
   "execution_count": 4,
   "metadata": {},
   "outputs": [
    {
     "name": "stdout",
     "output_type": "stream",
     "text": [
      "Enter a ISBN: 0-13-030657-6\n",
      "The number is valid\n"
     ]
    }
   ],
   "source": [
    "def main():\n",
    "    number = check_function()\n",
    "    result = valid_isbn(number)\n",
    "    print('The number is valid') if result else print('The number is invalid')\n",
    "\n",
    "def valid_isbn(isbn):\n",
    "    total = 0\n",
    "    if isbn[:9].isdigit() and isbn[-1].isdigit():\n",
    "        for i in range(10):\n",
    "            total += int(isbn[i]) * (10-i)\n",
    "        return True if (total%11 == 0) else False\n",
    "    elif isbn[:9].isdigit() and isbn[-1] == 'X':\n",
    "        for i in range(9):\n",
    "            total += int(isbn[i]) * (10-i)\n",
    "        total += 10\n",
    "        return True if (total%11 == 0) else False\n",
    "    \n",
    "def check_function():    \n",
    "    while True:\n",
    "        isbn = input('Enter a ISBN: ')\n",
    "        isbn = isbn.replace('-','')\n",
    "        if len(isbn) != 10:\n",
    "            print('Please enter a 10-digit ISBN.')\n",
    "            continue\n",
    "        if not isbn[:9].isdigit():\n",
    "            print(\"Please enter first 9 digit as numbers.\")\n",
    "            continue\n",
    "        if not (isbn[-1].isdigit() or isbn[-1] == 'X'):\n",
    "            print(\"Please enter last digit as a number or 'X'.\")\n",
    "            continue    \n",
    "        else:\n",
    "            break\n",
    "    return isbn\n",
    "    \n",
    "main()"
   ]
  }
 ],
 "metadata": {
  "kernelspec": {
   "display_name": "Python 3",
   "language": "python",
   "name": "python3"
  },
  "language_info": {
   "codemirror_mode": {
    "name": "ipython",
    "version": 3
   },
   "file_extension": ".py",
   "mimetype": "text/x-python",
   "name": "python",
   "nbconvert_exporter": "python",
   "pygments_lexer": "ipython3",
   "version": "3.6.3"
  }
 },
 "nbformat": 4,
 "nbformat_minor": 2
}
