{
 "cells": [
  {
   "cell_type": "code",
   "execution_count": 2,
   "metadata": {},
   "outputs": [
    {
     "name": "stdout",
     "output_type": "stream",
     "text": [
      "Hello\n"
     ]
    }
   ],
   "source": [
    "outfile = open(\"Greetings.txt\", 'w') \n",
    "outfile.write(\"Hello\\n\") \n",
    "outfile.write(\"Aloha\\n\") \n",
    "outfile.close()\n",
    "infile = open(\"Greetings.txt\", 'r')\n",
    "text = infile.readline().rstrip()\n",
    "infile.close()\n",
    "print(text)"
   ]
  },
  {
   "cell_type": "code",
   "execution_count": 4,
   "metadata": {},
   "outputs": [
    {
     "name": "stdout",
     "output_type": "stream",
     "text": [
      "Hello\n",
      "Aloha\n",
      "HelloAloha\n"
     ]
    }
   ],
   "source": [
    "list1 = [\"Hello\", \"Aloha\\n\"]\n",
    "outfile = open(\"Greetings.txt\", 'a') \n",
    "outfile.writelines(list1) \n",
    "outfile.close()\n",
    "infile = open(\"Greetings.txt\", 'r') \n",
    "text = infile.read().rstrip() \n",
    "infile.close()\n",
    "print(text)"
   ]
  },
  {
   "cell_type": "code",
   "execution_count": 5,
   "metadata": {},
   "outputs": [
    {
     "name": "stdout",
     "output_type": "stream",
     "text": [
      "[1, 3, 4]\n"
     ]
    }
   ],
   "source": [
    "print(sorted(set([3, 4, 1, 4, 3])))"
   ]
  },
  {
   "cell_type": "code",
   "execution_count": 6,
   "metadata": {},
   "outputs": [
    {
     "name": "stdout",
     "output_type": "stream",
     "text": [
      "[0, 1, 4]\n"
     ]
    }
   ],
   "source": [
    "print(sorted({x ** 2 for x in range(-2, 3)}))"
   ]
  },
  {
   "cell_type": "code",
   "execution_count": 7,
   "metadata": {},
   "outputs": [
    {
     "name": "stdout",
     "output_type": "stream",
     "text": [
      "Never give up.\n"
     ]
    }
   ],
   "source": [
    "s = {\"Always\", \"up.\", \"give\", \"Never\"} \n",
    "s.discard(\"Always\")\n",
    "print(\" \".join(sorted(s, key=len, reverse=True)))\n"
   ]
  },
  {
   "cell_type": "code",
   "execution_count": 8,
   "metadata": {},
   "outputs": [
    {
     "name": "stdout",
     "output_type": "stream",
     "text": [
      "['z', 'o', 'n', 'e']\n"
     ]
    }
   ],
   "source": [
    "s = set(\"dozen\") \n",
    "s.discard('d')\n",
    "print(sorted(s, reverse=True))\n"
   ]
  },
  {
   "cell_type": "code",
   "execution_count": 6,
   "metadata": {},
   "outputs": [
    {
     "ename": "NameError",
     "evalue": "name 'ABC' is not defined",
     "output_type": "error",
     "traceback": [
      "\u001b[0;31m---------------------------------------------------------------------------\u001b[0m",
      "\u001b[0;31mNameError\u001b[0m                                 Traceback (most recent call last)",
      "\u001b[0;32m<ipython-input-6-517892192de5>\u001b[0m in \u001b[0;36m<module>\u001b[0;34m()\u001b[0m\n\u001b[0;32m----> 1\u001b[0;31m \u001b[0moutfile\u001b[0m \u001b[0;34m=\u001b[0m \u001b[0mopen\u001b[0m\u001b[0;34m(\u001b[0m\u001b[0mABC\u001b[0m\u001b[0;34m.\u001b[0m\u001b[0mtxt\u001b[0m\u001b[0;34m,\u001b[0m \u001b[0;34m'a'\u001b[0m\u001b[0;34m)\u001b[0m\u001b[0;34m\u001b[0m\u001b[0m\n\u001b[0m\u001b[1;32m      2\u001b[0m \u001b[0moutfile\u001b[0m\u001b[0;34m.\u001b[0m\u001b[0mwrite\u001b[0m\u001b[0;34m(\u001b[0m\u001b[0;34m\"D\\n\"\u001b[0m\u001b[0;34m)\u001b[0m\u001b[0;34m\u001b[0m\u001b[0m\n\u001b[1;32m      3\u001b[0m \u001b[0moutfile\u001b[0m\u001b[0;34m.\u001b[0m\u001b[0mclose\u001b[0m\u001b[0;34m(\u001b[0m\u001b[0;34m)\u001b[0m\u001b[0;34m\u001b[0m\u001b[0m\n",
      "\u001b[0;31mNameError\u001b[0m: name 'ABC' is not defined"
     ]
    }
   ],
   "source": [
    "outfile = open(ABC.txt, 'a')\n",
    "outfile.write(\"D\\n\")\n",
    "outfile.close()"
   ]
  },
  {
   "cell_type": "code",
   "execution_count": 7,
   "metadata": {},
   "outputs": [
    {
     "ename": "UnsupportedOperation",
     "evalue": "not writable",
     "output_type": "error",
     "traceback": [
      "\u001b[0;31m---------------------------------------------------------------------------\u001b[0m",
      "\u001b[0;31mUnsupportedOperation\u001b[0m                      Traceback (most recent call last)",
      "\u001b[0;32m<ipython-input-7-e31368c2d349>\u001b[0m in \u001b[0;36m<module>\u001b[0;34m()\u001b[0m\n\u001b[1;32m      1\u001b[0m \u001b[0moutfile\u001b[0m \u001b[0;34m=\u001b[0m \u001b[0mopen\u001b[0m\u001b[0;34m(\u001b[0m\u001b[0;34m\"ABC.txt\"\u001b[0m\u001b[0;34m,\u001b[0m \u001b[0;34m'r'\u001b[0m\u001b[0;34m)\u001b[0m\u001b[0;34m\u001b[0m\u001b[0m\n\u001b[0;32m----> 2\u001b[0;31m \u001b[0moutfile\u001b[0m\u001b[0;34m.\u001b[0m\u001b[0mwrite\u001b[0m\u001b[0;34m(\u001b[0m\u001b[0;34m\"D\\n\"\u001b[0m\u001b[0;34m)\u001b[0m\u001b[0;34m\u001b[0m\u001b[0m\n\u001b[0m\u001b[1;32m      3\u001b[0m \u001b[0moutfile\u001b[0m\u001b[0;34m.\u001b[0m\u001b[0mclose\u001b[0m\u001b[0;34m(\u001b[0m\u001b[0;34m)\u001b[0m\u001b[0;34m\u001b[0m\u001b[0m\n",
      "\u001b[0;31mUnsupportedOperation\u001b[0m: not writable"
     ]
    }
   ],
   "source": [
    "outfile = open(\"ABC.txt\", 'r')\n",
    "outfile.write(\"D\\n\")\n",
    "outfile.close()"
   ]
  },
  {
   "cell_type": "code",
   "execution_count": 8,
   "metadata": {},
   "outputs": [
    {
     "ename": "TypeError",
     "evalue": "object of type '_io.TextIOWrapper' has no len()",
     "output_type": "error",
     "traceback": [
      "\u001b[0;31m---------------------------------------------------------------------------\u001b[0m",
      "\u001b[0;31mTypeError\u001b[0m                                 Traceback (most recent call last)",
      "\u001b[0;32m<ipython-input-8-b75bfbd79e11>\u001b[0m in \u001b[0;36m<module>\u001b[0;34m()\u001b[0m\n\u001b[1;32m      2\u001b[0m \u001b[0moutfile\u001b[0m \u001b[0;34m=\u001b[0m \u001b[0mopen\u001b[0m\u001b[0;34m(\u001b[0m\u001b[0;34m\"Data.txt\"\u001b[0m\u001b[0;34m,\u001b[0m \u001b[0;34m'w'\u001b[0m\u001b[0;34m)\u001b[0m\u001b[0;34m\u001b[0m\u001b[0m\n\u001b[1;32m      3\u001b[0m \u001b[0moutfile\u001b[0m\u001b[0;34m.\u001b[0m\u001b[0mwritelines\u001b[0m\u001b[0;34m(\u001b[0m\u001b[0mlist1\u001b[0m\u001b[0;34m)\u001b[0m\u001b[0;34m\u001b[0m\u001b[0m\n\u001b[0;32m----> 4\u001b[0;31m \u001b[0mprint\u001b[0m\u001b[0;34m(\u001b[0m\u001b[0mlen\u001b[0m\u001b[0;34m(\u001b[0m\u001b[0moutfile\u001b[0m\u001b[0;34m)\u001b[0m\u001b[0;34m)\u001b[0m\u001b[0;34m\u001b[0m\u001b[0m\n\u001b[0m\u001b[1;32m      5\u001b[0m \u001b[0moutfile\u001b[0m\u001b[0;34m.\u001b[0m\u001b[0mclose\u001b[0m\u001b[0;34m(\u001b[0m\u001b[0;34m)\u001b[0m\u001b[0;34m\u001b[0m\u001b[0m\n",
      "\u001b[0;31mTypeError\u001b[0m: object of type '_io.TextIOWrapper' has no len()"
     ]
    }
   ],
   "source": [
    "list1 = [\"spam\\n\", \"eggs\\n\"]\n",
    "outfile = open(\"Data.txt\", 'w')\n",
    "outfile.writelines(list1)\n",
    "print(len(outfile))\n",
    "outfile.close()"
   ]
  },
  {
   "cell_type": "code",
   "execution_count": 10,
   "metadata": {},
   "outputs": [
    {
     "ename": "SyntaxError",
     "evalue": "invalid syntax (<ipython-input-10-87ece649138e>, line 6)",
     "output_type": "error",
     "traceback": [
      "\u001b[0;36m  File \u001b[0;32m\"<ipython-input-10-87ece649138e>\"\u001b[0;36m, line \u001b[0;32m6\u001b[0m\n\u001b[0;31m    outfile.close()\u001b[0m\n\u001b[0m          ^\u001b[0m\n\u001b[0;31mSyntaxError\u001b[0m\u001b[0;31m:\u001b[0m invalid syntax\n"
     ]
    }
   ],
   "source": [
    "list1 = [\"spam\", \"and\", \"eggs\"] \n",
    "outfile = open(\"Data.txt\", 'w') \n",
    "for word in list1:\n",
    "        outfile.write(word + \"\\n\")\n",
    "        outfile.write((len(word))\n",
    "outfile.close()"
   ]
  },
  {
   "cell_type": "code",
   "execution_count": 11,
   "metadata": {},
   "outputs": [
    {
     "ename": "TypeError",
     "evalue": "unhashable type: 'list'",
     "output_type": "error",
     "traceback": [
      "\u001b[0;31m---------------------------------------------------------------------------\u001b[0m",
      "\u001b[0;31mTypeError\u001b[0m                                 Traceback (most recent call last)",
      "\u001b[0;32m<ipython-input-11-cf42f822bbc1>\u001b[0m in \u001b[0;36m<module>\u001b[0;34m()\u001b[0m\n\u001b[0;32m----> 1\u001b[0;31m \u001b[0mset1\u001b[0m \u001b[0;34m=\u001b[0m \u001b[0;34m{\u001b[0m\u001b[0;34m\"xyz\"\u001b[0m\u001b[0;34m,\u001b[0m \u001b[0;36m5\u001b[0m\u001b[0;34m,\u001b[0m \u001b[0;34m[\u001b[0m\u001b[0;36m3\u001b[0m\u001b[0;34m,\u001b[0m \u001b[0;36m4\u001b[0m\u001b[0;34m]\u001b[0m\u001b[0;34m}\u001b[0m\u001b[0;34m\u001b[0m\u001b[0m\n\u001b[0m\u001b[1;32m      2\u001b[0m \u001b[0mlist1\u001b[0m \u001b[0;34m=\u001b[0m \u001b[0mlist\u001b[0m\u001b[0;34m(\u001b[0m\u001b[0mset1\u001b[0m\u001b[0;34m)\u001b[0m\u001b[0;34m\u001b[0m\u001b[0m\n",
      "\u001b[0;31mTypeError\u001b[0m: unhashable type: 'list'"
     ]
    }
   ],
   "source": [
    "set1 = {\"xyz\", 5, [3, 4]}\n",
    "list1 = list(set1)"
   ]
  },
  {
   "cell_type": "code",
   "execution_count": 13,
   "metadata": {},
   "outputs": [
    {
     "name": "stdout",
     "output_type": "stream",
     "text": [
      "File already exists.\n"
     ]
    }
   ],
   "source": [
    "import os.path\n",
    "if os.path.isfile(\"ABC.txt\"):\n",
    "    print(\"File already exists.\")\n",
    "else:\n",
    "    infile = open(\"ABC.txt\", 'w')\n",
    "    infile.write(\"a\\nb\\nc\\n\")\n",
    "    infile.close()"
   ]
  },
  {
   "cell_type": "code",
   "execution_count": 25,
   "metadata": {},
   "outputs": [
    {
     "data": {
      "text/plain": [
       "[3, 4]"
      ]
     },
     "execution_count": 25,
     "metadata": {},
     "output_type": "execute_result"
    }
   ],
   "source": [
    "def findItemsInBoth(list1, list2):\n",
    "    list3 = []\n",
    "    list3 = set.intersection(set(list1),set(list2))\n",
    "    return list(list3)\n",
    "findItemsInBoth([1,2,3,4],[3,4,5,6])"
   ]
  },
  {
   "cell_type": "code",
   "execution_count": 29,
   "metadata": {},
   "outputs": [
    {
     "name": "stdout",
     "output_type": "stream",
     "text": [
      "{'Mills', 'Knuth', 'Kay', 'Shell'}\n"
     ]
    }
   ],
   "source": [
    "names = [\"Donald Shell\", \"Harlan Mills\", \"Donald Knuth\", \"Alan Kay\"]\n",
    "setLN = {name.split()[-1] for name in names}\n",
    "print(setLN)"
   ]
  },
  {
   "cell_type": "code",
   "execution_count": 34,
   "metadata": {
    "collapsed": true
   },
   "outputs": [],
   "source": [
    "infile = open(\"NYTimes.txt\", 'r')\n",
    "timesList = [line.rstrip() for line in infile] \n",
    "infile.close()\n",
    "timesSet = set(timesList)\n",
    "infile = open(\"WSJ.txt\", 'r')\n",
    "wsjList = [line.rstrip() for line in infile] \n",
    "infile.close()\n",
    "wsjSet = set(wsjList)\n",
    "combinationSet = timesSet.union(wsjSet) \n",
    "combinationList = list(combinationSet) \n",
    "combinationString = ('\\n').join(combinationList) \n",
    "outfile = open(\"NewFile.txt\", 'w') \n",
    "outfile.write(combinationString)\n",
    "outfile.close()"
   ]
  },
  {
   "cell_type": "code",
   "execution_count": 36,
   "metadata": {},
   "outputs": [
    {
     "name": "stdout",
     "output_type": "stream",
     "text": [
      "The file Numbers.txt contains 6 numbers.\n"
     ]
    }
   ],
   "source": [
    "infile = open(\"Numbers.txt\", 'r')\n",
    "count = 0\n",
    "for line in infile:\n",
    "    count += 1 \n",
    "infile.close()\n",
    "print('The file Numbers.txt contains {} numbers.'.format(count))"
   ]
  },
  {
   "cell_type": "code",
   "execution_count": 10,
   "metadata": {},
   "outputs": [
    {
     "name": "stdout",
     "output_type": "stream",
     "text": [
      "The smallest number in the file Numbers.txt is 2\n",
      "\n"
     ]
    }
   ],
   "source": [
    "infile = open(\"Numbers.txt\", 'r')\n",
    "s_number = None\n",
    "for line in infile:\n",
    "    if s_number is None or line < s_number:\n",
    "        s_number = line\n",
    "infile.close()\n",
    "print('The smallest number in the file Numbers.txt is {}'.format(s_number))"
   ]
  },
  {
   "cell_type": "code",
   "execution_count": 12,
   "metadata": {},
   "outputs": [
    {
     "name": "stdout",
     "output_type": "stream",
     "text": [
      "The average of the numbers in the file Numbers.txt is 5.0.\n"
     ]
    }
   ],
   "source": [
    "infile = open(\"Numbers.txt\", 'r')\n",
    "count = 0\n",
    "file_sum = 0\n",
    "for line in infile:\n",
    "    file_sum += int(line) \n",
    "    count += 1\n",
    "avg_file = file_sum/count    \n",
    "infile.close()\n",
    "print('The average of the numbers in the file Numbers.txt is 5.0.'.format(avg_file))"
   ]
  },
  {
   "cell_type": "code",
   "execution_count": 22,
   "metadata": {
    "collapsed": true
   },
   "outputs": [],
   "source": [
    "infile = open(\"Months.txt\",\"r+\")\n",
    "infile.seek(0)\n",
    "for i in infile:\n",
    "    if 'r' not in i:\n",
    "        infile.write(i)\n",
    "infile.truncate()        \n",
    "infile.close()"
   ]
  },
  {
   "cell_type": "code",
   "execution_count": 3,
   "metadata": {},
   "outputs": [],
   "source": [
    "import os\n",
    "\n",
    "infile = open(\"Months.txt\", 'r')\n",
    "outfile = open(\"Temp.txt\", 'w')\n",
    "for month in infile:\n",
    "    if 'r' not in month.lower():\n",
    "        outfile.write(month)\n",
    "infile.close()\n",
    "outfile.close()\n",
    "os.remove(\"Months.txt\")\n",
    "os.rename(\"Temp.txt\", \"Months.txt\")\n"
   ]
  },
  {
   "cell_type": "code",
   "execution_count": 4,
   "metadata": {
    "collapsed": true
   },
   "outputs": [],
   "source": [
    "import os\n",
    "\n",
    "infile = open(\"States.txt\", 'r')\n",
    "outfile = open(\"Temp.txt\", 'w')\n",
    "for state in infile:\n",
    "    if state[:1] not in \"AEIOU\":\n",
    "        outfile.write(state)\n",
    "infile.close()\n",
    "outfile.close()\n",
    "os.remove(\"States.txt\")\n",
    "os.rename(\"Temp.txt\", \"States.txt\")"
   ]
  },
  {
   "cell_type": "code",
   "execution_count": 5,
   "metadata": {},
   "outputs": [
    {
     "ename": "FileNotFoundError",
     "evalue": "[Errno 2] No such file or directory: 'PresStates.txt'",
     "output_type": "error",
     "traceback": [
      "\u001b[0;31m---------------------------------------------------------------------------\u001b[0m",
      "\u001b[0;31mFileNotFoundError\u001b[0m                         Traceback (most recent call last)",
      "\u001b[0;32m<ipython-input-5-74bb468622a9>\u001b[0m in \u001b[0;36m<module>\u001b[0;34m()\u001b[0m\n\u001b[0;32m----> 1\u001b[0;31m \u001b[0minfile\u001b[0m \u001b[0;34m=\u001b[0m \u001b[0mopen\u001b[0m\u001b[0;34m(\u001b[0m\u001b[0;34m\"PresStates.txt\"\u001b[0m\u001b[0;34m,\u001b[0m \u001b[0;34m'r'\u001b[0m\u001b[0;34m)\u001b[0m\u001b[0;34m\u001b[0m\u001b[0m\n\u001b[0m\u001b[1;32m      2\u001b[0m \u001b[0mstatesSet\u001b[0m \u001b[0;34m=\u001b[0m \u001b[0;34m{\u001b[0m\u001b[0mstate\u001b[0m\u001b[0;34m.\u001b[0m\u001b[0mrstrip\u001b[0m\u001b[0;34m(\u001b[0m\u001b[0;34m)\u001b[0m \u001b[0;32mfor\u001b[0m \u001b[0mstate\u001b[0m \u001b[0;32min\u001b[0m \u001b[0minfile\u001b[0m\u001b[0;34m}\u001b[0m\u001b[0;34m\u001b[0m\u001b[0m\n\u001b[1;32m      3\u001b[0m \u001b[0minfile\u001b[0m\u001b[0;34m.\u001b[0m\u001b[0mclose\u001b[0m\u001b[0;34m(\u001b[0m\u001b[0;34m)\u001b[0m\u001b[0;34m\u001b[0m\u001b[0m\n\u001b[1;32m      4\u001b[0m \u001b[0mprint\u001b[0m\u001b[0;34m(\u001b[0m\u001b[0mlen\u001b[0m\u001b[0;34m(\u001b[0m\u001b[0mstatesSet\u001b[0m\u001b[0;34m)\u001b[0m\u001b[0;34m,\u001b[0m \u001b[0;34m\"different states have\"\u001b[0m\u001b[0;34m)\u001b[0m\u001b[0;34m\u001b[0m\u001b[0m\n\u001b[1;32m      5\u001b[0m \u001b[0mprint\u001b[0m\u001b[0;34m(\u001b[0m\u001b[0;34m\"produced presidents of the \\nUnited States.\"\u001b[0m\u001b[0;34m)\u001b[0m\u001b[0;34m\u001b[0m\u001b[0m\n",
      "\u001b[0;31mFileNotFoundError\u001b[0m: [Errno 2] No such file or directory: 'PresStates.txt'"
     ]
    }
   ],
   "source": [
    "infile = open(\"PresStates.txt\", 'r')\n",
    "states = {state.rstrip() for state in infile}\n",
    "infile.close()\n",
    "print(len(states), \"different states have\")\n",
    "print(\"produced presidents of the \\nUnited States.\")"
   ]
  },
  {
   "cell_type": "code",
   "execution_count": 6,
   "metadata": {},
   "outputs": [
    {
     "name": "stdout",
     "output_type": "stream",
     "text": [
      "Enter name to be inserted into file: mon\n"
     ]
    },
    {
     "ename": "FileNotFoundError",
     "evalue": "[Errno 2] No such file or directory: 'Names.txt'",
     "output_type": "error",
     "traceback": [
      "\u001b[0;31m---------------------------------------------------------------------------\u001b[0m",
      "\u001b[0;31mFileNotFoundError\u001b[0m                         Traceback (most recent call last)",
      "\u001b[0;32m<ipython-input-6-34a58f6a7f02>\u001b[0m in \u001b[0;36m<module>\u001b[0;34m()\u001b[0m\n\u001b[1;32m      1\u001b[0m \u001b[0mname\u001b[0m \u001b[0;34m=\u001b[0m \u001b[0minput\u001b[0m\u001b[0;34m(\u001b[0m\u001b[0;34m\"Enter name to be inserted into file: \"\u001b[0m\u001b[0;34m)\u001b[0m\u001b[0;34m\u001b[0m\u001b[0m\n\u001b[0;32m----> 2\u001b[0;31m \u001b[0minfile\u001b[0m \u001b[0;34m=\u001b[0m \u001b[0mopen\u001b[0m\u001b[0;34m(\u001b[0m\u001b[0;34m\"Names.txt\"\u001b[0m\u001b[0;34m,\u001b[0m \u001b[0;34m'r'\u001b[0m\u001b[0;34m)\u001b[0m\u001b[0;34m\u001b[0m\u001b[0m\n\u001b[0m\u001b[1;32m      3\u001b[0m \u001b[0mset_names\u001b[0m \u001b[0;34m=\u001b[0m \u001b[0;34m{\u001b[0m\u001b[0mname\u001b[0m \u001b[0;32mfor\u001b[0m \u001b[0mname\u001b[0m \u001b[0;32min\u001b[0m \u001b[0minfile\u001b[0m\u001b[0;34m}\u001b[0m\u001b[0;34m\u001b[0m\u001b[0m\n\u001b[1;32m      4\u001b[0m \u001b[0minfile\u001b[0m\u001b[0;34m.\u001b[0m\u001b[0mclose\u001b[0m\u001b[0;34m(\u001b[0m\u001b[0;34m)\u001b[0m\u001b[0;34m\u001b[0m\u001b[0m\n\u001b[1;32m      5\u001b[0m \u001b[0mset_names\u001b[0m\u001b[0;34m.\u001b[0m\u001b[0madd\u001b[0m\u001b[0;34m(\u001b[0m\u001b[0mname\u001b[0m \u001b[0;34m+\u001b[0m \u001b[0;34m\"\\n\"\u001b[0m\u001b[0;34m)\u001b[0m\u001b[0;34m\u001b[0m\u001b[0m\n",
      "\u001b[0;31mFileNotFoundError\u001b[0m: [Errno 2] No such file or directory: 'Names.txt'"
     ]
    }
   ],
   "source": [
    "name = input(\"Enter name to be inserted into file: \")\n",
    "infile = open(\"Names.txt\", 'r')\n",
    "set_names = {name for name in infile}\n",
    "infile.close()\n",
    "set_names.add(name + \"\\n\")\n",
    "name_list = list(set_names)\n",
    "name_list.sort()\n",
    "outfile = open(\"Names.txt\", 'w')\n",
    "outfile.writelines(name_list)\n",
    "outfile.close()"
   ]
  },
  {
   "cell_type": "code",
   "execution_count": 27,
   "metadata": {
    "collapsed": true
   },
   "outputs": [],
   "source": [
    "infile = open(\"UN.txt\", 'r') \n",
    "outfile = open(\"NewFile.txt\", 'w')\n",
    "for line in infile:\n",
    "        data = line.split(',')\n",
    "        outfile.write(data[0] + \" is in \" + data[1] + '.\\n')\n",
    "infile.close()\n",
    "outfile.close()\n",
    "# Afghanistan is in Asia.\n",
    "# Albania is in Europe."
   ]
  },
  {
   "cell_type": "code",
   "execution_count": 28,
   "metadata": {
    "collapsed": true
   },
   "outputs": [],
   "source": [
    "infile = open(\"UN.txt\", 'r') \n",
    "outfile = open(\"NewFile.txt\", 'w') \n",
    "for line in infile:\n",
    "        data = line.split(',')\n",
    "        country = data[0]\n",
    "        pop = 1000000 * eval(data[2])\n",
    "        area = eval(data[3])\n",
    "        popDensity = pop / area\n",
    "        outfile.write(\"{0}'s pop. density is {1:0,.2f}\".format(country,\n",
    "                     popDensity) + \" people per sq. mile.\\n\")\n",
    "infile.close()\n",
    "outfile.close()\n",
    "# Afghanistan's pop. density is 126.30 people per sq. mile.\n",
    "# Albania's pop. density is 270.27 people per sq. mile."
   ]
  },
  {
   "cell_type": "code",
   "execution_count": 29,
   "metadata": {
    "collapsed": true
   },
   "outputs": [],
   "source": [
    "def main():\n",
    "    countries = placeDataIntoList(\"UN.txt\") \n",
    "    countries.sort(key=byContinent) \n",
    "    createFile(countries)\n",
    "def placeDataIntoList(fileName):\n",
    "    listOfInfo = []\n",
    "    infile = open(fileName, 'r')\n",
    "    line = infile.readline()\n",
    "    while line.startswith('A'):\n",
    "        line2 = line.split(',')\n",
    "        listOfInfo.append(list((line2[0], line2[1])))\n",
    "        line = infile.readline()\n",
    "    infile.close()\n",
    "    return listOfInfo\n",
    "def byContinent(country):\n",
    "    return country[1]\n",
    "def createFile(countries):\n",
    "    outfile = open(\"CountriesByContinent.txt\", 'w')\n",
    "    for country in countries:\n",
    "        outfile.write(country[0] + ',' + str(country[1]) + \"\\n\")\n",
    "main()\n",
    "\n",
    "# Algeria,Africa\n",
    "# Angola,Africa"
   ]
  },
  {
   "cell_type": "code",
   "execution_count": 18,
   "metadata": {},
   "outputs": [
    {
     "name": "stdout",
     "output_type": "stream",
     "text": [
      "Best performing stock: Boeing 81.12%\n",
      "Worst performing stock: International Business Machines -2.08%\n"
     ]
    }
   ],
   "source": [
    "def main():\n",
    "    stock_list = convert_to_list(\"DOW.txt\")\n",
    "    stock_list.sort(key=percent_calculation)\n",
    "    increase = (float(stock_list[-1][5]) - float(stock_list[-1][4])) / \\\n",
    "    float(stock_list[-1][4])\n",
    "    print(\"Best performing stock: {0:1} {1:0,.2f}%\".\n",
    "    format(stock_list[-1][0], 100 * increase))\n",
    "    increase = (float(stock_list[0][5]) - float(stock_list[0][4])) / \\\n",
    "    float(stock_list[0][4])\n",
    "    print(\"Worst performing stock: {0:1} {1:0,.2f}%\".\n",
    "    format(stock_list[0][0], 100 * increase))\n",
    "    \n",
    "def convert_to_list(file_name):\n",
    "    infile = open(file_name, 'r')\n",
    "    line_list = [line.rstrip() for line in infile]\n",
    "    infile.close()\n",
    "    for i in range(len(line_list)):\n",
    "        line_list[i] = line_list[i].split(',')\n",
    "        line_list[i][4] = eval(line_list[i][4])\n",
    "        line_list[i][5] = eval(line_list[i][5])\n",
    "        line_list[i][6] = eval(line_list[i][6])\n",
    "        line_list[i][7] = eval(line_list[i][7])\n",
    "    return line_list\n",
    "\n",
    "def percent_calculation(stock):\n",
    "    percent_increase = (float(stock[5]) - float(stock[4])) / float(stock[4])\n",
    "    return percent_increase\n",
    "main()"
   ]
  },
  {
   "cell_type": "code",
   "execution_count": 38,
   "metadata": {},
   "outputs": [
    {
     "name": "stdout",
     "output_type": "stream",
     "text": [
      "Company              Symbol   Price on 12/31/2013\n",
      "Cisco Systems        CSCO     $22.43\n",
      "Intel                INTC     $25.95\n",
      "General Electric     GE       $28.03\n",
      "Pfizer               PFE      $30.63\n",
      "AT&T                 T        $35.16\n"
     ]
    }
   ],
   "source": [
    "def main():\n",
    "    stock_list = convert_to_list(\"DOW.txt\")\n",
    "    stock_list.sort(key=end_year_price)\n",
    "    show_small_dogs(stock_list)\n",
    "def convert_to_list(file_name):\n",
    "    infile = open(file_name, 'r')\n",
    "    line_list = [line.rstrip() for line in infile]\n",
    "    infile.close()\n",
    "    for i in range(len(line_list)):\n",
    "        line_list[i] = line_list[i].split(',')\n",
    "        line_list[i][4] = eval(line_list[i][4])\n",
    "        line_list[i][5] = eval(line_list[i][5])\n",
    "        line_list[i][6] = eval(line_list[i][6])\n",
    "        line_list[i][7] = eval(line_list[i][7])\n",
    "    return line_list\n",
    "def end_year_price(stock):\n",
    "    return stock[5]\n",
    "def show_small_dogs(stock_lists):\n",
    "    print(\"{0:20} {1:8} {2:s}\".format(\"Company\", \"Symbol\",\n",
    "    \"Price on 12/31/2013\"))\n",
    "    for i in range(5):\n",
    "        print(\"{0:20} {1:8} ${2:0.2f}\".format(stock_lists[i][0],\n",
    "        stock_lists[i][1], stock_lists[i][5]))\n",
    "main()"
   ]
  },
  {
   "cell_type": "code",
   "execution_count": 27,
   "metadata": {},
   "outputs": [
    {
     "name": "stdout",
     "output_type": "stream",
     "text": [
      "Current Justices\n",
      "Antonin Scalia\n",
      "Anthony Kennedy\n",
      "Clarence Thomas\n",
      "Ruth Ginsburg\n",
      "Stephen Breyer\n",
      "John Roberts\n",
      "Samuel Alito\n",
      "Sonia Sotomayor\n",
      "Elena Kagan\n"
     ]
    }
   ],
   "source": [
    "infile = open(\"Justices.txt\", 'r')\n",
    "justices = [line for line in infile if (int(line.split(',')[5]) == 0)]\n",
    "justices.sort(key=lambda x: int(x.split(',')[4]))\n",
    "print(\"Current Justices\")\n",
    "for justice in justices:\n",
    "    print(justice.split(',')[0], justice.split(',')[1])"
   ]
  },
  {
   "cell_type": "code",
   "execution_count": null,
   "metadata": {},
   "outputs": [],
   "source": [
    "def main():\n",
    "    state = input(\"Enter a state abbreviation: \")\n",
    "    justices = get_state_justices(state)\n",
    "    current_justices(justices)\n",
    "    justices.sort(key=lambda justice: justice[5] - justice[4],\n",
    "    reverse=True)\n",
    "    print(\"\\n{0:18} {1:20} {2}\".format(\"Justice\", \"Appointing Pres\",\n",
    "    \"Yrs Served\"))\n",
    "    for justice in justices:\n",
    "        print(\"{0:18} {1:20} {2}\".format(justice[0] + \" \" + justice[1],\n",
    "        justice[2].split(\" \")[-1], justice[5] - justice[4]))\n",
    "        \n",
    "def get_state_justices(state):\n",
    "    infile = open(\"Justices.txt\", 'r')\n",
    "    records = [line for line in infile if line.split(',')[3] == state]\n",
    "    infile.close()\n",
    "    for i in range(len(records)):\n",
    "        records[i] = records[i].split(',')\n",
    "        records[i][4] = int(records[i][4])\n",
    "        records[i][5] = int(records[i][5])\n",
    "    return records\n",
    "\n",
    "def current_justices(justices):\n",
    "    for justice in justices:\n",
    "        if justice[5] == 0:\n",
    "            justice[5] = 2015\n",
    "main()"
   ]
  },
  {
   "cell_type": "code",
   "execution_count": 1,
   "metadata": {},
   "outputs": [
    {
     "name": "stdout",
     "output_type": "stream",
     "text": [
      "\n",
      "\n",
      "Enter the name of a computer pioneer: Charles Babbage\n"
     ]
    }
   ],
   "source": [
    "def main():\n",
    "    displayNames(\"Pioneers.txt\")\n",
    "    print('\\n')\n",
    "    name = input(\"Enter the name of a computer pioneer: \")\n",
    "    display_accomplishment(\"Pioneers.txt\", name)\n",
    "\n",
    "def displayNames(file_name):\n",
    "    infile = open(file_name, 'r')\n",
    "    for line in infile:\n",
    "        line_list = line.split(',')\n",
    "        print((line_list[0] + '\\t').expandtabs(20), end=\"\")\n",
    "    infile.close()\n",
    "    \n",
    "def display_accomplishment(file_name, name):\n",
    "    infile = open(file_name, 'r')\n",
    "    for line in infile:\n",
    "        line_list = line.split(',')\n",
    "        if line_list[0] == name:\n",
    "            print(name, line_list[1].rstrip() + '.')\n",
    "        infile.close()\n",
    "        break\n",
    "main()"
   ]
  },
  {
   "cell_type": "code",
   "execution_count": 7,
   "metadata": {},
   "outputs": [
    {
     "name": "stdout",
     "output_type": "stream",
     "text": [
      "Enter a state abbreviation: PA\n",
      "PA had no colleges before 1800.\n"
     ]
    }
   ],
   "source": [
    "def main():\n",
    "    abbreviation = input(\"Enter a state abbreviation: \")\n",
    "    colleges = ordered_list(abbreviation)\n",
    "    show_result(colleges, abbreviation)\n",
    "def ordered_list(abbreviation):\n",
    "    infile = open(\"Colleges.txt\", 'r')\n",
    "    colleges = [line for line in infile if line.split(',')[1] == abbreviation]\n",
    "    colleges.sort(key=lambda x: int(x.split(',')[2]))\n",
    "    return colleges\n",
    "def show_result(colleges, abbreviation):\n",
    "    if len(colleges) > 0:\n",
    "        print(\"Last college in\", abbreviation, \"founded before 1800:\")\n",
    "        print(colleges[-1].split(',')[0])\n",
    "    else:\n",
    "        print(abbreviation, \"had no colleges before 1800.\")\n",
    "main()"
   ]
  },
  {
   "cell_type": "code",
   "execution_count": null,
   "metadata": {},
   "outputs": [
    {
     "name": "stdout",
     "output_type": "stream",
     "text": [
      "Enter the name of a state: MD\n"
     ]
    }
   ],
   "source": [
    "state = input(\"Enter the name of a state: \")\n",
    "infile = open(\"States.txt\", 'r')\n",
    "found = False\n",
    "state_data = infile.readline()\n",
    "while (found == False) and (state_data != \"\"):\n",
    "    data = state_data.split(\",\")\n",
    "    if data[0] == state:\n",
    "        print(\"Abbreviation:\", data[1])\n",
    "        print(\"Nickname:\", data[2])\n",
    "        print(\"Capital:\", data[3].rstrip())\n",
    "found = True\n",
    "state_data = infile.readline()\n",
    "infile.close()"
   ]
  },
  {
   "cell_type": "code",
   "execution_count": null,
   "metadata": {
    "collapsed": true
   },
   "outputs": [],
   "source": [
    "films = open(\"Oscars.txt\", 'r')\n",
    "incorrect = True\n",
    "while incorrect:\n",
    "year = int(input(\"Enter a year from 1928-2013: \"))\n",
    "if (year >= 1928) and (year <= 2013):\n",
    "incorrect = False\n",
    "infile = open(\"Oscars.txt\", 'r')\n",
    "flicks = [film.rstrip() for film in infile]\n",
    "infile.close()\n",
    "film = flicks[year - 1928]\n",
    "data = film.split(',')\n",
    "print(\"Best File:\", data[0])\n",
    "print(\"Genre:\", data[1]\n",
    "films.close()\n",
    "else:\n",
    "print(\"Year must be between 1928 and 2013.\\n\")\n",
    "incorrect = True"
   ]
  },
  {
   "cell_type": "code",
   "execution_count": null,
   "metadata": {
    "collapsed": true
   },
   "outputs": [],
   "source": [
    "def main():\n",
    "    infile = open(\"Cowboy.txt\", 'r')\n",
    "    outfile = open(\"Cowboy2.txt\", 'w')\n",
    "    for line in infile:\n",
    "        data = line.split(',')\n",
    "    if data[0] == \"Saddle\":\n",
    "        new_price = round(0.8 * eval(data[1]), 2)\n",
    "        outfile.write(\"Saddle,\" + str(new_price) + \"\\n\")\n",
    "else:\n",
    "    outfile.write(line)\n",
    "    outfile.close()\n",
    "    infile.close()\n",
    "main()"
   ]
  },
  {
   "cell_type": "code",
   "execution_count": null,
   "metadata": {
    "collapsed": true
   },
   "outputs": [],
   "source": [
    "def main():\n",
    "    outfile = open(\"Cowboy.txt\", 'a')\n",
    "    outfile.write(\"Winchester Rifle,20.50\\n\")\n",
    "    outfile.close()\n",
    "main()"
   ]
  },
  {
   "cell_type": "code",
   "execution_count": null,
   "metadata": {
    "collapsed": true
   },
   "outputs": [],
   "source": [
    "def main():\n",
    "top_hitters = {\"Gehrig\":{\"atBats\":8061, \"hits\":2721},\n",
    "\"Ruth\":{\"atBats\":8399, \"hits\":2873},\n",
    "\"Williams\":{\"atBats\":7706, \"hits\":2654}}\n",
    "show_batting_average(top_hitters)\n",
    "\n",
    "def show_batting_average(top_hitters):\n",
    "for hitter in top_hitters:\n",
    "    print(\"{0:10} {1:.3f}\".format(hitter,\n",
    "top_hitters[hitter][\"hits\"] / top_hitters[hitter][\"atBats\"]))\n",
    "    \n",
    "main()"
   ]
  },
  {
   "cell_type": "code",
   "execution_count": null,
   "metadata": {
    "collapsed": true
   },
   "outputs": [],
   "source": []
  }
 ],
 "metadata": {
  "kernelspec": {
   "display_name": "Python 3",
   "language": "python",
   "name": "python3"
  },
  "language_info": {
   "codemirror_mode": {
    "name": "ipython",
    "version": 3
   },
   "file_extension": ".py",
   "mimetype": "text/x-python",
   "name": "python",
   "nbconvert_exporter": "python",
   "pygments_lexer": "ipython3",
   "version": "3.6.3"
  }
 },
 "nbformat": 4,
 "nbformat_minor": 2
}
