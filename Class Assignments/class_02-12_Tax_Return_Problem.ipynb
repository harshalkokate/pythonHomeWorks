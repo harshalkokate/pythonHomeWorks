{
 "cells": [
  {
   "cell_type": "markdown",
   "metadata": {
    "collapsed": true
   },
   "source": [
    "# Bubble Sort"
   ]
  },
  {
   "cell_type": "code",
   "execution_count": 72,
   "metadata": {},
   "outputs": [
    {
     "data": {
      "text/plain": [
       "[0, 2, 3, 5, 5, 6, 7, 8]"
      ]
     },
     "execution_count": 72,
     "metadata": {},
     "output_type": "execute_result"
    }
   ],
   "source": [
    "list_number = [5, 7, 3, 5, 2, 0, 6, 8]\n",
    "list_sorted = [1,2,3,4,5,6,7,8,9]\n",
    "\n",
    "sort = False\n",
    "while sort is False:\n",
    "    sort = True\n",
    "    for i in range(len(list_number)-1):\n",
    "        if list_number[i] > list_number[i+1]:\n",
    "            list_number[i],list_number[i+1] = list_number[i+1], list_number[i]\n",
    "            sort = False\n",
    "            \n",
    "list_number "
   ]
  },
  {
   "cell_type": "markdown",
   "metadata": {},
   "source": [
    "# Extracting the tax return from 2012 year"
   ]
  },
  {
   "cell_type": "code",
   "execution_count": 75,
   "metadata": {},
   "outputs": [
    {
     "data": {
      "text/plain": [
       "17339.357188282796"
      ]
     },
     "execution_count": 75,
     "metadata": {},
     "output_type": "execute_result"
    }
   ],
   "source": [
    "import requests\n",
    "\n",
    "link = \"http://s3.amazonaws.com/mikeghen/costs_2012.txt\"\n",
    "f = requests.get(link)\n",
    "\n",
    "raw_data = f.text\n",
    "data = raw_data.split('\\n')[:-1]\n",
    "new_list = []\n",
    "for d in data:\n",
    "    a = d.replace('$','')\n",
    "    new_list.append(float(a.replace(',','')))\n",
    "average_of_2012 = (sum(new_list) + 348.43)/ len(data)\n",
    "datalen_2012 = len(data)\n",
    "average_of_2012"
   ]
  },
  {
   "cell_type": "markdown",
   "metadata": {},
   "source": [
    "# Extracting the tax return from 2014 year "
   ]
  },
  {
   "cell_type": "code",
   "execution_count": 46,
   "metadata": {},
   "outputs": [
    {
     "data": {
      "text/plain": [
       "17770.463817505508"
      ]
     },
     "execution_count": 46,
     "metadata": {},
     "output_type": "execute_result"
    }
   ],
   "source": [
    "import requests\n",
    "\n",
    "link = \"http://s3.amazonaws.com/mikeghen/costs_2014.txt\"\n",
    "f = requests.get(link)\n",
    "\n",
    "raw_data = f.text\n",
    "data = raw_data.split('\\n')[:-1]\n",
    "new_list = []\n",
    "for d in data:\n",
    "    a = d.replace('$','')\n",
    "    new_list.append(float(a.replace(',','')))\n",
    "average_of_2014 = (sum(new_list) + 948.38)/len(data)\n",
    "datalen_2014 = len(data)\n",
    "average_of_2014"
   ]
  },
  {
   "cell_type": "markdown",
   "metadata": {},
   "source": [
    "# Extracting the tax return from 2016 year "
   ]
  },
  {
   "cell_type": "code",
   "execution_count": 48,
   "metadata": {},
   "outputs": [
    {
     "data": {
      "text/plain": [
       "18641.013811623627"
      ]
     },
     "execution_count": 48,
     "metadata": {},
     "output_type": "execute_result"
    }
   ],
   "source": [
    "import requests\n",
    "\n",
    "link = \"http://s3.amazonaws.com/mikeghen/costs_2016.txt\"\n",
    "f = requests.get(link)\n",
    "\n",
    "raw_data = f.text\n",
    "data = raw_data.split('\\n')[:-1]\n",
    "new_list = []\n",
    "for d in data:\n",
    "    a = d.replace('$','')\n",
    "    new_list.append(float(a.replace(',','')))\n",
    "average_of_2016 = (sum(new_list) + 565.23)/ len(data)\n",
    "datalen_2016 = len(data)\n",
    "average_of_2016"
   ]
  },
  {
   "cell_type": "markdown",
   "metadata": {},
   "source": [
    "# Percentage increase in average tax return from 2012 and 2014 "
   ]
  },
  {
   "cell_type": "code",
   "execution_count": 55,
   "metadata": {},
   "outputs": [
    {
     "data": {
      "text/plain": [
       "2.486289569685058"
      ]
     },
     "execution_count": 55,
     "metadata": {},
     "output_type": "execute_result"
    }
   ],
   "source": [
    "per_change_12to14 = ((average_of_2014 - average_of_2012)/ average_of_2012)*100\n",
    "per_change_12to14"
   ]
  },
  {
   "cell_type": "markdown",
   "metadata": {},
   "source": [
    "# Percentage increase in average tax return from 2014 and 2016 "
   ]
  },
  {
   "cell_type": "code",
   "execution_count": 54,
   "metadata": {},
   "outputs": [
    {
     "data": {
      "text/plain": [
       "4.8988591578602945"
      ]
     },
     "execution_count": 54,
     "metadata": {},
     "output_type": "execute_result"
    }
   ],
   "source": [
    "per_change_14to16 = ((average_of_2016 - average_of_2014)/average_of_2014)*100\n",
    "per_change_14to16"
   ]
  },
  {
   "cell_type": "markdown",
   "metadata": {},
   "source": [
    "# Yearly Percentage increase"
   ]
  },
  {
   "cell_type": "code",
   "execution_count": 63,
   "metadata": {},
   "outputs": [
    {
     "data": {
      "text/plain": [
       "1.970349398393221"
      ]
     },
     "execution_count": 63,
     "metadata": {},
     "output_type": "execute_result"
    }
   ],
   "source": [
    "raised_value = per_change_14to16/per_change_12to14\n",
    "raised_value"
   ]
  },
  {
   "cell_type": "markdown",
   "metadata": {},
   "source": [
    "# Predicted Percentage increase value from 2016 to 2018"
   ]
  },
  {
   "cell_type": "code",
   "execution_count": 62,
   "metadata": {},
   "outputs": [
    {
     "data": {
      "text/plain": [
       "9.652464194503152"
      ]
     },
     "execution_count": 62,
     "metadata": {},
     "output_type": "execute_result"
    }
   ],
   "source": [
    "per_value2018 = per_change_14to16 * raised_value\n",
    "per_value2018"
   ]
  },
  {
   "cell_type": "markdown",
   "metadata": {},
   "source": [
    "# Predicted average tax return value for 2018"
   ]
  },
  {
   "cell_type": "code",
   "execution_count": 66,
   "metadata": {},
   "outputs": [
    {
     "data": {
      "text/plain": [
       "20440.330995282984"
      ]
     },
     "execution_count": 66,
     "metadata": {},
     "output_type": "execute_result"
    }
   ],
   "source": [
    "(average_of_2016 * (per_value2018/100)) + average_of_2016"
   ]
  }
 ],
 "metadata": {
  "anaconda-cloud": {},
  "kernelspec": {
   "display_name": "Python 3",
   "language": "python",
   "name": "python3"
  },
  "language_info": {
   "codemirror_mode": {
    "name": "ipython",
    "version": 3
   },
   "file_extension": ".py",
   "mimetype": "text/x-python",
   "name": "python",
   "nbconvert_exporter": "python",
   "pygments_lexer": "ipython3",
   "version": "3.6.3"
  }
 },
 "nbformat": 4,
 "nbformat_minor": 1
}
