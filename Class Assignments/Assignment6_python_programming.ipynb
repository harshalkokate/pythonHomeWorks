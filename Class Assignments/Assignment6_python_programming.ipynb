{
 "cells": [
  {
   "cell_type": "code",
   "execution_count": null,
   "metadata": {
    "collapsed": true
   },
   "outputs": [],
   "source": [
    "def main(): \n",
    "    print(uc('h'))\n",
    "    print(uc('w'))\n",
    "def uc(letter):\n",
    "    if letter == 'h':\n",
    "        return 'H'\n",
    "    else:\n",
    "        return letter\n",
    "main()"
   ]
  },
  {
   "cell_type": "code",
   "execution_count": null,
   "metadata": {
    "collapsed": true
   },
   "outputs": [],
   "source": [
    "def main():\n",
    "    p = float(input(\"Enter the population growth as a percent: \"))\n",
    "    print(\"The population will double \", end=\"\")\n",
    "    print (\"in about {0:.2f} years.\".format(doublingTime(p)))\n",
    "def doublingTime(x):\n",
    "    ## Estimate time required for a population\n",
    "    ## to double at a growth rate of x percent\n",
    "    time = 72 / x\n",
    "    return time\n",
    "main()"
   ]
  },
  {
   "cell_type": "code",
   "execution_count": null,
   "metadata": {
    "collapsed": true
   },
   "outputs": [],
   "source": [
    "def main():\n",
    "    taxableIncome = 16000\n",
    "    print(\"Your income tax is ${0:,.2f}\".format(stateTax(taxableIncome)))\n",
    "def stateTax(income):\n",
    "    ## Calculate state tax for a single resident of Kansas\n",
    "    if income <= 15000:\n",
    "        return .03 * income\n",
    "    else:\n",
    "        return 450 + (.049 * (income - 15000))\n",
    "main()"
   ]
  },
  {
   "cell_type": "code",
   "execution_count": null,
   "metadata": {
    "collapsed": true
   },
   "outputs": [],
   "source": [
    "def main(): \n",
    "    question()\n",
    "    answer()\n",
    "def answer():\n",
    "    print(\"Because they were invented in the northern\")\n",
    "    print(\"hemisphere where sundials go clockwise.\")\n",
    "def question():\n",
    "    print(\"Why do clocks run clockwise?\")\n",
    "    print()\n",
    "main()"
   ]
  },
  {
   "cell_type": "code",
   "execution_count": null,
   "metadata": {
    "collapsed": true
   },
   "outputs": [],
   "source": [
    "def main():\n",
    "    ## Display sentences using number, thing, and place. \n",
    "    sentence(168, \"hour\", \"a week\")\n",
    "    sentence(76, \"trombone\", \"the big parade\")\n",
    "def sentence(num, thing, where):\n",
    "    print(num, thing + \"s in\", where)\n",
    "main()"
   ]
  },
  {
   "cell_type": "code",
   "execution_count": null,
   "metadata": {
    "collapsed": true
   },
   "outputs": [],
   "source": [
    "def main():\n",
    "    pres = \"Bush\"\n",
    "    college = \"Yale\"\n",
    "    presAlmaMater(pres, college)\n",
    "    pres = \"Obama\"\n",
    "    college = \"Columbia\"\n",
    "    presAlmaMater(pres, college)\n",
    "def presAlmaMater(pres, college):\n",
    "    print(\"President\", pres, \"is a graduate of\", college + '.')\n",
    "main()    "
   ]
  },
  {
   "cell_type": "code",
   "execution_count": null,
   "metadata": {
    "collapsed": true
   },
   "outputs": [],
   "source": [
    "x = 7\n",
    "def main():\n",
    "    x = 5\n",
    "    f() \n",
    "    print(x)\n",
    "def f():\n",
    "    print(x)\n",
    "main()"
   ]
  },
  {
   "cell_type": "code",
   "execution_count": null,
   "metadata": {
    "collapsed": true
   },
   "outputs": [],
   "source": [
    "name = \"Fred\"\n",
    "def main():\n",
    "    global name\n",
    "    otherName = getName()\n",
    "    name += otherName\n",
    "    print(name)\n",
    "def getName():\n",
    "    name = \"rick\"\n",
    "    return name\n",
    "main()"
   ]
  },
  {
   "cell_type": "code",
   "execution_count": null,
   "metadata": {
    "collapsed": true
   },
   "outputs": [],
   "source": [
    "SALES_TAX_RATE = 0.06\n",
    "def main():\n",
    "    price = 100\n",
    "    cost = (1 + SALES_TAX_RATE) * price\n",
    "    print(\"Total cost: ${0:,.2f}\".format(cost))\n",
    "main()"
   ]
  },
  {
   "cell_type": "code",
   "execution_count": null,
   "metadata": {
    "collapsed": true
   },
   "outputs": [],
   "source": [
    "def main():\n",
    "    num = 5\n",
    "    triple(num)\n",
    "    print(num)\n",
    "def triple(num):\n",
    "    num = 3 * num\n",
    "main()    "
   ]
  },
  {
   "cell_type": "code",
   "execution_count": null,
   "metadata": {
    "collapsed": true
   },
   "outputs": [],
   "source": [
    "def main():\n",
    "    # The file Independence.txt contains seven lines.\n",
    "    # Each line contains one of the following words:\n",
    "    # When, in, the, course, of, human, events\n",
    "    independenceList = obtainList(\"Independence.txt\")\n",
    "    print(\" \".join(independenceList))\n",
    "def obtainList(file):\n",
    "    infile = open(file, 'r')\n",
    "    independenceList = [line.rstrip() for line in infile]\n",
    "    infile.close()\n",
    "    return independenceList\n",
    "main()"
   ]
  },
  {
   "cell_type": "code",
   "execution_count": null,
   "metadata": {
    "collapsed": true
   },
   "outputs": [],
   "source": [
    "def main():\n",
    "    ## Determine semester grade.\n",
    "    grade = getAverageGrade()\n",
    "    typeOfStudent = getTypeOfStudent()\n",
    "    if typeOfStudent == \"PASS/FAIL\":\n",
    "        semesterGrade = calculatePFgrade(grade)\n",
    "    else:\n",
    "        semesterGrade = calculateLetterGrade(grade)\n",
    "    print(\"Semester grade:\", semesterGrade)\n",
    "def getAverageGrade():\n",
    "    midtermGrade = int(input(\"Enter grade on midterm exam: \"))\n",
    "    finalExamGrade = int(input(\"Enter grade on final exam: \"))\n",
    "    return round((midtermGrade + finalExamGrade) / 2)\n",
    "def getTypeOfStudent():\n",
    "    prompt = \"Enter type of student (Pass/Fail) or (Letter Grade): \"\n",
    "    typeOfStudent = input(prompt)\n",
    "    return typeOfStudent.upper()\n",
    "def calculatePFgrade(grade):\n",
    "    if grade >= 60:\n",
    "        return \"Pass\"\n",
    "    else:\n",
    "        return \"Fail\"\n",
    "def calculateLetterGrade(grade):\n",
    "    if grade >= 90:\n",
    "        return \"A\"\n",
    "    elif grade >= 80:\n",
    "        return \"B\"\n",
    "    elif grade >= 70:\n",
    "        return \"C\"\n",
    "    elif grade >= 60:\n",
    "        return \"D\"\n",
    "    else:\n",
    "        return \"F\"\n",
    "main()"
   ]
  },
  {
   "cell_type": "code",
   "execution_count": null,
   "metadata": {
    "collapsed": true
   },
   "outputs": [],
   "source": [
    "def highest_num(lists):\n",
    "    highest = None\n",
    "    for i in lists:\n",
    "        if highest == None or i > highest:\n",
    "            highest = i\n",
    "    return highest\n",
    "print(highest_num([-1,2,-2,-3,-4,-5,0,-34]))       "
   ]
  },
  {
   "cell_type": "code",
   "execution_count": null,
   "metadata": {
    "collapsed": true
   },
   "outputs": [],
   "source": [
    "def isQuerty(val):\n",
    "    Q_word = 'qwertyuiop'\n",
    "    count = 0\n",
    "    for i in val.lower():\n",
    "        if i in Q_word:\n",
    "            count += 1\n",
    "    if len(val) == count:\n",
    "        return True\n",
    "    else:\n",
    "        return False\n",
    "\n",
    "word = input('Enter a word: ')\n",
    "if isQuerty(word):\n",
    "    print('{:s} is a Qwerty word.'.format(word))\n",
    "else:\n",
    "    print('{:s} is not a Qwerty word.'.format(word)) "
   ]
  },
  {
   "cell_type": "code",
   "execution_count": null,
   "metadata": {
    "collapsed": true
   },
   "outputs": [],
   "source": [
    "def func_pay():\n",
    "    work_day = 10\n",
    "    option1 = 100 * work_day\n",
    "    option2 = 1\n",
    "    multiple = 1\n",
    "    for i in range(0,work_day-1):\n",
    "        multiple *= 2\n",
    "        option2 += multiple\n",
    "    if option1 > option2:  \n",
    "        return ([option1,option2,'Option 1 is better.'])\n",
    "    else:\n",
    "        return ([option1,option2,'Option 2 is better.'])\n",
    "    \n",
    "    \n",
    "l = func_pay()\n",
    "print('Option 1 pays ${:,.2f}'.format(l[0]))\n",
    "print('Option 2 pays ${:,.2f}'.format(l[1]))\n",
    "print(l[2])"
   ]
  },
  {
   "cell_type": "code",
   "execution_count": 3,
   "metadata": {},
   "outputs": [
    {
     "name": "stdout",
     "output_type": "stream",
     "text": [
      "Enter a letter: D\n",
      "Dandelion\n",
      "Denim \n",
      "Desert Sand\n"
     ]
    }
   ],
   "source": [
    "def main():\n",
    "    i_letter = intial_letter()\n",
    "    printable_list = get_list(i_letter)\n",
    "    print_list(printable_list)\n",
    "def intial_letter():\n",
    "    return (input('Enter a letter: '))\n",
    "def get_list(letter):\n",
    "    colors = []\n",
    "    f = open('Colors.txt','r').read().split('\\n')\n",
    "    for i in f:\n",
    "        if i.startswith(letter):\n",
    "            colors.append(i)       \n",
    "    return colors\n",
    "def print_list(p_list):\n",
    "    for i in p_list:\n",
    "        print(i)\n",
    "main()"
   ]
  },
  {
   "cell_type": "code",
   "execution_count": 11,
   "metadata": {},
   "outputs": [
    {
     "name": "stdout",
     "output_type": "stream",
     "text": [
      "Enter total earnings for this year prior to current pay period: 12345.67\n",
      "Enter earnings for the current pay period: 543.21\n",
      "FICA tax for the current pay period: $41.56\n"
     ]
    }
   ],
   "source": [
    "WAGE_BASE = 117000 \n",
    "SOCIAL_SECURITY_TAX_RATE = 0.062\n",
    "MEDICARE_TAX_RATE = 0.0145\n",
    "ADDITIONAL_MEDICARE_TAX_RATE = .009\n",
    "\n",
    "def main():\n",
    "    (ytdEarnings, curEarnings, totalEarnings) = get_earnings()\n",
    "    socialSecurityBenTax = calculations(ytdEarnings, curEarnings,\n",
    "                            totalEarnings)\n",
    "    calculations_fica_tax(ytdEarnings, curEarnings, totalEarnings,\n",
    "                         socialSecurityBenTax)\n",
    "def get_earnings():\n",
    "    str1 = \"Enter total earnings for this year prior to current pay period: \" \n",
    "    ytdEarnings = eval(input(str1))\n",
    "    curEarnings = eval(input(\"Enter earnings for the current pay period: \")) \n",
    "    totalEarnings = ytdEarnings + curEarnings\n",
    "    return(ytdEarnings, curEarnings, totalEarnings)\n",
    "\n",
    "def calculations(ytdEarnings, curEarnings, totalEarnings):\n",
    "        socialSecurityBenTax = 0\n",
    "        if totalEarnings <= WAGE_BASE:\n",
    "            socialSecurityBenTax = SOCIAL_SECURITY_TAX_RATE * curEarnings\n",
    "        elif ytdEarnings < WAGE_BASE:\n",
    "            socialSecurityBenTax = SOCIAL_SECURITY_TAX_RATE * (WAGE_BASE - ytdEarnings)\n",
    "        return socialSecurityBenTax\n",
    "    \n",
    "def calculations_fica_tax(ytdEarnings, curEarnings, totalEarnings,\n",
    "                         socialSecurityBenTax):\n",
    "    medicareTax = MEDICARE_TAX_RATE * curEarnings\n",
    "    if ytdEarnings >= 200000:\n",
    "        medicareTax += ADDITIONAL_MEDICARE_TAX_RATE * curEarnings\n",
    "    elif totalEarnings > 200000:\n",
    "        medicareTax += ADDITIONAL_MEDICARE_TAX_RATE * (totalEarnings - 200000) \n",
    "    ficaTax = socialSecurityBenTax + medicareTax\n",
    "    print(\"FICA tax for the current pay period: ${0:,.2f}\".format(ficaTax))\n",
    "    \n",
    "main()"
   ]
  },
  {
   "cell_type": "code",
   "execution_count": 12,
   "metadata": {},
   "outputs": [
    {
     "name": "stdout",
     "output_type": "stream",
     "text": [
      "24 blackbirds baked in a pie.\n"
     ]
    }
   ],
   "source": [
    "def main(): \n",
    "    howMany(24)\n",
    "    print(\"a pie.\")\n",
    "def howMany(num):\n",
    "    what(num)\n",
    "    print(\"baked in\", end=\" \")\n",
    "def what(num):\n",
    "    print(num, \"blackbirds\", end = \" \")\n",
    "main()"
   ]
  },
  {
   "cell_type": "code",
   "execution_count": 13,
   "metadata": {},
   "outputs": [
    {
     "name": "stdout",
     "output_type": "stream",
     "text": [
      "Cost: $250.00\n",
      "Shipping cost: $15.00\n",
      "Total cost: $265.00\n"
     ]
    }
   ],
   "source": [
    "def main(): \n",
    "    cost = 250\n",
    "    displayBill(cost, shippingCost(cost))\n",
    "def shippingCost(costOfGoods):\n",
    "    if costOfGoods < 100:\n",
    "        return 10\n",
    "    elif costOfGoods < 500:\n",
    "        return 15\n",
    "    else:\n",
    "        return 20\n",
    "def displayBill(cost, addedCost):\n",
    "    print(\"Cost: ${0:.2f}\".format(cost))\n",
    "    print(\"Shipping cost: ${0:.2f}\".format(addedCost))\n",
    "    print(\"Total cost: ${0:.2f}\".format(cost + addedCost))\n",
    "main()"
   ]
  },
  {
   "cell_type": "code",
   "execution_count": 14,
   "metadata": {},
   "outputs": [
    {
     "name": "stdout",
     "output_type": "stream",
     "text": [
      "Enter first grade: 88\n",
      "Enter second grade: 99\n",
      "Enter third grade: 92\n",
      "[88, 92, 99]\n"
     ]
    }
   ],
   "source": [
    "def main():\n",
    "    gradeList = list(getThreeGrades()) \n",
    "    gradeList.sort()\n",
    "    print(gradeList)\n",
    "def getThreeGrades():\n",
    "        x = int(input((\"Enter first grade: \")))\n",
    "        y = int(input((\"Enter second grade: \")))\n",
    "        z = int(input((\"Enter third grade: \")))\n",
    "        return x, y, z\n",
    "main()"
   ]
  },
  {
   "cell_type": "code",
   "execution_count": 15,
   "metadata": {},
   "outputs": [
    {
     "name": "stdout",
     "output_type": "stream",
     "text": [
      "['Banana', 'apple', 'pear']\n",
      "['apple', 'Banana', 'pear']\n"
     ]
    }
   ],
   "source": [
    "list1 = [\"pear\", \"Banana\", \"apple\"] \n",
    "list1.sort()\n",
    "print(list1)\n",
    "list1.sort(key=lambda x: x.upper()) \n",
    "print(list1)"
   ]
  },
  {
   "cell_type": "code",
   "execution_count": 16,
   "metadata": {},
   "outputs": [
    {
     "name": "stdout",
     "output_type": "stream",
     "text": [
      "nudge nudge \n",
      "nudge nudge nudge nudge \n"
     ]
    }
   ],
   "source": [
    "def main(): \n",
    "    display(\"nudge \")\n",
    "    display(\"nudge \", 4)\n",
    "def display(x, times=2):\n",
    "    print(x * times)\n",
    "main()"
   ]
  },
  {
   "cell_type": "code",
   "execution_count": 17,
   "metadata": {},
   "outputs": [
    {
     "name": "stdout",
     "output_type": "stream",
     "text": [
      "spam     and     eggs\n",
      "spam and eggs\n"
     ]
    }
   ],
   "source": [
    "def main():\n",
    "    display(\"spam\", \"and\", \"eggs\", 5) \n",
    "    display(\"spam\", \"and\", \"eggs\")\n",
    "def display(x, y, z, spacing=1):\n",
    "    print(x + (\" \" * spacing) + y + (\" \" * spacing) + z)\n",
    "main()"
   ]
  },
  {
   "cell_type": "code",
   "execution_count": 18,
   "metadata": {},
   "outputs": [
    {
     "name": "stdout",
     "output_type": "stream",
     "text": [
      "George Washington\n",
      "John Adams\n"
     ]
    }
   ],
   "source": [
    "presidents = [(\"John Adams\", 61), (\"George Washington\", 57)] \n",
    "presidents.sort(key=lambda pres: pres[1])\n",
    "for pres in presidents:\n",
    "    print(pres[0])"
   ]
  },
  {
   "cell_type": "code",
   "execution_count": 19,
   "metadata": {},
   "outputs": [
    {
     "name": "stdout",
     "output_type": "stream",
     "text": [
      "Amadeus\n",
      "Joseph\n",
      "Sebastian\n",
      "Vaughan\n"
     ]
    }
   ],
   "source": [
    "def main():\n",
    "    composers = [\"Johann Sebastian Bach\", \"Wolfgang Amadeus Mozart\",\n",
    "             \"Franz Joseph Haydn\", \"Ralph Vaughan Williams\"]\n",
    "    composers.sort(key=middleName)\n",
    "    for composer in composers:\n",
    "        print(middleName(composer))\n",
    "def middleName(composer):\n",
    "        compList = composer.split()\n",
    "        return compList[1]\n",
    "main()    "
   ]
  },
  {
   "cell_type": "code",
   "execution_count": 20,
   "metadata": {},
   "outputs": [
    {
     "name": "stdout",
     "output_type": "stream",
     "text": [
      "['M', 'S', 'a', 'l', 'o', 't']\n",
      "['a', 'l', 'M', 'o', 'S', 't']\n"
     ]
    }
   ],
   "source": [
    "def main():\n",
    "    list1 = sorted(\"alMoSt\")\n",
    "    print(list1)\n",
    "    list2 = sorted(\"alMoSt\", key=f)\n",
    "    print(list2)\n",
    "def f(letter):\n",
    "    return letter.lower()\n",
    "main()"
   ]
  },
  {
   "cell_type": "code",
   "execution_count": 21,
   "metadata": {},
   "outputs": [
    {
     "name": "stdout",
     "output_type": "stream",
     "text": [
      "VB  Ruby  Python  PHP  Java  C++  C  "
     ]
    }
   ],
   "source": [
    "popularLanguages = [\"Python\", \"Java\",'C','C++',\"Ruby\", \"VB\", \"PHP\"]\n",
    "for item in sorted(popularLanguages, reverse=True):\n",
    "        print(item, end = \"  \")"
   ]
  },
  {
   "cell_type": "code",
   "execution_count": 22,
   "metadata": {},
   "outputs": [
    {
     "name": "stdout",
     "output_type": "stream",
     "text": [
      "Python  Java  Ruby  C++  PHP  VB  C  "
     ]
    }
   ],
   "source": [
    "popularLanguages = [\"Python\", \"Java\", \"C\", \"C++\", \"Ruby\", \"VB\", \"PHP\"] \n",
    "for item in sorted(popularLanguages, key=len, reverse=True):\n",
    "        print(item, end = \"  \")"
   ]
  },
  {
   "cell_type": "code",
   "execution_count": 23,
   "metadata": {},
   "outputs": [
    {
     "name": "stdout",
     "output_type": "stream",
     "text": [
      "-3  -2  4  5  6  "
     ]
    }
   ],
   "source": [
    "numbers = [4, 6, -2, -3, 5]\n",
    "for num in sorted(numbers, key=lambda x: x ** 3):\n",
    "        print(num, end = \"  \")"
   ]
  },
  {
   "cell_type": "code",
   "execution_count": 24,
   "metadata": {},
   "outputs": [
    {
     "data": {
      "text/plain": [
       "[10, 7, 6, 4, 5, 3]"
      ]
     },
     "execution_count": 24,
     "metadata": {},
     "output_type": "execute_result"
    }
   ],
   "source": [
    "list1 = [\"democratic\", \"sequoia\", \"equals\", \"brrr\", \"break\", \"two\"]\n",
    "list2 = [len(word) for word in list1]\n",
    "list2"
   ]
  },
  {
   "cell_type": "code",
   "execution_count": 25,
   "metadata": {},
   "outputs": [
    {
     "data": {
      "text/plain": [
       "['BRRR', 'TWO']"
      ]
     },
     "execution_count": 25,
     "metadata": {},
     "output_type": "execute_result"
    }
   ],
   "source": [
    "list2 = [word.upper() for word in list1 if len(word) < 5]\n",
    "list2"
   ]
  },
  {
   "cell_type": "code",
   "execution_count": 26,
   "metadata": {},
   "outputs": [
    {
     "ename": "NameError",
     "evalue": "name 'numberOfVowels' is not defined",
     "output_type": "error",
     "traceback": [
      "\u001b[0;31m---------------------------------------------------------------------------\u001b[0m",
      "\u001b[0;31mNameError\u001b[0m                                 Traceback (most recent call last)",
      "\u001b[0;32m<ipython-input-26-ed04e844935e>\u001b[0m in \u001b[0;36m<module>\u001b[0;34m()\u001b[0m\n\u001b[0;32m----> 1\u001b[0;31m \u001b[0mlist2\u001b[0m \u001b[0;34m=\u001b[0m \u001b[0;34m[\u001b[0m\u001b[0mx\u001b[0m\u001b[0;34m[\u001b[0m\u001b[0;34m-\u001b[0m\u001b[0;36m1\u001b[0m\u001b[0;34m]\u001b[0m \u001b[0;32mfor\u001b[0m \u001b[0mx\u001b[0m \u001b[0;32min\u001b[0m \u001b[0mlist1\u001b[0m \u001b[0;32mif\u001b[0m \u001b[0mnumberOfVowels\u001b[0m\u001b[0;34m(\u001b[0m\u001b[0mx\u001b[0m\u001b[0;34m)\u001b[0m \u001b[0;34m>\u001b[0m \u001b[0;36m3\u001b[0m\u001b[0;34m]\u001b[0m\u001b[0;34m\u001b[0m\u001b[0m\n\u001b[0m",
      "\u001b[0;32m<ipython-input-26-ed04e844935e>\u001b[0m in \u001b[0;36m<listcomp>\u001b[0;34m(.0)\u001b[0m\n\u001b[0;32m----> 1\u001b[0;31m \u001b[0mlist2\u001b[0m \u001b[0;34m=\u001b[0m \u001b[0;34m[\u001b[0m\u001b[0mx\u001b[0m\u001b[0;34m[\u001b[0m\u001b[0;34m-\u001b[0m\u001b[0;36m1\u001b[0m\u001b[0;34m]\u001b[0m \u001b[0;32mfor\u001b[0m \u001b[0mx\u001b[0m \u001b[0;32min\u001b[0m \u001b[0mlist1\u001b[0m \u001b[0;32mif\u001b[0m \u001b[0mnumberOfVowels\u001b[0m\u001b[0;34m(\u001b[0m\u001b[0mx\u001b[0m\u001b[0;34m)\u001b[0m \u001b[0;34m>\u001b[0m \u001b[0;36m3\u001b[0m\u001b[0;34m]\u001b[0m\u001b[0;34m\u001b[0m\u001b[0m\n\u001b[0m",
      "\u001b[0;31mNameError\u001b[0m: name 'numberOfVowels' is not defined"
     ]
    }
   ],
   "source": [
    "list2 = [x[-1] for x in list1 if numberOfVowels(x) > 3]\n",
    "['c', 'a']"
   ]
  },
  {
   "cell_type": "code",
   "execution_count": 28,
   "metadata": {
    "collapsed": true
   },
   "outputs": [],
   "source": [
    "names = [\"George Boole\", \"Charles Babbage\", \"Grace Hopper\"] \n",
    "lastNames = []\n",
    "for name in names:\n",
    "    lastNames.append(name.split()[-1])"
   ]
  },
  {
   "cell_type": "code",
   "execution_count": 29,
   "metadata": {},
   "outputs": [
    {
     "data": {
      "text/plain": [
       "['Boole', 'Babbage', 'Hopper']"
      ]
     },
     "execution_count": 29,
     "metadata": {},
     "output_type": "execute_result"
    }
   ],
   "source": [
    "lastNames = [name.split()[-1] for name in names]\n",
    "lastNames"
   ]
  },
  {
   "cell_type": "code",
   "execution_count": 30,
   "metadata": {},
   "outputs": [
    {
     "name": "stdout",
     "output_type": "stream",
     "text": [
      "['DELAWARE', 'PENNSYLVANIA', 'NEW JERSEY', 'GEORGIA', 'CONNECTICUT', 'MASSACHUSETTS', 'MARYLAND', 'SOUTH CAROLINA', 'NEW HAMPSHIRE', 'VIRGINIA', 'NEW YORK', 'NORTH CAROLINA', 'RHODE ISLAND', 'VERMONT', 'KENTUCKY', 'TENNESSEE', 'OHIO', 'LOUISIANA', 'INDIANA', 'MISSISSIPPI', 'ILLINOIS', 'ALABAMA', 'MAINE', 'MISSOURI', 'ARKANSAS', 'MICHIGAN', 'FLORIDA', 'TEXAS', 'IOWA', 'WISCONSIN', 'CALIFORNIA', 'MINNESOTA', 'OREGON', 'KANSAS', 'WEST VIRGINIA', 'NEVADA', 'NEBRASKA', 'COLORADO', 'NORTH DAKOTA', 'SOUTH DAKOTA', 'MONTANA', 'WASHINGTON', 'IDAHO', 'WYOMING', 'UTAH', 'OKLAHOMA', 'NEW MEXICO', 'ARIZONA', 'ALASKA', 'HAWAII']\n"
     ]
    }
   ],
   "source": [
    "infile = open(\"States.txt\", 'r') \n",
    "print([line.rstrip().upper() for line in infile])"
   ]
  },
  {
   "cell_type": "code",
   "execution_count": 31,
   "metadata": {},
   "outputs": [
    {
     "name": "stdout",
     "output_type": "stream",
     "text": [
      "['Ohio', 'Iowa', 'Utah', 'Maine', 'Texas', 'Idaho', 'Oregon', 'Kansas', 'Nevada', 'Alaska', 'Hawaii', 'Georgia', 'Vermont', 'Indiana', 'Alabama', 'Florida', 'Montana', 'Wyoming', 'Arizona', 'Delaware', 'Maryland', 'Virginia', 'New York', 'Kentucky', 'Illinois', 'Missouri', 'Arkansas', 'Michigan', 'Nebraska', 'Colorado', 'Oklahoma', 'Tennessee', 'Louisiana', 'Wisconsin', 'Minnesota', 'New Jersey', 'California', 'Washington', 'New Mexico', 'Connecticut', 'Mississippi', 'Pennsylvania', 'Rhode Island', 'North Dakota', 'South Dakota', 'Massachusetts', 'New Hampshire', 'West Virginia', 'South Carolina', 'North Carolina']\n"
     ]
    }
   ],
   "source": [
    "infile = open(\"States.txt\", 'r') \n",
    "print(sorted([line.rstrip() for line in infile], key=len))"
   ]
  },
  {
   "cell_type": "code",
   "execution_count": 32,
   "metadata": {},
   "outputs": [
    {
     "data": {
      "text/plain": [
       "[2012, 'Argo', 'Ben Affleck']"
      ]
     },
     "execution_count": 32,
     "metadata": {},
     "output_type": "execute_result"
    }
   ],
   "source": [
    "def bestFilm(year, film, star):\n",
    "    return [year,film,star]\n",
    "\n",
    "r = bestFilm(2012,\"Argo\", \"Ben Affleck\")\n",
    "r"
   ]
  },
  {
   "cell_type": "code",
   "execution_count": 33,
   "metadata": {},
   "outputs": [
    {
     "data": {
      "text/plain": [
       "[2012, 'Argo', 'Ben Affleck']"
      ]
     },
     "execution_count": 33,
     "metadata": {},
     "output_type": "execute_result"
    }
   ],
   "source": [
    "r = bestFilm(star=\"Ben Affleck\", film=\"Argo\", year=2012)\n",
    "r"
   ]
  },
  {
   "cell_type": "code",
   "execution_count": 34,
   "metadata": {},
   "outputs": [
    {
     "ename": "TypeError",
     "evalue": "bestFilm() missing 3 required positional arguments: 'year', 'film', and 'star'",
     "output_type": "error",
     "traceback": [
      "\u001b[0;31m---------------------------------------------------------------------------\u001b[0m",
      "\u001b[0;31mTypeError\u001b[0m                                 Traceback (most recent call last)",
      "\u001b[0;32m<ipython-input-34-ecb563b1fc6f>\u001b[0m in \u001b[0;36m<module>\u001b[0;34m()\u001b[0m\n\u001b[0;32m----> 1\u001b[0;31m \u001b[0mbestFilm\u001b[0m\u001b[0;34m(\u001b[0m\u001b[0;34m)\u001b[0m\u001b[0;34m\u001b[0m\u001b[0m\n\u001b[0m",
      "\u001b[0;31mTypeError\u001b[0m: bestFilm() missing 3 required positional arguments: 'year', 'film', and 'star'"
     ]
    }
   ],
   "source": [
    "bestFilm()"
   ]
  },
  {
   "cell_type": "code",
   "execution_count": null,
   "metadata": {
    "collapsed": true
   },
   "outputs": [],
   "source": [
    "def breakfast(toast, coffee, spam=0, eggs=0):\n",
    "    return [toast, coffee, spam, eggs]\n",
    "\n",
    "r = breakfast(2, spam=1, eggs=1, coffee=1)\n",
    "r"
   ]
  },
  {
   "cell_type": "code",
   "execution_count": 35,
   "metadata": {},
   "outputs": [
    {
     "ename": "SyntaxError",
     "evalue": "positional argument follows keyword argument (<ipython-input-35-163d3bee3479>, line 1)",
     "output_type": "error",
     "traceback": [
      "\u001b[0;36m  File \u001b[0;32m\"<ipython-input-35-163d3bee3479>\"\u001b[0;36m, line \u001b[0;32m1\u001b[0m\n\u001b[0;31m    ru = breakfast(spam=1, 1, eggs=1, toast=2)\u001b[0m\n\u001b[0m                          ^\u001b[0m\n\u001b[0;31mSyntaxError\u001b[0m\u001b[0;31m:\u001b[0m positional argument follows keyword argument\n"
     ]
    }
   ],
   "source": [
    "ru = breakfast(spam=1, 1, eggs=1, toast=2)\n",
    "ru"
   ]
  },
  {
   "cell_type": "code",
   "execution_count": 36,
   "metadata": {},
   "outputs": [
    {
     "name": "stdout",
     "output_type": "stream",
     "text": [
      "almost\n"
     ]
    }
   ],
   "source": [
    "print(\"\".join(sorted(\"stomal\")))"
   ]
  },
  {
   "cell_type": "code",
   "execution_count": 37,
   "metadata": {},
   "outputs": [
    {
     "name": "stdout",
     "output_type": "stream",
     "text": [
      "Enter the number of ounces: 4\n",
      "Cost: $0.35\n"
     ]
    }
   ],
   "source": [
    "import math\n",
    "def main():\n",
    "    cost()\n",
    "def cost():\n",
    "    ounces = int(input('Enter the number of ounces: '))\n",
    "    val = .05 + 0.1 * (ounces - 1)\n",
    "    ceil(val)\n",
    "def ceil(val):\n",
    "    print('Cost: ${:.2f}'.format(round(val,2)))\n",
    "main()    "
   ]
  },
  {
   "cell_type": "code",
   "execution_count": 38,
   "metadata": {},
   "outputs": [
    {
     "name": "stdout",
     "output_type": "stream",
     "text": [
      "Enter the first word or phrase: Elvis\n",
      "Enter the second word or phrase: lives\n",
      "Are anagrams.\n"
     ]
    }
   ],
   "source": [
    "def main():\n",
    "    string1 = input('Enter the first word or phrase: ')\n",
    "    string2 = input('Enter the second word or phrase: ')\n",
    "    if areAnagrams(string1,string2):\n",
    "        print('Are anagrams.')\n",
    "    else:\n",
    "        print('Are not anagrams.')    \n",
    "def areAnagrams(string1, string2):\n",
    "    string1 = string1.lower()\n",
    "    string1 = string2.lower()\n",
    "    count = 0\n",
    "    val1 = [ i for i in string1]\n",
    "    for letter in val1:\n",
    "        if letter in string2:\n",
    "            count += 1\n",
    "    if count == len(string2):\n",
    "        return True\n",
    "    return False\n",
    "main()\n",
    "            "
   ]
  },
  {
   "cell_type": "code",
   "execution_count": 39,
   "metadata": {},
   "outputs": [
    {
     "name": "stdout",
     "output_type": "stream",
     "text": [
      "Johnson, Andrew\n",
      "Kennedy, John\n",
      "Johnson, Lyndon\n"
     ]
    }
   ],
   "source": [
    "def main():\n",
    "    pres = [(\"Lyndon\", \"Johnson\"),(\"John\", \"Kennedy\"),(\"Andrew\", \"Johnson\")] \n",
    "    pres.sort(key=lambda i: i[0]) \n",
    "    for i in pres:\n",
    "        print('{:s}, {:s}'.format(i[1],i[0]))\n",
    "main()"
   ]
  },
  {
   "cell_type": "code",
   "execution_count": 40,
   "metadata": {},
   "outputs": [
    {
     "name": "stdout",
     "output_type": "stream",
     "text": [
      "Sorted by land area in descending order:\n",
      "Maine  Vermont  New Hampshire  Massachusetts  Connecticut  Rhode Island  "
     ]
    }
   ],
   "source": [
    "def main():\n",
    "    NE = [(\"Maine\", 30840, 1.329), (\"Vermont\", 9217, .626),\n",
    "      (\"New Hampshire\", 8953, 1.321), (\"Massachusetts\", 7800, 6.646),\n",
    "        (\"Connecticut\", 4842, 3.59), (\"Rhode Island\", 1044, 1.05)]\n",
    "    NE.sort(key=lambda val: val[1], reverse=True)\n",
    "    print(\"Sorted by land area in descending order:\")\n",
    "    for i in NE:\n",
    "        print('{:s}  '.format(i[0]),end='')\n",
    "main()"
   ]
  },
  {
   "cell_type": "code",
   "execution_count": 41,
   "metadata": {},
   "outputs": [
    {
     "name": "stdout",
     "output_type": "stream",
     "text": [
      "Sorted by land area in ascending order:\n",
      "Maine  Vermont  New Hampshire  Connecticut  Massachusetts  Rhode Island  "
     ]
    }
   ],
   "source": [
    "def main():\n",
    "    NE = [(\"Maine\", 30840, 1.329), (\"Vermont\", 9217, .626),\n",
    "      (\"New Hampshire\", 8953, 1.321), (\"Massachusetts\", 7800, 6.646),\n",
    "        (\"Connecticut\", 4842, 3.59), (\"Rhode Island\", 1044, 1.05)]\n",
    "    NE.sort(key=lambda val: val[2]/val[1])\n",
    "    print(\"Sorted by land area in ascending order:\")\n",
    "    for i in NE:\n",
    "        print('{:s}  '.format(i[0]),end='')\n",
    "main()"
   ]
  },
  {
   "cell_type": "code",
   "execution_count": 42,
   "metadata": {},
   "outputs": [
    {
     "name": "stdout",
     "output_type": "stream",
     "text": [
      "Sorted by largest prime factor:\n",
      "[290, 1243, 1208, 1169, 865]\n"
     ]
    }
   ],
   "source": [
    "def main():\n",
    "    num = [865, 1169, 1208, 1243, 290]\n",
    "    num.sort(key=largest_prime_factor)\n",
    "    print(\"Sorted by largest prime factor:\")\n",
    "    print(num)\n",
    "def largest_prime_factor(num):\n",
    "    i = 2\n",
    "    n = num\n",
    "    while i * i <= n:\n",
    "        if n % i:\n",
    "            i += 1\n",
    "        else:\n",
    "            n //= i\n",
    "    return n\n",
    "main()    "
   ]
  },
  {
   "cell_type": "code",
   "execution_count": 1,
   "metadata": {},
   "outputs": [
    {
     "name": "stdout",
     "output_type": "stream",
     "text": [
      "John Adams\n",
      "John Q. Adams\n",
      "John Tyler\n",
      "John Kennedy\n",
      "Bill Clinton\n",
      "James Madison\n"
     ]
    }
   ],
   "source": [
    "def main():\n",
    "    f = open('USPres.txt').read().split('\\n')   \n",
    "    splited_list = [i.split() for i in f]\n",
    "    splited_list.sort(key=lambda val: len(val[0]))\n",
    "    for i in splited_list[:6]:\n",
    "        print((' ').join(i))\n",
    "main()"
   ]
  },
  {
   "cell_type": "code",
   "execution_count": 45,
   "metadata": {},
   "outputs": [
    {
     "name": "stdout",
     "output_type": "stream",
     "text": [
      "South Carolina\n",
      "Louisiana\n",
      "North Carolina\n",
      "California\n",
      "West Virginia\n",
      "South Dakota\n"
     ]
    }
   ],
   "source": [
    "def main():\n",
    "    f = open('States.txt').read().split('\\n')\n",
    "    f.sort(key=sortState, reverse=True)\n",
    "    for val in f[:6]:\n",
    "        print(val)\n",
    "    \n",
    "def sortState(state):\n",
    "    vowels = ['a','e','i','o','u']\n",
    "    t_count = 0\n",
    "    for v in vowels:\n",
    "        if v in state.lower():\n",
    "            t_count += state.count(v)\n",
    "    return t_count        \n",
    "main()    "
   ]
  },
  {
   "cell_type": "code",
   "execution_count": null,
   "metadata": {
    "collapsed": true
   },
   "outputs": [],
   "source": [
    "def main():\n",
    "## Calculate new balance and minimum payment for a credit card.\n",
    "    (oldBalance, charges, credits) = inputData()\n",
    "    (newBalance, minimumPayment) = calculateNewValues(oldBalance,\n",
    "                               charges, credits)\n",
    "    displayNewData(newBalance, minimumPayment)\n",
    "def inputData():\n",
    "    oldBalance = float(input(\"Enter old balance: \"))\n",
    "    charges = float(input(\"Enter charges for month: \"))\n",
    "    credits = float(input(\"Enter credits: \"))\n",
    "    return (oldBalance, charges, credits)\n",
    "def calculateNewValues(oldBalance, charges, credits):\n",
    "    newBalance =  (1.015) * oldBalance + charges - credits\n",
    "    if newBalance <= 20:\n",
    "        minimumPayment = newBalance\n",
    "    else:\n",
    "        minimumPayment = 20 + 0.1 * (newBalance - 20)\n",
    "    return (newBalance, minimumPayment)\n",
    "def displayNewData(newBalance, minimumPayment):\n",
    "    print(\"New balance: ${0:0,.2f}\".format(newBalance))\n",
    "    print(\"Minimum payment: ${0:0,.2f}\".format(minimumPayment))\n",
    "main()    "
   ]
  },
  {
   "cell_type": "code",
   "execution_count": 46,
   "metadata": {},
   "outputs": [
    {
     "name": "stdout",
     "output_type": "stream",
     "text": [
      "Enter old balance: 200\n",
      "Enter charges for month: 150\n",
      "Enter credits: 100\n",
      "New balance: $253.00\n",
      "Minimum payment: $43.30\n"
     ]
    }
   ],
   "source": [
    "def main():\n",
    "    (old_bal, charges, credits) = data_input()\n",
    "    (new_bal, min_pay) = calculations(old_bal,charges,credits)\n",
    "    show_data(new_bal, min_pay)\n",
    "def data_input():\n",
    "    old_bal = float(input(\"Enter old balance: \"))\n",
    "    charges = float(input(\"Enter charges for month: \"))\n",
    "    credits = float(input(\"Enter credits: \"))\n",
    "    return (old_bal,charges,credits)\n",
    "def calculations(old_bal,charges,credits):\n",
    "    new_bal = 1.015 * old_bal + charges - credits\n",
    "    if new_bal <= 20:\n",
    "        min_pay = new_bal\n",
    "    else:\n",
    "        min_pay = 20 + 0.1 * (new_bal - 20)\n",
    "    return (new_bal, min_pay)\n",
    "def show_data(new_bal, min_pay):\n",
    "    print(\"New balance: ${:,.2f}\".format(new_bal))\n",
    "    print(\"Minimum payment: ${:,.2f}\".format(min_pay))\n",
    "main() "
   ]
  },
  {
   "cell_type": "code",
   "execution_count": 47,
   "metadata": {},
   "outputs": [
    {
     "name": "stdout",
     "output_type": "stream",
     "text": [
      "Enter hours worked: 42\n",
      "Enter hourly pay: 10\n",
      "Week’s pay: $430.00\n"
     ]
    }
   ],
   "source": [
    "def main():\n",
    "    (hours,pay) = data_input()\n",
    "    (week_pay) = calculations(hours,pay)\n",
    "    show_data(week_pay)\n",
    "    \n",
    "def data_input():\n",
    "    hours = float(input('Enter hours worked: '))\n",
    "    pay = float(input('Enter hourly pay: '))\n",
    "    return (hours,pay)\n",
    "\n",
    "def calculations(hours,pay):\n",
    "    if hours <= 40:\n",
    "        week_pay = hours * pay\n",
    "    else:\n",
    "        week_pay = (40 * pay) + (hours - 40) * (pay * 1.5)\n",
    "    return week_pay\n",
    "\n",
    "def show_data(week_pay):\n",
    "    print('Week’s pay: ${:,.2f}'.format(week_pay))\n",
    "main()"
   ]
  },
  {
   "cell_type": "code",
   "execution_count": 44,
   "metadata": {},
   "outputs": [
    {
     "name": "stdout",
     "output_type": "stream",
     "text": [
      "Sorted by sum of odd digits:\n",
      "[1169, 290, 865, 1243, 1208]\n"
     ]
    }
   ],
   "source": [
    "def main():\n",
    "    num = [865, 1169, 1208, 1243, 290]\n",
    "    num.sort(key=sum_digit, reverse=True)\n",
    "    print(\"Sorted by sum of odd digits:\")\n",
    "    print(num)\n",
    "def sum_digit(num):\n",
    "    list_num = list(str(num))\n",
    "    total = 0\n",
    "    for i in range(len(list_num)):\n",
    "        if int(list_num[i]) % 2 == 1:\n",
    "            total += int(list_num[i])\n",
    "    return total\n",
    "main()    "
   ]
  }
 ],
 "metadata": {
  "kernelspec": {
   "display_name": "Python 3",
   "language": "python",
   "name": "python3"
  },
  "language_info": {
   "codemirror_mode": {
    "name": "ipython",
    "version": 3
   },
   "file_extension": ".py",
   "mimetype": "text/x-python",
   "name": "python",
   "nbconvert_exporter": "python",
   "pygments_lexer": "ipython3",
   "version": "3.6.3"
  }
 },
 "nbformat": 4,
 "nbformat_minor": 2
}
