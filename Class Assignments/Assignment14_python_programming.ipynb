{
 "cells": [
  {
   "cell_type": "code",
   "execution_count": 1,
   "metadata": {},
   "outputs": [
    {
     "name": "stdout",
     "output_type": "stream",
     "text": [
      "['all', 'for', 'one']\n"
     ]
    }
   ],
   "source": [
    "L = [\"one\", \"for\", \"all\"] \n",
    "L[0], L[-1] = L[-1], L[0] \n",
    "print(L)"
   ]
  },
  {
   "cell_type": "code",
   "execution_count": 2,
   "metadata": {},
   "outputs": [
    {
     "name": "stdout",
     "output_type": "stream",
     "text": [
      "Enter name with three parts: Guido van Rossum.\n",
      "Guido Rossum.\n"
     ]
    }
   ],
   "source": [
    "name = input(\"Enter name with three parts: \")\n",
    "L = name.split()\n",
    "print(L[0], L[2])"
   ]
  },
  {
   "cell_type": "code",
   "execution_count": 3,
   "metadata": {},
   "outputs": [
    {
     "name": "stdout",
     "output_type": "stream",
     "text": [
      "Python\n"
     ]
    }
   ],
   "source": [
    "list1 = ['h', 'o', 'n', 'P', 'y', 't'] \n",
    "list2 = list1[3:] + list1[:3] \n",
    "print((\"\").join(list2))"
   ]
  },
  {
   "cell_type": "code",
   "execution_count": 4,
   "metadata": {},
   "outputs": [
    {
     "name": "stdout",
     "output_type": "stream",
     "text": [
      "Less is more.\n"
     ]
    }
   ],
   "source": [
    "list1 = [\"is\", \"Less\", \"more.\"] \n",
    "list1[0], list1[1] = list1[1], list1[0] \n",
    "print(\" \".join(list1))"
   ]
  },
  {
   "cell_type": "code",
   "execution_count": 5,
   "metadata": {},
   "outputs": [
    {
     "name": "stdout",
     "output_type": "stream",
     "text": [
      "merry-go-round\n"
     ]
    }
   ],
   "source": [
    "carousel = [\"merry\", \"go\", \"round\"] \n",
    "print(('-').join(carousel))"
   ]
  },
  {
   "cell_type": "code",
   "execution_count": 6,
   "metadata": {},
   "outputs": [
    {
     "name": "stdout",
     "output_type": "stream",
     "text": [
      "['around', 'the', 'clock']\n"
     ]
    }
   ],
   "source": [
    "allDay = \"around-the-clock\" \n",
    "print(allDay.split('-'))"
   ]
  },
  {
   "cell_type": "code",
   "execution_count": 7,
   "metadata": {},
   "outputs": [
    {
     "name": "stdout",
     "output_type": "stream",
     "text": [
      "['France', 'England', 'Spain']\n"
     ]
    }
   ],
   "source": [
    "nations = \"France\\nEngland\\nSpain\" \n",
    "countries = nations.split() \n",
    "print(countries)"
   ]
  },
  {
   "cell_type": "code",
   "execution_count": 10,
   "metadata": {},
   "outputs": [
    {
     "name": "stdout",
     "output_type": "stream",
     "text": [
      "abc\n"
     ]
    }
   ],
   "source": [
    "# The three lines of Abc.txt contain a b, c, d \n",
    "infile = open(\"Abc.txt\", 'r')\n",
    "alpha = [line.rstrip() for line in infile] \n",
    "infile.close()\n",
    "word = (\"\").join(alpha)\n",
    "print(word)"
   ]
  },
  {
   "cell_type": "code",
   "execution_count": 11,
   "metadata": {},
   "outputs": [
    {
     "name": "stdout",
     "output_type": "stream",
     "text": [
      "Live let live.\n"
     ]
    }
   ],
   "source": [
    "# The two lines of Live.txt contain Live, let \n",
    "infile = open(\"Live.txt\", 'r')\n",
    "words = [line.rstrip() for line in infile]\n",
    "infile.close()\n",
    "words.append(words[0].lower())\n",
    "quote = (\" \").join(words) + '.'\n",
    "print(quote)"
   ]
  },
  {
   "cell_type": "code",
   "execution_count": 12,
   "metadata": {},
   "outputs": [
    {
     "name": "stdout",
     "output_type": "stream",
     "text": [
      "Largest Number: 8\n",
      "Length: 4\n",
      "Total: 16\n",
      "Number list: [6, 2, 8, 0]\n"
     ]
    }
   ],
   "source": [
    "nums = (6, 2, 8, 0)\n",
    "print(\"Largest Number:\", max(nums)) \n",
    "print(\"Length:\", len(nums)) \n",
    "print(\"Total:\", sum(nums)) \n",
    "print(\"Number list:\", list(nums))"
   ]
  },
  {
   "cell_type": "code",
   "execution_count": 14,
   "metadata": {},
   "outputs": [
    {
     "name": "stdout",
     "output_type": "stream",
     "text": [
      "dairy\n"
     ]
    }
   ],
   "source": [
    "word = \"diary\"\n",
    "list1 = list(word) \n",
    "list1.insert(3, list1[1]) \n",
    "del list1[1]\n",
    "word = \"\".join(list1) \n",
    "print(word)"
   ]
  },
  {
   "cell_type": "code",
   "execution_count": 22,
   "metadata": {},
   "outputs": [
    {
     "name": "stdout",
     "output_type": "stream",
     "text": [
      "Enter value of M: 30\n",
      "Enter value of N: 35\n",
      "Greatest Common Divisor: 5\n"
     ]
    }
   ],
   "source": [
    "def main():\n",
    "    m,n = take_input()\n",
    "    gcd = gcd_calculations(m,n)\n",
    "    print('Greatest Common Divisor: {}'.format(gcd))\n",
    "    \n",
    "def take_input():\n",
    "    m = int(input('Enter value of M: '))\n",
    "    n = int(input('Enter value of N: '))\n",
    "    return m,n\n",
    "\n",
    "def gcd_calculations(m,n):\n",
    "    while n!=0:\n",
    "        t = n\n",
    "        n = m % n \n",
    "        m = t\n",
    "    return m\n",
    "main()"
   ]
  },
  {
   "cell_type": "code",
   "execution_count": 23,
   "metadata": {},
   "outputs": [
    {
     "name": "stdout",
     "output_type": "stream",
     "text": [
      "Person will be 45 \n",
      "in the year 2025.\n"
     ]
    }
   ],
   "source": [
    "age = 1\n",
    "while (1980 + age) != (age * age):\n",
    "    age += 1\n",
    "print(\"Person will be {} \\nin the year {1}.\".format(age, age * age))"
   ]
  },
  {
   "cell_type": "code",
   "execution_count": 25,
   "metadata": {},
   "outputs": [
    {
     "name": "stdout",
     "output_type": "stream",
     "text": [
      "Loan will be half paid \n",
      "off after 33 months.\n"
     ]
    }
   ],
   "source": [
    "principal = 15000\n",
    "balance = principal \n",
    "monthly_payment = 290\n",
    "monthly_factor = 1.005\n",
    "month = 0\n",
    "while(balance >= principal / 2):\n",
    "    balance =  (monthly_factor * balance) - monthly_payment\n",
    "    month += 1\n",
    "print(\"Loan will be half paid \\noff after\", month, \"months.\")"
   ]
  },
  {
   "cell_type": "code",
   "execution_count": 28,
   "metadata": {},
   "outputs": [
    {
     "name": "stdout",
     "output_type": "stream",
     "text": [
      "The amount of cobalt-60 remaining \n",
      "after five years is 5.28 grams.\n"
     ]
    }
   ],
   "source": [
    "intial_amount = 10\n",
    "percentage_reduction = 12\n",
    "total_years = 5\n",
    "for year in range(total_years):\n",
    "    intial_amount *= (1-(percentage_reduction/100))\n",
    "print('The amount of cobalt-60 remaining \\nafter five years is {:.2f} grams.'.format(intial_amount))"
   ]
  },
  {
   "cell_type": "code",
   "execution_count": 31,
   "metadata": {},
   "outputs": [
    {
     "name": "stdout",
     "output_type": "stream",
     "text": [
      "Enter a phrase: Less is more.\n",
      "The phrase contains 4 vowels.\n"
     ]
    }
   ],
   "source": [
    "vowels = ['a','e','i','o','u']\n",
    "words = input('Enter a phrase: ')\n",
    "count = 0\n",
    "for word in words:\n",
    "    if word in vowels:\n",
    "        count += 1\n",
    "print('The phrase contains {} vowels.'.format(count))        "
   ]
  },
  {
   "cell_type": "code",
   "execution_count": 36,
   "metadata": {},
   "outputs": [
    {
     "name": "stdout",
     "output_type": "stream",
     "text": [
      "The sum 1 + 1/2 + 1/3 + ... + 1/100 \n",
      "is 5.18738 to five decimal places.\n"
     ]
    }
   ],
   "source": [
    "total_value = 100\n",
    "fractions = 0\n",
    "for value in range(2,(total_value + 1)):\n",
    "    fractions += (1/value)\n",
    "print('The sum 1 + 1/2 + 1/3 + ... + 1/100 \\nis {:.5f} to five decimal places.'.format(fractions + 1))"
   ]
  },
  {
   "cell_type": "code",
   "execution_count": 52,
   "metadata": {},
   "outputs": [
    {
     "name": "stdout",
     "output_type": "stream",
     "text": [
      "Total occurrences are 3\n"
     ]
    }
   ],
   "source": [
    "def occurrences(string, substring):\n",
    "    count = 0\n",
    "    one_string = string.replace(substring,'1')\n",
    "    for one in one_string:\n",
    "        if one == '1':\n",
    "            count += 1\n",
    "    return count\n",
    "print('Total occurrences are '+ str(occurrences('lolahogalolalole', 'lol')))"
   ]
  },
  {
   "cell_type": "code",
   "execution_count": 75,
   "metadata": {},
   "outputs": [
    {
     "name": "stdout",
     "output_type": "stream",
     "text": [
      "Enter a positive integer: 5\n",
      "5! is 120\n"
     ]
    }
   ],
   "source": [
    "def factorial():\n",
    "    integer = int(input('Enter a positive integer: '))\n",
    "    factorial = 1\n",
    "    for i in reversed(range(1,integer + 1)):\n",
    "        factorial *= i\n",
    "    return factorial    \n",
    "print('{}! is {}'.format(integer,factorial()))"
   ]
  },
  {
   "cell_type": "code",
   "execution_count": 73,
   "metadata": {},
   "outputs": [
    {
     "name": "stdout",
     "output_type": "stream",
     "text": [
      "Enter first name: John\n",
      "Enter last name: Doe\n",
      "Enter current salary: 48000\n",
      "New salary for John Doe: $58,160.00\n"
     ]
    }
   ],
   "source": [
    "def main():\n",
    "    first_name, last_name, salary = user_input()\n",
    "    new_salary = calculation(salary)\n",
    "    salary_output(first_name,last_name,new_salary)\n",
    "    \n",
    "def user_input():\n",
    "    first_name = input('Enter first name: ')\n",
    "    last_name = input('Enter last name: ')\n",
    "    salary = float(input('Enter current salary: '))\n",
    "    return first_name, last_name, salary\n",
    "\n",
    "def calculation(salary):\n",
    "    new_salary = 0\n",
    "    if salary < 40000:\n",
    "        new_salary = salary * (1.05)\n",
    "    elif salary > 40000:\n",
    "        new_salary = salary + ((salary - 40000) * (1.02)) + 2000\n",
    "    else:\n",
    "        new_salary = salary + 2000\n",
    "        \n",
    "    return new_salary  \n",
    "\n",
    "def salary_output(first_name,last_name,new_salary):\n",
    "    print('New salary for {} {}: ${:,.2f}'.format(first_name,last_name,new_salary))\n",
    "    \n",
    "main()"
   ]
  },
  {
   "cell_type": "code",
   "execution_count": null,
   "metadata": {
    "collapsed": true
   },
   "outputs": [],
   "source": []
  }
 ],
 "metadata": {
  "kernelspec": {
   "display_name": "Python 3",
   "language": "python",
   "name": "python3"
  },
  "language_info": {
   "codemirror_mode": {
    "name": "ipython",
    "version": 3
   },
   "file_extension": ".py",
   "mimetype": "text/x-python",
   "name": "python",
   "nbconvert_exporter": "python",
   "pygments_lexer": "ipython3",
   "version": "3.6.3"
  }
 },
 "nbformat": 4,
 "nbformat_minor": 2
}
